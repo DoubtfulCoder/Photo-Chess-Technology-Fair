{
  "cells": [
    {
      "cell_type": "markdown",
      "metadata": {
        "id": "gkK9LrsPrlhJ"
      },
      "source": [
        "<a href=\"https://colab.research.google.com/github/khanhlvg/tflite_raspberry_pi/blob/main/object_detection/Train_custom_model_tutorial.ipynb\" target=\"_parent\"><img src=\"https://colab.research.google.com/assets/colab-badge.svg\" alt=\"Open In Colab\"/></a>"
      ]
    },
    {
      "cell_type": "markdown",
      "metadata": {
        "id": "gf2if_fGDaWc"
      },
      "source": [
        "##### Copyright 2021 The TensorFlow Authors."
      ]
    },
    {
      "cell_type": "markdown",
      "metadata": {
        "id": "PpJEzDG6DK2Q"
      },
      "source": [
        "# Train a custom object detection model with TensorFlow Lite Model Maker\n",
        "\n",
        "In this colab notebook, you'll learn how to use the [TensorFlow Lite Model Maker](https://www.tensorflow.org/lite/guide/model_maker) to train a custom object detection model to detect Android figurines and how to put the model on a Raspberry Pi.\n",
        "\n",
        "The Model Maker library uses *transfer learning* to simplify the process of training a TensorFlow Lite model using a custom dataset. Retraining a TensorFlow Lite model with your own custom dataset reduces the amount of training data required and will shorten the training time.\n"
      ]
    },
    {
      "cell_type": "markdown",
      "metadata": {
        "id": "BRYjtwRZGBOI"
      },
      "source": [
        "## Preparation\n",
        "\n",
        "### Install the required packages\n",
        "Start by installing the required packages, including the Model Maker package from the [GitHub repo](https://github.com/tensorflow/examples/tree/master/tensorflow_examples/lite/model_maker) and the pycocotools library you'll use for evaluation."
      ]
    },
    {
      "cell_type": "code",
      "execution_count": 1,
      "metadata": {
        "id": "35BJmtVpAP_n",
        "colab": {
          "base_uri": "https://localhost:8080/"
        },
        "outputId": "cc53c530-bd6a-435a-bd9b-aced0ed74885"
      },
      "outputs": [
        {
          "output_type": "stream",
          "name": "stdout",
          "text": [
            "\u001b[K     |████████████████████████████████| 616 kB 15.0 MB/s \n",
            "\u001b[K     |████████████████████████████████| 77 kB 6.2 MB/s \n",
            "\u001b[K     |████████████████████████████████| 840 kB 56.6 MB/s \n",
            "\u001b[K     |████████████████████████████████| 1.1 MB 52.1 MB/s \n",
            "\u001b[K     |████████████████████████████████| 596 kB 53.6 MB/s \n",
            "\u001b[K     |████████████████████████████████| 3.4 MB 48.7 MB/s \n",
            "\u001b[K     |████████████████████████████████| 1.2 MB 50.2 MB/s \n",
            "\u001b[K     |████████████████████████████████| 87 kB 6.6 MB/s \n",
            "\u001b[K     |████████████████████████████████| 120 kB 61.6 MB/s \n",
            "\u001b[K     |████████████████████████████████| 213 kB 67.2 MB/s \n",
            "\u001b[K     |████████████████████████████████| 1.1 MB 58.7 MB/s \n",
            "\u001b[K     |████████████████████████████████| 6.4 MB 59.0 MB/s \n",
            "\u001b[K     |████████████████████████████████| 25.3 MB 1.2 MB/s \n",
            "\u001b[K     |████████████████████████████████| 47.7 MB 1.5 MB/s \n",
            "\u001b[K     |████████████████████████████████| 352 kB 73.2 MB/s \n",
            "\u001b[K     |████████████████████████████████| 99 kB 11.1 MB/s \n",
            "\u001b[K     |████████████████████████████████| 210 kB 75.3 MB/s \n",
            "\u001b[?25h  Building wheel for fire (setup.py) ... \u001b[?25l\u001b[?25hdone\n",
            "  Building wheel for py-cpuinfo (setup.py) ... \u001b[?25l\u001b[?25hdone\n"
          ]
        }
      ],
      "source": [
        "!pip install -q tflite-model-maker\n",
        "!pip install -q tflite-support"
      ]
    },
    {
      "cell_type": "markdown",
      "metadata": {
        "id": "prQ86DdtD317"
      },
      "source": [
        "Import the required packages."
      ]
    },
    {
      "cell_type": "code",
      "execution_count": 2,
      "metadata": {
        "id": "l4QQTXHHATDS"
      },
      "outputs": [],
      "source": [
        "import numpy as np\n",
        "import os\n",
        "\n",
        "from tflite_model_maker.config import ExportFormat, QuantizationConfig\n",
        "from tflite_model_maker import model_spec\n",
        "from tflite_model_maker import object_detector\n",
        "\n",
        "from tflite_support import metadata\n",
        "\n",
        "import tensorflow as tf\n",
        "assert tf.__version__.startswith('2')\n",
        "\n",
        "tf.get_logger().setLevel('ERROR')\n",
        "from absl import logging\n",
        "logging.set_verbosity(logging.ERROR)"
      ]
    },
    {
      "cell_type": "markdown",
      "metadata": {
        "id": "Yxh3KInCFeB-"
      },
      "source": [
        "## Train the object detection model\n",
        "\n",
        "### Step 1: Load the dataset\n",
        "\n",
        "* Images in `train_data` is used to train the custom object detection model.\n",
        "* Images in `val_data` is used to check if the model can generalize well to new images that it hasn't seen before."
      ]
    },
    {
      "cell_type": "code",
      "source": [
        "from google.colab import drive\n",
        "drive.mount('/content/drive')"
      ],
      "metadata": {
        "colab": {
          "base_uri": "https://localhost:8080/"
        },
        "id": "G20Vg5-W5Ikt",
        "outputId": "341f4cf2-a513-48c9-813b-96d592a063ef"
      },
      "execution_count": 4,
      "outputs": [
        {
          "output_type": "stream",
          "name": "stdout",
          "text": [
            "Mounted at /content/drive\n"
          ]
        }
      ]
    },
    {
      "cell_type": "code",
      "execution_count": 5,
      "metadata": {
        "id": "WiAahdsQAdT7"
      },
      "outputs": [],
      "source": [
        "board_train_data = object_detector.DataLoader.from_pascal_voc(\n",
        "    '/content/drive/My Drive/Technology fair/Images/board/train',\n",
        "    '/content/drive/My Drive/Technology fair/Images/board/train',\n",
        "    ['Board']\n",
        ")\n",
        "\n",
        "board_val_data = object_detector.DataLoader.from_pascal_voc(\n",
        "    '/content/drive/My Drive/Technology fair/Images/board/test',\n",
        "    '/content/drive/My Drive/Technology fair/Images/board/test',\n",
        "    ['Board']\n",
        ")\n",
        "# print(train_data.size)\n",
        "# print(val_data.size)\n"
      ]
    },
    {
      "cell_type": "code",
      "source": [
        "print(board_train_data.size)\n",
        "print(board_val_data.size)"
      ],
      "metadata": {
        "colab": {
          "base_uri": "https://localhost:8080/"
        },
        "id": "GWVRDSUihgL8",
        "outputId": "038a2841-cb46-4b82-c644-0c10aa304223"
      },
      "execution_count": 6,
      "outputs": [
        {
          "output_type": "stream",
          "name": "stdout",
          "text": [
            "85\n",
            "13\n"
          ]
        }
      ]
    },
    {
      "cell_type": "code",
      "source": [
        "pieces_train_data = object_detector.DataLoader.from_pascal_voc(\n",
        "    '/content/drive/My Drive/Technology fair/Images/pieces/train',\n",
        "    '/content/drive/My Drive/Technology fair/Images/pieces/train',\n",
        "    ['WhiteKing', 'WhitePawn', 'WhiteRook', 'WhiteQueen', 'WhiteKnight', 'WhiteBishop',\n",
        "     'BlackKing', 'BlackPawn', 'BlackRook', 'BlackQueen', 'BlackKnight', 'BlackBishop'\n",
        "    ]\n",
        ")\n",
        "\n",
        "pieces_val_data = object_detector.DataLoader.from_pascal_voc(\n",
        "    '/content/drive/My Drive/Technology fair/Images/pieces/test',\n",
        "    '/content/drive/My Drive/Technology fair/Images/pieces/test',\n",
        "    ['WhiteKing', 'WhitePawn', 'WhiteRook', 'WhiteQueen', 'WhiteKnight', 'WhiteBishop',\n",
        "     'BlackKing', 'BlackPawn', 'BlackRook', 'BlackQueen', 'BlackKnight', 'BlackBishop'\n",
        "    ]\n",
        ")\n",
        "print(pieces_train_data.size)\n",
        "print(pieces_val_data.size)"
      ],
      "metadata": {
        "colab": {
          "base_uri": "https://localhost:8080/"
        },
        "id": "cUfGQ3NwTyEa",
        "outputId": "67b0ce98-e019-4f1c-e2e0-7c6861061d2b"
      },
      "execution_count": 7,
      "outputs": [
        {
          "output_type": "stream",
          "name": "stdout",
          "text": [
            "85\n",
            "13\n"
          ]
        }
      ]
    },
    {
      "cell_type": "markdown",
      "metadata": {
        "id": "UNRhB8N7GHXj"
      },
      "source": [
        "### Step 2: Select a model architecture\n",
        "\n",
        "EfficientDet-Lite[0-4] are a family of mobile/IoT-friendly object detection models derived from the [EfficientDet](https://arxiv.org/abs/1911.09070) architecture.\n",
        "\n",
        "Here is the performance of each EfficientDet-Lite models compared to each others.\n",
        "\n",
        "| Model architecture | Size(MB)* | Latency(ms)** | Average Precision*** |\n",
        "|--------------------|-----------|---------------|----------------------|\n",
        "| EfficientDet-Lite0 | 4.4       | 146           | 25.69%               |\n",
        "| EfficientDet-Lite1 | 5.8       | 259           | 30.55%               |\n",
        "| EfficientDet-Lite2 | 7.2       | 396           | 33.97%               |\n",
        "| EfficientDet-Lite3 | 11.4      | 716           | 37.70%               |\n",
        "| EfficientDet-Lite4 | 19.9      | 1886          | 41.96%               |\n",
        "\n",
        "<i> * Size of the integer quantized models. <br/>\n",
        "** Latency measured on Raspberry Pi 4 using 4 threads on CPU. <br/>\n",
        "*** Average Precision is the mAP (mean Average Precision) on the COCO 2017 validation dataset.\n",
        "</i>\n",
        "\n",
        "In this notebook, we use EfficientDet-Lite0 to train our model. You can choose other model architectures depending on whether speed or accuracy is more important to you."
      ]
    },
    {
      "cell_type": "code",
      "execution_count": 9,
      "metadata": {
        "id": "GZOojrDHAY1J"
      },
      "outputs": [],
      "source": [
        "spec = model_spec.get('efficientdet_lite3')"
      ]
    },
    {
      "cell_type": "markdown",
      "metadata": {
        "id": "5aeDU4mIM4ft"
      },
      "source": [
        "### Step 3: Train the TensorFlow model with the training data.\n",
        "\n",
        "* Set `epochs = 20`, which means it will go through the training dataset 20 times. You can look at the validation accuracy during training and stop when you see validation loss (`val_loss`) stop decreasing to avoid overfitting.\n",
        "* Set `batch_size = 4` here so you will see that it takes 15 steps to go through the 62 images in the training dataset.\n",
        "* Set `train_whole_model=True` to fine-tune the whole model instead of just training the head layer to improve accuracy. The trade-off is that it may take longer to train the model."
      ]
    },
    {
      "cell_type": "code",
      "execution_count": null,
      "metadata": {
        "colab": {
          "base_uri": "https://localhost:8080/"
        },
        "id": "_MClfpsJAfda",
        "outputId": "b7e0db52-d45a-45f0-8e3e-d1539f499c9e"
      },
      "outputs": [
        {
          "output_type": "stream",
          "name": "stdout",
          "text": [
            "Epoch 1/75\n",
            "10/10 [==============================] - 68s 4s/step - det_loss: 1.8515 - cls_loss: 1.2078 - box_loss: 0.0129 - reg_l2_loss: 0.0649 - loss: 1.9164 - learning_rate: 0.0090 - gradient_norm: 1.2712 - val_det_loss: 1.8008 - val_cls_loss: 1.2301 - val_box_loss: 0.0114 - val_reg_l2_loss: 0.0649 - val_loss: 1.8658\n",
            "Epoch 2/75\n",
            "10/10 [==============================] - 28s 3s/step - det_loss: 1.6784 - cls_loss: 1.1718 - box_loss: 0.0101 - reg_l2_loss: 0.0649 - loss: 1.7433 - learning_rate: 0.0100 - gradient_norm: 1.2372 - val_det_loss: 1.6646 - val_cls_loss: 1.1852 - val_box_loss: 0.0096 - val_reg_l2_loss: 0.0649 - val_loss: 1.7296\n",
            "Epoch 3/75\n",
            "10/10 [==============================] - 35s 4s/step - det_loss: 1.5053 - cls_loss: 1.1016 - box_loss: 0.0081 - reg_l2_loss: 0.0649 - loss: 1.5702 - learning_rate: 0.0100 - gradient_norm: 1.4982 - val_det_loss: 1.5140 - val_cls_loss: 1.1008 - val_box_loss: 0.0083 - val_reg_l2_loss: 0.0649 - val_loss: 1.5789\n",
            "Epoch 4/75\n",
            "10/10 [==============================] - 30s 3s/step - det_loss: 1.3034 - cls_loss: 0.9681 - box_loss: 0.0067 - reg_l2_loss: 0.0650 - loss: 1.3684 - learning_rate: 0.0099 - gradient_norm: 1.3880 - val_det_loss: 1.2633 - val_cls_loss: 0.9264 - val_box_loss: 0.0067 - val_reg_l2_loss: 0.0650 - val_loss: 1.3283\n",
            "Epoch 5/75\n",
            "10/10 [==============================] - 48s 5s/step - det_loss: 1.0750 - cls_loss: 0.7827 - box_loss: 0.0058 - reg_l2_loss: 0.0650 - loss: 1.1400 - learning_rate: 0.0099 - gradient_norm: 1.7558 - val_det_loss: 1.1169 - val_cls_loss: 0.8059 - val_box_loss: 0.0062 - val_reg_l2_loss: 0.0650 - val_loss: 1.1819\n",
            "Epoch 6/75\n",
            "10/10 [==============================] - 22s 2s/step - det_loss: 0.9100 - cls_loss: 0.6657 - box_loss: 0.0049 - reg_l2_loss: 0.0650 - loss: 0.9750 - learning_rate: 0.0099 - gradient_norm: 1.5690 - val_det_loss: 0.9626 - val_cls_loss: 0.6909 - val_box_loss: 0.0054 - val_reg_l2_loss: 0.0650 - val_loss: 1.0275\n",
            "Epoch 7/75\n",
            "10/10 [==============================] - 33s 4s/step - det_loss: 0.8576 - cls_loss: 0.6436 - box_loss: 0.0043 - reg_l2_loss: 0.0650 - loss: 0.9226 - learning_rate: 0.0098 - gradient_norm: 1.4893 - val_det_loss: 0.8410 - val_cls_loss: 0.6030 - val_box_loss: 0.0048 - val_reg_l2_loss: 0.0650 - val_loss: 0.9060\n",
            "Epoch 8/75\n",
            "10/10 [==============================] - 32s 3s/step - det_loss: 0.7525 - cls_loss: 0.5578 - box_loss: 0.0039 - reg_l2_loss: 0.0650 - loss: 0.8175 - learning_rate: 0.0097 - gradient_norm: 1.2686 - val_det_loss: 0.7948 - val_cls_loss: 0.5776 - val_box_loss: 0.0043 - val_reg_l2_loss: 0.0650 - val_loss: 0.8598\n",
            "Epoch 9/75\n",
            "10/10 [==============================] - 31s 3s/step - det_loss: 0.7134 - cls_loss: 0.5586 - box_loss: 0.0031 - reg_l2_loss: 0.0650 - loss: 0.7784 - learning_rate: 0.0097 - gradient_norm: 1.3027 - val_det_loss: 0.7907 - val_cls_loss: 0.6035 - val_box_loss: 0.0037 - val_reg_l2_loss: 0.0650 - val_loss: 0.8557\n",
            "Epoch 10/75\n",
            "10/10 [==============================] - 39s 4s/step - det_loss: 0.7372 - cls_loss: 0.5611 - box_loss: 0.0035 - reg_l2_loss: 0.0650 - loss: 0.8022 - learning_rate: 0.0096 - gradient_norm: 1.8742 - val_det_loss: 0.7340 - val_cls_loss: 0.5152 - val_box_loss: 0.0044 - val_reg_l2_loss: 0.0650 - val_loss: 0.7990\n",
            "Epoch 11/75\n",
            "10/10 [==============================] - 27s 3s/step - det_loss: 0.6425 - cls_loss: 0.4867 - box_loss: 0.0031 - reg_l2_loss: 0.0650 - loss: 0.7075 - learning_rate: 0.0095 - gradient_norm: 1.3018 - val_det_loss: 0.7422 - val_cls_loss: 0.5458 - val_box_loss: 0.0039 - val_reg_l2_loss: 0.0650 - val_loss: 0.8072\n",
            "Epoch 12/75\n",
            "10/10 [==============================] - 32s 4s/step - det_loss: 0.6669 - cls_loss: 0.5336 - box_loss: 0.0027 - reg_l2_loss: 0.0650 - loss: 0.7320 - learning_rate: 0.0094 - gradient_norm: 1.3440 - val_det_loss: 0.7271 - val_cls_loss: 0.5304 - val_box_loss: 0.0039 - val_reg_l2_loss: 0.0650 - val_loss: 0.7921\n",
            "Epoch 13/75\n",
            "10/10 [==============================] - 32s 4s/step - det_loss: 0.6476 - cls_loss: 0.5078 - box_loss: 0.0028 - reg_l2_loss: 0.0650 - loss: 0.7126 - learning_rate: 0.0093 - gradient_norm: 1.1506 - val_det_loss: 0.7323 - val_cls_loss: 0.5221 - val_box_loss: 0.0042 - val_reg_l2_loss: 0.0650 - val_loss: 0.7973\n",
            "Epoch 14/75\n",
            "10/10 [==============================] - 31s 3s/step - det_loss: 0.6013 - cls_loss: 0.4800 - box_loss: 0.0024 - reg_l2_loss: 0.0650 - loss: 0.6663 - learning_rate: 0.0092 - gradient_norm: 1.0781 - val_det_loss: 0.6662 - val_cls_loss: 0.5130 - val_box_loss: 0.0031 - val_reg_l2_loss: 0.0650 - val_loss: 0.7312\n",
            "Epoch 15/75\n",
            "10/10 [==============================] - 39s 4s/step - det_loss: 0.5686 - cls_loss: 0.4625 - box_loss: 0.0021 - reg_l2_loss: 0.0650 - loss: 0.6336 - learning_rate: 0.0091 - gradient_norm: 1.0768 - val_det_loss: 0.6806 - val_cls_loss: 0.5058 - val_box_loss: 0.0035 - val_reg_l2_loss: 0.0650 - val_loss: 0.7456\n",
            "Epoch 16/75\n",
            "10/10 [==============================] - 28s 3s/step - det_loss: 0.5806 - cls_loss: 0.4626 - box_loss: 0.0024 - reg_l2_loss: 0.0650 - loss: 0.6456 - learning_rate: 0.0090 - gradient_norm: 1.1091 - val_det_loss: 0.6605 - val_cls_loss: 0.5055 - val_box_loss: 0.0031 - val_reg_l2_loss: 0.0650 - val_loss: 0.7255\n",
            "Epoch 17/75\n",
            "10/10 [==============================] - 32s 3s/step - det_loss: 0.5515 - cls_loss: 0.4374 - box_loss: 0.0023 - reg_l2_loss: 0.0650 - loss: 0.6166 - learning_rate: 0.0088 - gradient_norm: 1.2350 - val_det_loss: 0.6736 - val_cls_loss: 0.5141 - val_box_loss: 0.0032 - val_reg_l2_loss: 0.0650 - val_loss: 0.7386\n",
            "Epoch 18/75\n",
            "10/10 [==============================] - 32s 3s/step - det_loss: 0.5661 - cls_loss: 0.4644 - box_loss: 0.0020 - reg_l2_loss: 0.0650 - loss: 0.6311 - learning_rate: 0.0087 - gradient_norm: 1.1202 - val_det_loss: 0.6738 - val_cls_loss: 0.5384 - val_box_loss: 0.0027 - val_reg_l2_loss: 0.0650 - val_loss: 0.7388\n",
            "Epoch 19/75\n",
            "10/10 [==============================] - 32s 3s/step - det_loss: 0.5253 - cls_loss: 0.4353 - box_loss: 0.0018 - reg_l2_loss: 0.0650 - loss: 0.5903 - learning_rate: 0.0085 - gradient_norm: 1.1586 - val_det_loss: 0.6298 - val_cls_loss: 0.5085 - val_box_loss: 0.0024 - val_reg_l2_loss: 0.0650 - val_loss: 0.6949\n",
            "Epoch 20/75\n",
            "10/10 [==============================] - 42s 5s/step - det_loss: 0.5767 - cls_loss: 0.4629 - box_loss: 0.0023 - reg_l2_loss: 0.0650 - loss: 0.6417 - learning_rate: 0.0084 - gradient_norm: 1.3455 - val_det_loss: 0.6867 - val_cls_loss: 0.4943 - val_box_loss: 0.0038 - val_reg_l2_loss: 0.0650 - val_loss: 0.7517\n",
            "Epoch 21/75\n",
            "10/10 [==============================] - 26s 3s/step - det_loss: 0.5052 - cls_loss: 0.4192 - box_loss: 0.0017 - reg_l2_loss: 0.0650 - loss: 0.5703 - learning_rate: 0.0082 - gradient_norm: 1.1713 - val_det_loss: 0.6201 - val_cls_loss: 0.4892 - val_box_loss: 0.0026 - val_reg_l2_loss: 0.0650 - val_loss: 0.6851\n",
            "Epoch 22/75\n",
            "10/10 [==============================] - 30s 3s/step - det_loss: 0.5180 - cls_loss: 0.4423 - box_loss: 0.0015 - reg_l2_loss: 0.0650 - loss: 0.5830 - learning_rate: 0.0081 - gradient_norm: 1.0624 - val_det_loss: 0.6033 - val_cls_loss: 0.4843 - val_box_loss: 0.0024 - val_reg_l2_loss: 0.0650 - val_loss: 0.6683\n",
            "Epoch 23/75\n",
            "10/10 [==============================] - 33s 4s/step - det_loss: 0.5311 - cls_loss: 0.4416 - box_loss: 0.0018 - reg_l2_loss: 0.0650 - loss: 0.5961 - learning_rate: 0.0079 - gradient_norm: 1.1167 - val_det_loss: 0.5738 - val_cls_loss: 0.4749 - val_box_loss: 0.0020 - val_reg_l2_loss: 0.0650 - val_loss: 0.6388\n",
            "Epoch 24/75\n",
            "10/10 [==============================] - 31s 3s/step - det_loss: 0.4853 - cls_loss: 0.4047 - box_loss: 0.0016 - reg_l2_loss: 0.0650 - loss: 0.5503 - learning_rate: 0.0077 - gradient_norm: 1.2144 - val_det_loss: 0.5878 - val_cls_loss: 0.4678 - val_box_loss: 0.0024 - val_reg_l2_loss: 0.0650 - val_loss: 0.6528\n",
            "Epoch 25/75\n",
            "10/10 [==============================] - 40s 4s/step - det_loss: 0.5279 - cls_loss: 0.4520 - box_loss: 0.0015 - reg_l2_loss: 0.0650 - loss: 0.5929 - learning_rate: 0.0075 - gradient_norm: 1.2102 - val_det_loss: 0.5605 - val_cls_loss: 0.4661 - val_box_loss: 0.0019 - val_reg_l2_loss: 0.0650 - val_loss: 0.6255\n",
            "Epoch 26/75\n",
            "10/10 [==============================] - 28s 3s/step - det_loss: 0.5082 - cls_loss: 0.4227 - box_loss: 0.0017 - reg_l2_loss: 0.0650 - loss: 0.5733 - learning_rate: 0.0073 - gradient_norm: 1.2603 - val_det_loss: 0.5373 - val_cls_loss: 0.4468 - val_box_loss: 0.0018 - val_reg_l2_loss: 0.0650 - val_loss: 0.6024\n",
            "Epoch 27/75\n",
            "10/10 [==============================] - 33s 4s/step - det_loss: 0.4827 - cls_loss: 0.4053 - box_loss: 0.0015 - reg_l2_loss: 0.0650 - loss: 0.5477 - learning_rate: 0.0072 - gradient_norm: 1.2420 - val_det_loss: 0.5495 - val_cls_loss: 0.4519 - val_box_loss: 0.0020 - val_reg_l2_loss: 0.0650 - val_loss: 0.6146\n",
            "Epoch 28/75\n",
            "10/10 [==============================] - 31s 3s/step - det_loss: 0.4551 - cls_loss: 0.3876 - box_loss: 0.0013 - reg_l2_loss: 0.0650 - loss: 0.5201 - learning_rate: 0.0070 - gradient_norm: 1.0459 - val_det_loss: 0.5663 - val_cls_loss: 0.4544 - val_box_loss: 0.0022 - val_reg_l2_loss: 0.0650 - val_loss: 0.6313\n",
            "Epoch 29/75\n",
            "10/10 [==============================] - 30s 3s/step - det_loss: 0.4953 - cls_loss: 0.4238 - box_loss: 0.0014 - reg_l2_loss: 0.0650 - loss: 0.5603 - learning_rate: 0.0068 - gradient_norm: 1.0641 - val_det_loss: 0.5330 - val_cls_loss: 0.4544 - val_box_loss: 0.0016 - val_reg_l2_loss: 0.0650 - val_loss: 0.5980\n",
            "Epoch 30/75\n",
            "10/10 [==============================] - 40s 4s/step - det_loss: 0.4839 - cls_loss: 0.4133 - box_loss: 0.0014 - reg_l2_loss: 0.0650 - loss: 0.5489 - learning_rate: 0.0066 - gradient_norm: 1.1125 - val_det_loss: 0.5141 - val_cls_loss: 0.4405 - val_box_loss: 0.0015 - val_reg_l2_loss: 0.0650 - val_loss: 0.5791\n",
            "Epoch 31/75\n",
            "10/10 [==============================] - 27s 3s/step - det_loss: 0.4936 - cls_loss: 0.4162 - box_loss: 0.0015 - reg_l2_loss: 0.0650 - loss: 0.5586 - learning_rate: 0.0064 - gradient_norm: 1.0296 - val_det_loss: 0.5261 - val_cls_loss: 0.4460 - val_box_loss: 0.0016 - val_reg_l2_loss: 0.0650 - val_loss: 0.5911\n",
            "Epoch 32/75\n",
            "10/10 [==============================] - 33s 4s/step - det_loss: 0.4821 - cls_loss: 0.4111 - box_loss: 0.0014 - reg_l2_loss: 0.0650 - loss: 0.5471 - learning_rate: 0.0062 - gradient_norm: 1.1534 - val_det_loss: 0.5244 - val_cls_loss: 0.4376 - val_box_loss: 0.0017 - val_reg_l2_loss: 0.0650 - val_loss: 0.5894\n",
            "Epoch 33/75\n",
            "10/10 [==============================] - 31s 3s/step - det_loss: 0.4503 - cls_loss: 0.3864 - box_loss: 0.0013 - reg_l2_loss: 0.0650 - loss: 0.5153 - learning_rate: 0.0060 - gradient_norm: 1.0669 - val_det_loss: 0.5222 - val_cls_loss: 0.4426 - val_box_loss: 0.0016 - val_reg_l2_loss: 0.0650 - val_loss: 0.5872\n",
            "Epoch 34/75\n",
            "10/10 [==============================] - 32s 4s/step - det_loss: 0.4660 - cls_loss: 0.4014 - box_loss: 0.0013 - reg_l2_loss: 0.0650 - loss: 0.5310 - learning_rate: 0.0057 - gradient_norm: 1.0905 - val_det_loss: 0.5164 - val_cls_loss: 0.4340 - val_box_loss: 0.0016 - val_reg_l2_loss: 0.0650 - val_loss: 0.5815\n",
            "Epoch 35/75\n",
            "10/10 [==============================] - 39s 4s/step - det_loss: 0.4404 - cls_loss: 0.3767 - box_loss: 0.0013 - reg_l2_loss: 0.0650 - loss: 0.5055 - learning_rate: 0.0055 - gradient_norm: 1.1214 - val_det_loss: 0.5266 - val_cls_loss: 0.4426 - val_box_loss: 0.0017 - val_reg_l2_loss: 0.0650 - val_loss: 0.5916\n",
            "Epoch 36/75\n",
            "10/10 [==============================] - 27s 3s/step - det_loss: 0.4469 - cls_loss: 0.3809 - box_loss: 0.0013 - reg_l2_loss: 0.0650 - loss: 0.5119 - learning_rate: 0.0053 - gradient_norm: 1.1291 - val_det_loss: 0.5049 - val_cls_loss: 0.4299 - val_box_loss: 0.0015 - val_reg_l2_loss: 0.0650 - val_loss: 0.5699\n",
            "Epoch 37/75\n",
            "10/10 [==============================] - 32s 3s/step - det_loss: 0.4304 - cls_loss: 0.3687 - box_loss: 0.0012 - reg_l2_loss: 0.0650 - loss: 0.4954 - learning_rate: 0.0051 - gradient_norm: 1.0603 - val_det_loss: 0.4813 - val_cls_loss: 0.4194 - val_box_loss: 0.0012 - val_reg_l2_loss: 0.0650 - val_loss: 0.5464\n",
            "Epoch 38/75\n",
            "10/10 [==============================] - 34s 4s/step - det_loss: 0.4358 - cls_loss: 0.3860 - box_loss: 9.9500e-04 - reg_l2_loss: 0.0650 - loss: 0.5008 - learning_rate: 0.0049 - gradient_norm: 0.9113 - val_det_loss: 0.4742 - val_cls_loss: 0.4125 - val_box_loss: 0.0012 - val_reg_l2_loss: 0.0650 - val_loss: 0.5392\n",
            "Epoch 39/75\n",
            "10/10 [==============================] - 31s 3s/step - det_loss: 0.4099 - cls_loss: 0.3537 - box_loss: 0.0011 - reg_l2_loss: 0.0650 - loss: 0.4749 - learning_rate: 0.0047 - gradient_norm: 1.0085 - val_det_loss: 0.4761 - val_cls_loss: 0.4078 - val_box_loss: 0.0014 - val_reg_l2_loss: 0.0650 - val_loss: 0.5411\n",
            "Epoch 40/75\n",
            "10/10 [==============================] - 39s 4s/step - det_loss: 0.4250 - cls_loss: 0.3540 - box_loss: 0.0014 - reg_l2_loss: 0.0650 - loss: 0.4901 - learning_rate: 0.0045 - gradient_norm: 1.0443 - val_det_loss: 0.4785 - val_cls_loss: 0.4148 - val_box_loss: 0.0013 - val_reg_l2_loss: 0.0650 - val_loss: 0.5435\n",
            "Epoch 41/75\n",
            "10/10 [==============================] - 27s 3s/step - det_loss: 0.4558 - cls_loss: 0.3939 - box_loss: 0.0012 - reg_l2_loss: 0.0650 - loss: 0.5209 - learning_rate: 0.0043 - gradient_norm: 1.1431 - val_det_loss: 0.4942 - val_cls_loss: 0.4147 - val_box_loss: 0.0016 - val_reg_l2_loss: 0.0650 - val_loss: 0.5592\n",
            "Epoch 42/75\n",
            "10/10 [==============================] - 32s 3s/step - det_loss: 0.3816 - cls_loss: 0.3244 - box_loss: 0.0011 - reg_l2_loss: 0.0650 - loss: 0.4466 - learning_rate: 0.0041 - gradient_norm: 1.0891 - val_det_loss: 0.4569 - val_cls_loss: 0.3983 - val_box_loss: 0.0012 - val_reg_l2_loss: 0.0650 - val_loss: 0.5219\n",
            "Epoch 43/75\n",
            "10/10 [==============================] - 31s 3s/step - det_loss: 0.4378 - cls_loss: 0.3743 - box_loss: 0.0013 - reg_l2_loss: 0.0650 - loss: 0.5028 - learning_rate: 0.0038 - gradient_norm: 1.0624 - val_det_loss: 0.4542 - val_cls_loss: 0.3992 - val_box_loss: 0.0011 - val_reg_l2_loss: 0.0650 - val_loss: 0.5192\n",
            "Epoch 44/75\n",
            "10/10 [==============================] - 32s 3s/step - det_loss: 0.4149 - cls_loss: 0.3483 - box_loss: 0.0013 - reg_l2_loss: 0.0650 - loss: 0.4799 - learning_rate: 0.0036 - gradient_norm: 1.1147 - val_det_loss: 0.4508 - val_cls_loss: 0.3913 - val_box_loss: 0.0012 - val_reg_l2_loss: 0.0650 - val_loss: 0.5158\n",
            "Epoch 45/75\n",
            "10/10 [==============================] - 41s 5s/step - det_loss: 0.4365 - cls_loss: 0.3736 - box_loss: 0.0013 - reg_l2_loss: 0.0650 - loss: 0.5015 - learning_rate: 0.0034 - gradient_norm: 1.0575 - val_det_loss: 0.4387 - val_cls_loss: 0.3916 - val_box_loss: 9.4171e-04 - val_reg_l2_loss: 0.0650 - val_loss: 0.5037\n",
            "Epoch 46/75\n",
            "10/10 [==============================] - 26s 3s/step - det_loss: 0.3673 - cls_loss: 0.3176 - box_loss: 9.9528e-04 - reg_l2_loss: 0.0650 - loss: 0.4323 - learning_rate: 0.0032 - gradient_norm: 1.0104 - val_det_loss: 0.4462 - val_cls_loss: 0.3875 - val_box_loss: 0.0012 - val_reg_l2_loss: 0.0650 - val_loss: 0.5112\n",
            "Epoch 47/75\n",
            "10/10 [==============================] - 32s 4s/step - det_loss: 0.4025 - cls_loss: 0.3433 - box_loss: 0.0012 - reg_l2_loss: 0.0650 - loss: 0.4675 - learning_rate: 0.0030 - gradient_norm: 0.9603 - val_det_loss: 0.4307 - val_cls_loss: 0.3843 - val_box_loss: 9.2833e-04 - val_reg_l2_loss: 0.0650 - val_loss: 0.4958\n",
            "Epoch 48/75\n",
            "10/10 [==============================] - 32s 3s/step - det_loss: 0.4075 - cls_loss: 0.3542 - box_loss: 0.0011 - reg_l2_loss: 0.0650 - loss: 0.4725 - learning_rate: 0.0028 - gradient_norm: 1.0214 - val_det_loss: 0.4327 - val_cls_loss: 0.3847 - val_box_loss: 9.5911e-04 - val_reg_l2_loss: 0.0650 - val_loss: 0.4977\n",
            "Epoch 49/75\n",
            "10/10 [==============================] - 30s 3s/step - det_loss: 0.4181 - cls_loss: 0.3608 - box_loss: 0.0011 - reg_l2_loss: 0.0650 - loss: 0.4832 - learning_rate: 0.0027 - gradient_norm: 0.9757 - val_det_loss: 0.4326 - val_cls_loss: 0.3836 - val_box_loss: 9.8001e-04 - val_reg_l2_loss: 0.0650 - val_loss: 0.4976\n",
            "Epoch 50/75\n",
            "10/10 [==============================] - 40s 4s/step - det_loss: 0.4264 - cls_loss: 0.3695 - box_loss: 0.0011 - reg_l2_loss: 0.0650 - loss: 0.4914 - learning_rate: 0.0025 - gradient_norm: 1.0943 - val_det_loss: 0.4256 - val_cls_loss: 0.3817 - val_box_loss: 8.7637e-04 - val_reg_l2_loss: 0.0650 - val_loss: 0.4906\n",
            "Epoch 51/75\n",
            "10/10 [==============================] - 28s 3s/step - det_loss: 0.4194 - cls_loss: 0.3667 - box_loss: 0.0011 - reg_l2_loss: 0.0650 - loss: 0.4844 - learning_rate: 0.0023 - gradient_norm: 1.0848 - val_det_loss: 0.4249 - val_cls_loss: 0.3802 - val_box_loss: 8.9381e-04 - val_reg_l2_loss: 0.0650 - val_loss: 0.4899\n",
            "Epoch 52/75\n",
            "10/10 [==============================] - 31s 3s/step - det_loss: 0.4196 - cls_loss: 0.3692 - box_loss: 0.0010 - reg_l2_loss: 0.0650 - loss: 0.4846 - learning_rate: 0.0021 - gradient_norm: 1.0772 - val_det_loss: 0.4225 - val_cls_loss: 0.3791 - val_box_loss: 8.6872e-04 - val_reg_l2_loss: 0.0650 - val_loss: 0.4875\n",
            "Epoch 53/75\n",
            "10/10 [==============================] - 32s 3s/step - det_loss: 0.3874 - cls_loss: 0.3310 - box_loss: 0.0011 - reg_l2_loss: 0.0650 - loss: 0.4524 - learning_rate: 0.0019 - gradient_norm: 0.9889 - val_det_loss: 0.4190 - val_cls_loss: 0.3766 - val_box_loss: 8.4853e-04 - val_reg_l2_loss: 0.0650 - val_loss: 0.4840\n",
            "Epoch 54/75\n",
            "10/10 [==============================] - 33s 4s/step - det_loss: 0.4113 - cls_loss: 0.3597 - box_loss: 0.0010 - reg_l2_loss: 0.0650 - loss: 0.4763 - learning_rate: 0.0018 - gradient_norm: 1.0380 - val_det_loss: 0.4152 - val_cls_loss: 0.3753 - val_box_loss: 7.9826e-04 - val_reg_l2_loss: 0.0650 - val_loss: 0.4802\n",
            "Epoch 55/75\n",
            "10/10 [==============================] - 39s 4s/step - det_loss: 0.3710 - cls_loss: 0.3217 - box_loss: 9.8704e-04 - reg_l2_loss: 0.0650 - loss: 0.4360 - learning_rate: 0.0016 - gradient_norm: 0.9112 - val_det_loss: 0.4166 - val_cls_loss: 0.3743 - val_box_loss: 8.4563e-04 - val_reg_l2_loss: 0.0650 - val_loss: 0.4816\n",
            "Epoch 56/75\n",
            "10/10 [==============================] - 29s 3s/step - det_loss: 0.4165 - cls_loss: 0.3666 - box_loss: 9.9845e-04 - reg_l2_loss: 0.0650 - loss: 0.4815 - learning_rate: 0.0015 - gradient_norm: 0.9504 - val_det_loss: 0.4168 - val_cls_loss: 0.3744 - val_box_loss: 8.4776e-04 - val_reg_l2_loss: 0.0650 - val_loss: 0.4818\n",
            "Epoch 57/75\n",
            "10/10 [==============================] - 29s 3s/step - det_loss: 0.4129 - cls_loss: 0.3621 - box_loss: 0.0010 - reg_l2_loss: 0.0650 - loss: 0.4779 - learning_rate: 0.0013 - gradient_norm: 0.9103 - val_det_loss: 0.4143 - val_cls_loss: 0.3742 - val_box_loss: 8.0308e-04 - val_reg_l2_loss: 0.0650 - val_loss: 0.4793\n",
            "Epoch 58/75\n",
            "10/10 [==============================] - 32s 4s/step - det_loss: 0.4123 - cls_loss: 0.3599 - box_loss: 0.0010 - reg_l2_loss: 0.0650 - loss: 0.4773 - learning_rate: 0.0012 - gradient_norm: 1.0996 - val_det_loss: 0.4153 - val_cls_loss: 0.3737 - val_box_loss: 8.3265e-04 - val_reg_l2_loss: 0.0650 - val_loss: 0.4803\n",
            "Epoch 59/75\n",
            "10/10 [==============================] - 32s 4s/step - det_loss: 0.3704 - cls_loss: 0.3195 - box_loss: 0.0010 - reg_l2_loss: 0.0650 - loss: 0.4354 - learning_rate: 0.0010 - gradient_norm: 0.9571 - val_det_loss: 0.4183 - val_cls_loss: 0.3752 - val_box_loss: 8.6315e-04 - val_reg_l2_loss: 0.0650 - val_loss: 0.4833\n",
            "Epoch 60/75\n",
            "10/10 [==============================] - 39s 4s/step - det_loss: 0.3953 - cls_loss: 0.3421 - box_loss: 0.0011 - reg_l2_loss: 0.0650 - loss: 0.4603 - learning_rate: 9.1927e-04 - gradient_norm: 1.0289 - val_det_loss: 0.4178 - val_cls_loss: 0.3765 - val_box_loss: 8.2458e-04 - val_reg_l2_loss: 0.0650 - val_loss: 0.4828\n",
            "Epoch 61/75\n",
            "10/10 [==============================] - 28s 3s/step - det_loss: 0.4152 - cls_loss: 0.3612 - box_loss: 0.0011 - reg_l2_loss: 0.0650 - loss: 0.4802 - learning_rate: 8.0035e-04 - gradient_norm: 0.9510 - val_det_loss: 0.4148 - val_cls_loss: 0.3748 - val_box_loss: 7.9957e-04 - val_reg_l2_loss: 0.0650 - val_loss: 0.4798\n",
            "Epoch 62/75\n",
            "10/10 [==============================] - 31s 3s/step - det_loss: 0.3950 - cls_loss: 0.3481 - box_loss: 9.3896e-04 - reg_l2_loss: 0.0650 - loss: 0.4600 - learning_rate: 6.8900e-04 - gradient_norm: 0.9695 - val_det_loss: 0.4119 - val_cls_loss: 0.3732 - val_box_loss: 7.7541e-04 - val_reg_l2_loss: 0.0650 - val_loss: 0.4770\n",
            "Epoch 63/75\n",
            "10/10 [==============================] - 32s 4s/step - det_loss: 0.3918 - cls_loss: 0.3449 - box_loss: 9.3834e-04 - reg_l2_loss: 0.0650 - loss: 0.4568 - learning_rate: 5.8543e-04 - gradient_norm: 0.9499 - val_det_loss: 0.4088 - val_cls_loss: 0.3713 - val_box_loss: 7.5079e-04 - val_reg_l2_loss: 0.0650 - val_loss: 0.4738\n",
            "Epoch 64/75\n",
            "10/10 [==============================] - 32s 4s/step - det_loss: 0.3643 - cls_loss: 0.3167 - box_loss: 9.5217e-04 - reg_l2_loss: 0.0650 - loss: 0.4293 - learning_rate: 4.8980e-04 - gradient_norm: 0.9444 - val_det_loss: 0.4083 - val_cls_loss: 0.3701 - val_box_loss: 7.6487e-04 - val_reg_l2_loss: 0.0650 - val_loss: 0.4733\n",
            "Epoch 65/75\n",
            "10/10 [==============================] - 38s 4s/step - det_loss: 0.3936 - cls_loss: 0.3354 - box_loss: 0.0012 - reg_l2_loss: 0.0650 - loss: 0.4586 - learning_rate: 4.0231e-04 - gradient_norm: 1.0063 - val_det_loss: 0.4084 - val_cls_loss: 0.3691 - val_box_loss: 7.8535e-04 - val_reg_l2_loss: 0.0650 - val_loss: 0.4734\n",
            "Epoch 66/75\n",
            "10/10 [==============================] - 27s 3s/step - det_loss: 0.3911 - cls_loss: 0.3391 - box_loss: 0.0010 - reg_l2_loss: 0.0650 - loss: 0.4561 - learning_rate: 3.2310e-04 - gradient_norm: 0.9740 - val_det_loss: 0.4093 - val_cls_loss: 0.3687 - val_box_loss: 8.1117e-04 - val_reg_l2_loss: 0.0650 - val_loss: 0.4743\n",
            "Epoch 67/75\n",
            "10/10 [==============================] - 34s 4s/step - det_loss: 0.4013 - cls_loss: 0.3393 - box_loss: 0.0012 - reg_l2_loss: 0.0650 - loss: 0.4663 - learning_rate: 2.5232e-04 - gradient_norm: 0.9996 - val_det_loss: 0.4092 - val_cls_loss: 0.3682 - val_box_loss: 8.1948e-04 - val_reg_l2_loss: 0.0650 - val_loss: 0.4742\n",
            "Epoch 68/75\n",
            "10/10 [==============================] - 30s 3s/step - det_loss: 0.3794 - cls_loss: 0.3320 - box_loss: 9.4636e-04 - reg_l2_loss: 0.0650 - loss: 0.4444 - learning_rate: 1.9009e-04 - gradient_norm: 0.9614 - val_det_loss: 0.4078 - val_cls_loss: 0.3680 - val_box_loss: 7.9504e-04 - val_reg_l2_loss: 0.0650 - val_loss: 0.4728\n",
            "Epoch 69/75\n",
            "10/10 [==============================] - 31s 3s/step - det_loss: 0.3796 - cls_loss: 0.3302 - box_loss: 9.8727e-04 - reg_l2_loss: 0.0650 - loss: 0.4446 - learning_rate: 1.3653e-04 - gradient_norm: 1.1028 - val_det_loss: 0.4073 - val_cls_loss: 0.3679 - val_box_loss: 7.8750e-04 - val_reg_l2_loss: 0.0650 - val_loss: 0.4723\n",
            "Epoch 70/75\n",
            "10/10 [==============================] - 39s 4s/step - det_loss: 0.4119 - cls_loss: 0.3635 - box_loss: 9.6798e-04 - reg_l2_loss: 0.0650 - loss: 0.4769 - learning_rate: 9.1739e-05 - gradient_norm: 1.0300 - val_det_loss: 0.4071 - val_cls_loss: 0.3683 - val_box_loss: 7.7641e-04 - val_reg_l2_loss: 0.0650 - val_loss: 0.4722\n",
            "Epoch 71/75\n",
            "10/10 [==============================] - 28s 3s/step - det_loss: 0.3878 - cls_loss: 0.3370 - box_loss: 0.0010 - reg_l2_loss: 0.0650 - loss: 0.4528 - learning_rate: 5.5790e-05 - gradient_norm: 1.0382 - val_det_loss: 0.4071 - val_cls_loss: 0.3684 - val_box_loss: 7.7283e-04 - val_reg_l2_loss: 0.0650 - val_loss: 0.4721\n",
            "Epoch 72/75\n",
            "10/10 [==============================] - 31s 3s/step - det_loss: 0.3892 - cls_loss: 0.3351 - box_loss: 0.0011 - reg_l2_loss: 0.0650 - loss: 0.4542 - learning_rate: 2.8751e-05 - gradient_norm: 1.0725 - val_det_loss: 0.4073 - val_cls_loss: 0.3687 - val_box_loss: 7.7331e-04 - val_reg_l2_loss: 0.0650 - val_loss: 0.4723\n",
            "Epoch 73/75\n",
            "10/10 [==============================] - 32s 3s/step - det_loss: 0.3934 - cls_loss: 0.3440 - box_loss: 9.8879e-04 - reg_l2_loss: 0.0650 - loss: 0.4585 - learning_rate: 1.0670e-05 - gradient_norm: 0.9875 - val_det_loss: 0.4075 - val_cls_loss: 0.3688 - val_box_loss: 7.7510e-04 - val_reg_l2_loss: 0.0650 - val_loss: 0.4725\n",
            "Epoch 74/75\n",
            "10/10 [==============================] - 33s 4s/step - det_loss: 0.3730 - cls_loss: 0.3253 - box_loss: 9.5420e-04 - reg_l2_loss: 0.0650 - loss: 0.4380 - learning_rate: 1.5810e-06 - gradient_norm: 0.9453 - val_det_loss: 0.4071 - val_cls_loss: 0.3683 - val_box_loss: 7.7631e-04 - val_reg_l2_loss: 0.0650 - val_loss: 0.4721\n",
            "Epoch 75/75\n",
            "10/10 [==============================] - 38s 4s/step - det_loss: 0.3929 - cls_loss: 0.3349 - box_loss: 0.0012 - reg_l2_loss: 0.0650 - loss: 0.4579 - learning_rate: 1.4991e-06 - gradient_norm: 1.0443 - val_det_loss: 0.4071 - val_cls_loss: 0.3681 - val_box_loss: 7.8024e-04 - val_reg_l2_loss: 0.0650 - val_loss: 0.4721\n"
          ]
        }
      ],
      "source": [
        "model = object_detector.create(train_data, model_spec=spec, batch_size=8, train_whole_model=True, epochs=75, validation_data=val_data)"
      ]
    },
    {
      "cell_type": "code",
      "source": [
        "# Training board\n",
        "board_model = object_detector.create(board_train_data, model_spec=spec, batch_size=4, train_whole_model=True, epochs=40, validation_data=board_val_data)"
      ],
      "metadata": {
        "colab": {
          "base_uri": "https://localhost:8080/"
        },
        "id": "wp7ILD3GUZyq",
        "outputId": "b546cd9f-ab97-41df-a533-7eb2318d4924"
      },
      "execution_count": 10,
      "outputs": [
        {
          "output_type": "stream",
          "name": "stdout",
          "text": [
            "Epoch 1/40\n",
            "21/21 [==============================] - 94s 2s/step - det_loss: 1.6663 - cls_loss: 1.1095 - box_loss: 0.0111 - reg_l2_loss: 0.0926 - loss: 1.7588 - learning_rate: 0.0065 - gradient_norm: 2.0856 - val_det_loss: 1.5610 - val_cls_loss: 1.0193 - val_box_loss: 0.0108 - val_reg_l2_loss: 0.0926 - val_loss: 1.6535\n",
            "Epoch 2/40\n",
            "21/21 [==============================] - 33s 2s/step - det_loss: 1.1456 - cls_loss: 0.8172 - box_loss: 0.0066 - reg_l2_loss: 0.0926 - loss: 1.2381 - learning_rate: 0.0050 - gradient_norm: 3.6369 - val_det_loss: 0.7886 - val_cls_loss: 0.4609 - val_box_loss: 0.0066 - val_reg_l2_loss: 0.0926 - val_loss: 0.8812\n",
            "Epoch 3/40\n",
            "21/21 [==============================] - 37s 2s/step - det_loss: 0.6289 - cls_loss: 0.4421 - box_loss: 0.0037 - reg_l2_loss: 0.0926 - loss: 0.7215 - learning_rate: 0.0049 - gradient_norm: 2.9887 - val_det_loss: 0.5457 - val_cls_loss: 0.3590 - val_box_loss: 0.0037 - val_reg_l2_loss: 0.0926 - val_loss: 0.6383\n",
            "Epoch 4/40\n",
            "21/21 [==============================] - 37s 2s/step - det_loss: 0.4164 - cls_loss: 0.3024 - box_loss: 0.0023 - reg_l2_loss: 0.0926 - loss: 0.5090 - learning_rate: 0.0049 - gradient_norm: 1.9222 - val_det_loss: 0.3259 - val_cls_loss: 0.2153 - val_box_loss: 0.0022 - val_reg_l2_loss: 0.0926 - val_loss: 0.4185\n",
            "Epoch 5/40\n",
            "21/21 [==============================] - 47s 2s/step - det_loss: 0.3601 - cls_loss: 0.2708 - box_loss: 0.0018 - reg_l2_loss: 0.0926 - loss: 0.4527 - learning_rate: 0.0048 - gradient_norm: 2.3157 - val_det_loss: 0.3119 - val_cls_loss: 0.2076 - val_box_loss: 0.0021 - val_reg_l2_loss: 0.0926 - val_loss: 0.4045\n",
            "Epoch 6/40\n",
            "21/21 [==============================] - 34s 2s/step - det_loss: 0.3053 - cls_loss: 0.2426 - box_loss: 0.0013 - reg_l2_loss: 0.0926 - loss: 0.3979 - learning_rate: 0.0048 - gradient_norm: 1.4620 - val_det_loss: 0.2493 - val_cls_loss: 0.1794 - val_box_loss: 0.0014 - val_reg_l2_loss: 0.0926 - val_loss: 0.3420\n",
            "Epoch 7/40\n",
            "21/21 [==============================] - 37s 2s/step - det_loss: 0.2629 - cls_loss: 0.2081 - box_loss: 0.0011 - reg_l2_loss: 0.0926 - loss: 0.3555 - learning_rate: 0.0047 - gradient_norm: 1.5642 - val_det_loss: 0.2291 - val_cls_loss: 0.1577 - val_box_loss: 0.0014 - val_reg_l2_loss: 0.0926 - val_loss: 0.3217\n",
            "Epoch 8/40\n",
            "21/21 [==============================] - 36s 2s/step - det_loss: 0.2371 - cls_loss: 0.1941 - box_loss: 8.6051e-04 - reg_l2_loss: 0.0926 - loss: 0.3297 - learning_rate: 0.0046 - gradient_norm: 1.6613 - val_det_loss: 0.2308 - val_cls_loss: 0.1535 - val_box_loss: 0.0015 - val_reg_l2_loss: 0.0926 - val_loss: 0.3234\n",
            "Epoch 9/40\n",
            "21/21 [==============================] - 37s 2s/step - det_loss: 0.2195 - cls_loss: 0.1785 - box_loss: 8.1975e-04 - reg_l2_loss: 0.0926 - loss: 0.3121 - learning_rate: 0.0044 - gradient_norm: 1.6298 - val_det_loss: 0.2000 - val_cls_loss: 0.1451 - val_box_loss: 0.0011 - val_reg_l2_loss: 0.0926 - val_loss: 0.2926\n",
            "Epoch 10/40\n",
            "21/21 [==============================] - 43s 2s/step - det_loss: 0.2054 - cls_loss: 0.1675 - box_loss: 7.5700e-04 - reg_l2_loss: 0.0926 - loss: 0.2980 - learning_rate: 0.0043 - gradient_norm: 1.9354 - val_det_loss: 0.1740 - val_cls_loss: 0.1260 - val_box_loss: 9.6028e-04 - val_reg_l2_loss: 0.0926 - val_loss: 0.2666\n",
            "Epoch 11/40\n",
            "21/21 [==============================] - 33s 2s/step - det_loss: 0.1949 - cls_loss: 0.1570 - box_loss: 7.5809e-04 - reg_l2_loss: 0.0926 - loss: 0.2875 - learning_rate: 0.0042 - gradient_norm: 1.5994 - val_det_loss: 0.1802 - val_cls_loss: 0.1331 - val_box_loss: 9.4171e-04 - val_reg_l2_loss: 0.0926 - val_loss: 0.2728\n",
            "Epoch 12/40\n",
            "21/21 [==============================] - 37s 2s/step - det_loss: 0.1649 - cls_loss: 0.1354 - box_loss: 5.8998e-04 - reg_l2_loss: 0.0926 - loss: 0.2576 - learning_rate: 0.0040 - gradient_norm: 1.0472 - val_det_loss: 0.1705 - val_cls_loss: 0.1301 - val_box_loss: 8.0753e-04 - val_reg_l2_loss: 0.0926 - val_loss: 0.2631\n",
            "Epoch 13/40\n",
            "21/21 [==============================] - 36s 2s/step - det_loss: 0.1611 - cls_loss: 0.1337 - box_loss: 5.4658e-04 - reg_l2_loss: 0.0926 - loss: 0.2537 - learning_rate: 0.0038 - gradient_norm: 1.4467 - val_det_loss: 0.1432 - val_cls_loss: 0.1117 - val_box_loss: 6.2923e-04 - val_reg_l2_loss: 0.0926 - val_loss: 0.2358\n",
            "Epoch 14/40\n",
            "21/21 [==============================] - 37s 2s/step - det_loss: 0.1601 - cls_loss: 0.1328 - box_loss: 5.4547e-04 - reg_l2_loss: 0.0926 - loss: 0.2527 - learning_rate: 0.0037 - gradient_norm: 1.2455 - val_det_loss: 0.1353 - val_cls_loss: 0.1062 - val_box_loss: 5.8219e-04 - val_reg_l2_loss: 0.0926 - val_loss: 0.2279\n",
            "Epoch 15/40\n",
            "21/21 [==============================] - 45s 2s/step - det_loss: 0.1385 - cls_loss: 0.1144 - box_loss: 4.8224e-04 - reg_l2_loss: 0.0926 - loss: 0.2312 - learning_rate: 0.0035 - gradient_norm: 1.1767 - val_det_loss: 0.1375 - val_cls_loss: 0.1117 - val_box_loss: 5.1726e-04 - val_reg_l2_loss: 0.0926 - val_loss: 0.2302\n",
            "Epoch 16/40\n",
            "21/21 [==============================] - 34s 2s/step - det_loss: 0.1531 - cls_loss: 0.1255 - box_loss: 5.5216e-04 - reg_l2_loss: 0.0926 - loss: 0.2458 - learning_rate: 0.0033 - gradient_norm: 1.6686 - val_det_loss: 0.1274 - val_cls_loss: 0.1018 - val_box_loss: 5.1365e-04 - val_reg_l2_loss: 0.0926 - val_loss: 0.2201\n",
            "Epoch 17/40\n",
            "21/21 [==============================] - 36s 2s/step - det_loss: 0.1410 - cls_loss: 0.1175 - box_loss: 4.6931e-04 - reg_l2_loss: 0.0926 - loss: 0.2336 - learning_rate: 0.0031 - gradient_norm: 1.2478 - val_det_loss: 0.1113 - val_cls_loss: 0.0919 - val_box_loss: 3.8713e-04 - val_reg_l2_loss: 0.0926 - val_loss: 0.2039\n",
            "Epoch 18/40\n",
            "21/21 [==============================] - 36s 2s/step - det_loss: 0.1248 - cls_loss: 0.1049 - box_loss: 3.9700e-04 - reg_l2_loss: 0.0926 - loss: 0.2174 - learning_rate: 0.0029 - gradient_norm: 1.2004 - val_det_loss: 0.1095 - val_cls_loss: 0.0919 - val_box_loss: 3.5031e-04 - val_reg_l2_loss: 0.0926 - val_loss: 0.2021\n",
            "Epoch 19/40\n",
            "21/21 [==============================] - 38s 2s/step - det_loss: 0.1288 - cls_loss: 0.1049 - box_loss: 4.7894e-04 - reg_l2_loss: 0.0926 - loss: 0.2215 - learning_rate: 0.0027 - gradient_norm: 1.3326 - val_det_loss: 0.1123 - val_cls_loss: 0.0919 - val_box_loss: 4.0899e-04 - val_reg_l2_loss: 0.0926 - val_loss: 0.2049\n",
            "Epoch 20/40\n",
            "21/21 [==============================] - 44s 2s/step - det_loss: 0.1176 - cls_loss: 0.0986 - box_loss: 3.8087e-04 - reg_l2_loss: 0.0926 - loss: 0.2103 - learning_rate: 0.0025 - gradient_norm: 1.0865 - val_det_loss: 0.1059 - val_cls_loss: 0.0884 - val_box_loss: 3.5038e-04 - val_reg_l2_loss: 0.0926 - val_loss: 0.1986\n",
            "Epoch 21/40\n",
            "21/21 [==============================] - 33s 2s/step - det_loss: 0.1260 - cls_loss: 0.1036 - box_loss: 4.4765e-04 - reg_l2_loss: 0.0926 - loss: 0.2187 - learning_rate: 0.0023 - gradient_norm: 1.0902 - val_det_loss: 0.1001 - val_cls_loss: 0.0826 - val_box_loss: 3.4977e-04 - val_reg_l2_loss: 0.0926 - val_loss: 0.1927\n",
            "Epoch 22/40\n",
            "21/21 [==============================] - 35s 2s/step - det_loss: 0.1176 - cls_loss: 0.0993 - box_loss: 3.6733e-04 - reg_l2_loss: 0.0926 - loss: 0.2103 - learning_rate: 0.0021 - gradient_norm: 1.1335 - val_det_loss: 0.0985 - val_cls_loss: 0.0819 - val_box_loss: 3.3313e-04 - val_reg_l2_loss: 0.0926 - val_loss: 0.1912\n",
            "Epoch 23/40\n",
            "21/21 [==============================] - 36s 2s/step - det_loss: 0.1252 - cls_loss: 0.1052 - box_loss: 4.0045e-04 - reg_l2_loss: 0.0926 - loss: 0.2178 - learning_rate: 0.0019 - gradient_norm: 1.3408 - val_det_loss: 0.0958 - val_cls_loss: 0.0806 - val_box_loss: 3.0553e-04 - val_reg_l2_loss: 0.0926 - val_loss: 0.1885\n",
            "Epoch 24/40\n",
            "21/21 [==============================] - 36s 2s/step - det_loss: 0.1189 - cls_loss: 0.0990 - box_loss: 3.9898e-04 - reg_l2_loss: 0.0926 - loss: 0.2115 - learning_rate: 0.0017 - gradient_norm: 1.1340 - val_det_loss: 0.0938 - val_cls_loss: 0.0777 - val_box_loss: 3.2216e-04 - val_reg_l2_loss: 0.0926 - val_loss: 0.1864\n",
            "Epoch 25/40\n",
            "21/21 [==============================] - 43s 2s/step - det_loss: 0.1179 - cls_loss: 0.0987 - box_loss: 3.8362e-04 - reg_l2_loss: 0.0926 - loss: 0.2105 - learning_rate: 0.0015 - gradient_norm: 1.3717 - val_det_loss: 0.0938 - val_cls_loss: 0.0799 - val_box_loss: 2.7693e-04 - val_reg_l2_loss: 0.0926 - val_loss: 0.1864\n",
            "Epoch 26/40\n",
            "21/21 [==============================] - 33s 2s/step - det_loss: 0.1180 - cls_loss: 0.0991 - box_loss: 3.7653e-04 - reg_l2_loss: 0.0926 - loss: 0.2106 - learning_rate: 0.0013 - gradient_norm: 1.2541 - val_det_loss: 0.0941 - val_cls_loss: 0.0802 - val_box_loss: 2.7691e-04 - val_reg_l2_loss: 0.0926 - val_loss: 0.1867\n",
            "Epoch 27/40\n",
            "21/21 [==============================] - 37s 2s/step - det_loss: 0.1073 - cls_loss: 0.0885 - box_loss: 3.7777e-04 - reg_l2_loss: 0.0926 - loss: 0.2000 - learning_rate: 0.0012 - gradient_norm: 0.9806 - val_det_loss: 0.0925 - val_cls_loss: 0.0786 - val_box_loss: 2.7852e-04 - val_reg_l2_loss: 0.0926 - val_loss: 0.1851\n",
            "Epoch 28/40\n",
            "21/21 [==============================] - 36s 2s/step - det_loss: 0.1028 - cls_loss: 0.0852 - box_loss: 3.5303e-04 - reg_l2_loss: 0.0926 - loss: 0.1955 - learning_rate: 9.9893e-04 - gradient_norm: 0.9638 - val_det_loss: 0.0922 - val_cls_loss: 0.0782 - val_box_loss: 2.7880e-04 - val_reg_l2_loss: 0.0926 - val_loss: 0.1848\n",
            "Epoch 29/40\n",
            "21/21 [==============================] - 36s 2s/step - det_loss: 0.1069 - cls_loss: 0.0908 - box_loss: 3.2278e-04 - reg_l2_loss: 0.0926 - loss: 0.1995 - learning_rate: 8.4300e-04 - gradient_norm: 1.1215 - val_det_loss: 0.0922 - val_cls_loss: 0.0789 - val_box_loss: 2.6600e-04 - val_reg_l2_loss: 0.0926 - val_loss: 0.1848\n",
            "Epoch 30/40\n",
            "21/21 [==============================] - 42s 2s/step - det_loss: 0.1097 - cls_loss: 0.0911 - box_loss: 3.7128e-04 - reg_l2_loss: 0.0926 - loss: 0.2023 - learning_rate: 6.9782e-04 - gradient_norm: 1.1330 - val_det_loss: 0.0941 - val_cls_loss: 0.0801 - val_box_loss: 2.8120e-04 - val_reg_l2_loss: 0.0926 - val_loss: 0.1868\n",
            "Epoch 31/40\n",
            "21/21 [==============================] - 34s 2s/step - det_loss: 0.1062 - cls_loss: 0.0898 - box_loss: 3.2968e-04 - reg_l2_loss: 0.0926 - loss: 0.1989 - learning_rate: 5.6432e-04 - gradient_norm: 1.2581 - val_det_loss: 0.0935 - val_cls_loss: 0.0791 - val_box_loss: 2.8873e-04 - val_reg_l2_loss: 0.0926 - val_loss: 0.1862\n",
            "Epoch 32/40\n",
            "21/21 [==============================] - 36s 2s/step - det_loss: 0.1127 - cls_loss: 0.0951 - box_loss: 3.5133e-04 - reg_l2_loss: 0.0926 - loss: 0.2053 - learning_rate: 4.4338e-04 - gradient_norm: 1.4197 - val_det_loss: 0.0928 - val_cls_loss: 0.0789 - val_box_loss: 2.7614e-04 - val_reg_l2_loss: 0.0926 - val_loss: 0.1854\n",
            "Epoch 33/40\n",
            "21/21 [==============================] - 36s 2s/step - det_loss: 0.1011 - cls_loss: 0.0840 - box_loss: 3.4170e-04 - reg_l2_loss: 0.0926 - loss: 0.1937 - learning_rate: 3.3578e-04 - gradient_norm: 0.9264 - val_det_loss: 0.0925 - val_cls_loss: 0.0790 - val_box_loss: 2.7159e-04 - val_reg_l2_loss: 0.0926 - val_loss: 0.1852\n",
            "Epoch 34/40\n",
            "21/21 [==============================] - 36s 2s/step - det_loss: 0.1026 - cls_loss: 0.0857 - box_loss: 3.3705e-04 - reg_l2_loss: 0.0926 - loss: 0.1952 - learning_rate: 2.4221e-04 - gradient_norm: 1.0207 - val_det_loss: 0.0911 - val_cls_loss: 0.0779 - val_box_loss: 2.6344e-04 - val_reg_l2_loss: 0.0926 - val_loss: 0.1837\n",
            "Epoch 35/40\n",
            "21/21 [==============================] - 43s 2s/step - det_loss: 0.1176 - cls_loss: 0.1010 - box_loss: 3.3179e-04 - reg_l2_loss: 0.0926 - loss: 0.2102 - learning_rate: 1.6329e-04 - gradient_norm: 1.3982 - val_det_loss: 0.0902 - val_cls_loss: 0.0772 - val_box_loss: 2.6029e-04 - val_reg_l2_loss: 0.0926 - val_loss: 0.1828\n",
            "Epoch 36/40\n",
            "21/21 [==============================] - 33s 2s/step - det_loss: 0.0989 - cls_loss: 0.0843 - box_loss: 2.9152e-04 - reg_l2_loss: 0.0926 - loss: 0.1915 - learning_rate: 9.9521e-05 - gradient_norm: 0.9311 - val_det_loss: 0.0903 - val_cls_loss: 0.0771 - val_box_loss: 2.6405e-04 - val_reg_l2_loss: 0.0926 - val_loss: 0.1829\n",
            "Epoch 37/40\n",
            "21/21 [==============================] - 37s 2s/step - det_loss: 0.1015 - cls_loss: 0.0873 - box_loss: 2.8411e-04 - reg_l2_loss: 0.0926 - loss: 0.1941 - learning_rate: 5.1319e-05 - gradient_norm: 0.9122 - val_det_loss: 0.0903 - val_cls_loss: 0.0769 - val_box_loss: 2.6658e-04 - val_reg_l2_loss: 0.0926 - val_loss: 0.1829\n",
            "Epoch 38/40\n",
            "21/21 [==============================] - 35s 2s/step - det_loss: 0.1034 - cls_loss: 0.0885 - box_loss: 2.9942e-04 - reg_l2_loss: 0.0926 - loss: 0.1961 - learning_rate: 1.8999e-05 - gradient_norm: 0.9963 - val_det_loss: 0.0903 - val_cls_loss: 0.0769 - val_box_loss: 2.6755e-04 - val_reg_l2_loss: 0.0926 - val_loss: 0.1829\n",
            "Epoch 39/40\n",
            "21/21 [==============================] - 37s 2s/step - det_loss: 0.1025 - cls_loss: 0.0868 - box_loss: 3.1328e-04 - reg_l2_loss: 0.0926 - loss: 0.1951 - learning_rate: 2.7680e-06 - gradient_norm: 1.0970 - val_det_loss: 0.0904 - val_cls_loss: 0.0770 - val_box_loss: 2.6796e-04 - val_reg_l2_loss: 0.0926 - val_loss: 0.1830\n",
            "Epoch 40/40\n",
            "21/21 [==============================] - 41s 2s/step - det_loss: 0.0988 - cls_loss: 0.0853 - box_loss: 2.6943e-04 - reg_l2_loss: 0.0926 - loss: 0.1914 - learning_rate: 2.7329e-06 - gradient_norm: 1.2974 - val_det_loss: 0.0902 - val_cls_loss: 0.0769 - val_box_loss: 2.6699e-04 - val_reg_l2_loss: 0.0926 - val_loss: 0.1829\n"
          ]
        }
      ]
    },
    {
      "cell_type": "code",
      "source": [
        "# Training pieces\n",
        "pieces_model = object_detector.create(pieces_train_data, model_spec=spec, batch_size=8, train_whole_model=True, epochs=200, validation_data=pieces_val_data)"
      ],
      "metadata": {
        "colab": {
          "base_uri": "https://localhost:8080/"
        },
        "id": "JjWW38f6UV79",
        "outputId": "5435ebde-92d5-4825-83cd-426a62fa35a1"
      },
      "execution_count": 11,
      "outputs": [
        {
          "output_type": "stream",
          "name": "stdout",
          "text": [
            "Epoch 1/200\n",
            "10/10 [==============================] - 93s 4s/step - det_loss: 2.0379 - cls_loss: 1.3998 - box_loss: 0.0128 - reg_l2_loss: 0.0943 - loss: 2.1322 - learning_rate: 0.0090 - gradient_norm: 1.4119 - val_det_loss: 1.8627 - val_cls_loss: 1.3392 - val_box_loss: 0.0105 - val_reg_l2_loss: 0.0943 - val_loss: 1.9571\n",
            "Epoch 2/200\n",
            "10/10 [==============================] - 32s 4s/step - det_loss: 2.1582 - cls_loss: 1.5801 - box_loss: 0.0116 - reg_l2_loss: 0.0943 - loss: 2.2525 - learning_rate: 0.0100 - gradient_norm: 1.7447 - val_det_loss: 1.7925 - val_cls_loss: 1.3376 - val_box_loss: 0.0091 - val_reg_l2_loss: 0.0943 - val_loss: 1.8868\n",
            "Epoch 3/200\n",
            "10/10 [==============================] - 32s 3s/step - det_loss: 1.7381 - cls_loss: 1.3442 - box_loss: 0.0079 - reg_l2_loss: 0.0943 - loss: 1.8324 - learning_rate: 0.0100 - gradient_norm: 1.9025 - val_det_loss: 1.6863 - val_cls_loss: 1.3223 - val_box_loss: 0.0073 - val_reg_l2_loss: 0.0943 - val_loss: 1.7806\n",
            "Epoch 4/200\n",
            "10/10 [==============================] - 35s 4s/step - det_loss: 1.7228 - cls_loss: 1.3940 - box_loss: 0.0066 - reg_l2_loss: 0.0943 - loss: 1.8172 - learning_rate: 0.0100 - gradient_norm: 2.0996 - val_det_loss: 1.5588 - val_cls_loss: 1.2897 - val_box_loss: 0.0054 - val_reg_l2_loss: 0.0943 - val_loss: 1.6531\n",
            "Epoch 5/200\n",
            "10/10 [==============================] - 54s 6s/step - det_loss: 1.6734 - cls_loss: 1.3677 - box_loss: 0.0061 - reg_l2_loss: 0.0943 - loss: 1.7678 - learning_rate: 0.0100 - gradient_norm: 2.6782 - val_det_loss: 1.5621 - val_cls_loss: 1.2418 - val_box_loss: 0.0064 - val_reg_l2_loss: 0.0943 - val_loss: 1.6565\n",
            "Epoch 6/200\n",
            "10/10 [==============================] - 24s 3s/step - det_loss: 1.4992 - cls_loss: 1.2635 - box_loss: 0.0047 - reg_l2_loss: 0.0943 - loss: 1.5936 - learning_rate: 0.0100 - gradient_norm: 2.2578 - val_det_loss: 1.3094 - val_cls_loss: 1.1616 - val_box_loss: 0.0030 - val_reg_l2_loss: 0.0944 - val_loss: 1.4038\n",
            "Epoch 7/200\n",
            "10/10 [==============================] - 34s 4s/step - det_loss: 1.4250 - cls_loss: 1.2088 - box_loss: 0.0043 - reg_l2_loss: 0.0944 - loss: 1.5193 - learning_rate: 0.0100 - gradient_norm: 2.3146 - val_det_loss: 1.1807 - val_cls_loss: 1.0472 - val_box_loss: 0.0027 - val_reg_l2_loss: 0.0944 - val_loss: 1.2750\n",
            "Epoch 8/200\n",
            "10/10 [==============================] - 35s 4s/step - det_loss: 1.2696 - cls_loss: 1.0652 - box_loss: 0.0041 - reg_l2_loss: 0.0944 - loss: 1.3640 - learning_rate: 0.0100 - gradient_norm: 2.7492 - val_det_loss: 1.0657 - val_cls_loss: 0.9272 - val_box_loss: 0.0028 - val_reg_l2_loss: 0.0944 - val_loss: 1.1600\n",
            "Epoch 9/200\n",
            "10/10 [==============================] - 35s 4s/step - det_loss: 1.0976 - cls_loss: 0.9109 - box_loss: 0.0037 - reg_l2_loss: 0.0944 - loss: 1.1920 - learning_rate: 0.0100 - gradient_norm: 2.5065 - val_det_loss: 0.9496 - val_cls_loss: 0.8260 - val_box_loss: 0.0025 - val_reg_l2_loss: 0.0944 - val_loss: 1.0440\n",
            "Epoch 10/200\n",
            "10/10 [==============================] - 42s 5s/step - det_loss: 1.0181 - cls_loss: 0.8245 - box_loss: 0.0039 - reg_l2_loss: 0.0944 - loss: 1.1125 - learning_rate: 0.0099 - gradient_norm: 3.0548 - val_det_loss: 0.9049 - val_cls_loss: 0.7306 - val_box_loss: 0.0035 - val_reg_l2_loss: 0.0944 - val_loss: 0.9994\n",
            "Epoch 11/200\n",
            "10/10 [==============================] - 29s 3s/step - det_loss: 0.8432 - cls_loss: 0.7209 - box_loss: 0.0024 - reg_l2_loss: 0.0944 - loss: 0.9377 - learning_rate: 0.0099 - gradient_norm: 2.8696 - val_det_loss: 0.8033 - val_cls_loss: 0.7085 - val_box_loss: 0.0019 - val_reg_l2_loss: 0.0944 - val_loss: 0.8977\n",
            "Epoch 12/200\n",
            "10/10 [==============================] - 35s 4s/step - det_loss: 0.7658 - cls_loss: 0.6582 - box_loss: 0.0022 - reg_l2_loss: 0.0945 - loss: 0.8603 - learning_rate: 0.0099 - gradient_norm: 2.3881 - val_det_loss: 0.7167 - val_cls_loss: 0.6331 - val_box_loss: 0.0017 - val_reg_l2_loss: 0.0945 - val_loss: 0.8111\n",
            "Epoch 13/200\n",
            "10/10 [==============================] - 37s 4s/step - det_loss: 0.7621 - cls_loss: 0.6463 - box_loss: 0.0023 - reg_l2_loss: 0.0945 - loss: 0.8566 - learning_rate: 0.0099 - gradient_norm: 2.6395 - val_det_loss: 0.7070 - val_cls_loss: 0.6076 - val_box_loss: 0.0020 - val_reg_l2_loss: 0.0945 - val_loss: 0.8014\n",
            "Epoch 14/200\n",
            "10/10 [==============================] - 32s 3s/step - det_loss: 0.7710 - cls_loss: 0.6368 - box_loss: 0.0027 - reg_l2_loss: 0.0945 - loss: 0.8654 - learning_rate: 0.0099 - gradient_norm: 3.7744 - val_det_loss: 0.7380 - val_cls_loss: 0.5883 - val_box_loss: 0.0030 - val_reg_l2_loss: 0.0945 - val_loss: 0.8325\n",
            "Epoch 15/200\n",
            "10/10 [==============================] - 44s 5s/step - det_loss: 0.7329 - cls_loss: 0.6045 - box_loss: 0.0026 - reg_l2_loss: 0.0945 - loss: 0.8274 - learning_rate: 0.0099 - gradient_norm: 3.1169 - val_det_loss: 0.6434 - val_cls_loss: 0.5617 - val_box_loss: 0.0016 - val_reg_l2_loss: 0.0945 - val_loss: 0.7379\n",
            "Epoch 16/200\n",
            "10/10 [==============================] - 31s 3s/step - det_loss: 0.7799 - cls_loss: 0.6206 - box_loss: 0.0032 - reg_l2_loss: 0.0945 - loss: 0.8744 - learning_rate: 0.0099 - gradient_norm: 3.8579 - val_det_loss: 0.7209 - val_cls_loss: 0.5916 - val_box_loss: 0.0026 - val_reg_l2_loss: 0.0945 - val_loss: 0.8154\n",
            "Epoch 17/200\n",
            "10/10 [==============================] - 35s 4s/step - det_loss: 0.7483 - cls_loss: 0.6163 - box_loss: 0.0026 - reg_l2_loss: 0.0945 - loss: 0.8429 - learning_rate: 0.0098 - gradient_norm: 3.8939 - val_det_loss: 0.7203 - val_cls_loss: 0.6157 - val_box_loss: 0.0021 - val_reg_l2_loss: 0.0945 - val_loss: 0.8149\n",
            "Epoch 18/200\n",
            "10/10 [==============================] - 34s 4s/step - det_loss: 0.7732 - cls_loss: 0.6095 - box_loss: 0.0033 - reg_l2_loss: 0.0945 - loss: 0.8677 - learning_rate: 0.0098 - gradient_norm: 3.0716 - val_det_loss: 0.6625 - val_cls_loss: 0.5804 - val_box_loss: 0.0016 - val_reg_l2_loss: 0.0946 - val_loss: 0.7571\n",
            "Epoch 19/200\n",
            "10/10 [==============================] - 34s 4s/step - det_loss: 0.7354 - cls_loss: 0.5959 - box_loss: 0.0028 - reg_l2_loss: 0.0946 - loss: 0.8299 - learning_rate: 0.0098 - gradient_norm: 2.9087 - val_det_loss: 0.6360 - val_cls_loss: 0.5579 - val_box_loss: 0.0016 - val_reg_l2_loss: 0.0946 - val_loss: 0.7306\n",
            "Epoch 20/200\n",
            "10/10 [==============================] - 44s 5s/step - det_loss: 0.7346 - cls_loss: 0.6113 - box_loss: 0.0025 - reg_l2_loss: 0.0946 - loss: 0.8291 - learning_rate: 0.0098 - gradient_norm: 2.9659 - val_det_loss: 0.7182 - val_cls_loss: 0.6221 - val_box_loss: 0.0019 - val_reg_l2_loss: 0.0946 - val_loss: 0.8127\n",
            "Epoch 21/200\n",
            "10/10 [==============================] - 30s 3s/step - det_loss: 0.6759 - cls_loss: 0.5613 - box_loss: 0.0023 - reg_l2_loss: 0.0946 - loss: 0.7704 - learning_rate: 0.0097 - gradient_norm: 2.6712 - val_det_loss: 0.7788 - val_cls_loss: 0.6647 - val_box_loss: 0.0023 - val_reg_l2_loss: 0.0946 - val_loss: 0.8734\n",
            "Epoch 22/200\n",
            "10/10 [==============================] - 34s 4s/step - det_loss: 0.6632 - cls_loss: 0.5382 - box_loss: 0.0025 - reg_l2_loss: 0.0946 - loss: 0.7578 - learning_rate: 0.0097 - gradient_norm: 2.7507 - val_det_loss: 0.6262 - val_cls_loss: 0.5628 - val_box_loss: 0.0013 - val_reg_l2_loss: 0.0946 - val_loss: 0.7208\n",
            "Epoch 23/200\n",
            "10/10 [==============================] - 36s 4s/step - det_loss: 0.6331 - cls_loss: 0.5282 - box_loss: 0.0021 - reg_l2_loss: 0.0946 - loss: 0.7277 - learning_rate: 0.0097 - gradient_norm: 2.5952 - val_det_loss: 0.6847 - val_cls_loss: 0.6257 - val_box_loss: 0.0012 - val_reg_l2_loss: 0.0946 - val_loss: 0.7793\n",
            "Epoch 24/200\n",
            "10/10 [==============================] - 33s 4s/step - det_loss: 0.6523 - cls_loss: 0.5442 - box_loss: 0.0022 - reg_l2_loss: 0.0946 - loss: 0.7469 - learning_rate: 0.0097 - gradient_norm: 2.5641 - val_det_loss: 0.6991 - val_cls_loss: 0.6301 - val_box_loss: 0.0014 - val_reg_l2_loss: 0.0946 - val_loss: 0.7937\n",
            "Epoch 25/200\n",
            "10/10 [==============================] - 47s 5s/step - det_loss: 0.5997 - cls_loss: 0.5010 - box_loss: 0.0020 - reg_l2_loss: 0.0946 - loss: 0.6943 - learning_rate: 0.0096 - gradient_norm: 2.7685 - val_det_loss: 0.6248 - val_cls_loss: 0.5525 - val_box_loss: 0.0014 - val_reg_l2_loss: 0.0946 - val_loss: 0.7194\n",
            "Epoch 26/200\n",
            "10/10 [==============================] - 27s 3s/step - det_loss: 0.5906 - cls_loss: 0.4925 - box_loss: 0.0020 - reg_l2_loss: 0.0946 - loss: 0.6853 - learning_rate: 0.0096 - gradient_norm: 3.3815 - val_det_loss: 0.6233 - val_cls_loss: 0.5637 - val_box_loss: 0.0012 - val_reg_l2_loss: 0.0946 - val_loss: 0.7180\n",
            "Epoch 27/200\n",
            "10/10 [==============================] - 33s 4s/step - det_loss: 0.6017 - cls_loss: 0.5201 - box_loss: 0.0016 - reg_l2_loss: 0.0946 - loss: 0.6964 - learning_rate: 0.0096 - gradient_norm: 2.5409 - val_det_loss: 0.5794 - val_cls_loss: 0.5209 - val_box_loss: 0.0012 - val_reg_l2_loss: 0.0946 - val_loss: 0.6741\n",
            "Epoch 28/200\n",
            "10/10 [==============================] - 36s 4s/step - det_loss: 0.5716 - cls_loss: 0.4886 - box_loss: 0.0017 - reg_l2_loss: 0.0946 - loss: 0.6663 - learning_rate: 0.0095 - gradient_norm: 2.3535 - val_det_loss: 0.6494 - val_cls_loss: 0.5756 - val_box_loss: 0.0015 - val_reg_l2_loss: 0.0947 - val_loss: 0.7440\n",
            "Epoch 29/200\n",
            "10/10 [==============================] - 35s 4s/step - det_loss: 0.5890 - cls_loss: 0.4926 - box_loss: 0.0019 - reg_l2_loss: 0.0947 - loss: 0.6836 - learning_rate: 0.0095 - gradient_norm: 2.9747 - val_det_loss: 0.5295 - val_cls_loss: 0.4663 - val_box_loss: 0.0013 - val_reg_l2_loss: 0.0947 - val_loss: 0.6241\n",
            "Epoch 30/200\n",
            "10/10 [==============================] - 41s 4s/step - det_loss: 0.5646 - cls_loss: 0.4807 - box_loss: 0.0017 - reg_l2_loss: 0.0947 - loss: 0.6593 - learning_rate: 0.0095 - gradient_norm: 3.0830 - val_det_loss: 0.5055 - val_cls_loss: 0.4574 - val_box_loss: 9.6184e-04 - val_reg_l2_loss: 0.0947 - val_loss: 0.6002\n",
            "Epoch 31/200\n",
            "10/10 [==============================] - 32s 3s/step - det_loss: 0.5417 - cls_loss: 0.4534 - box_loss: 0.0018 - reg_l2_loss: 0.0947 - loss: 0.6364 - learning_rate: 0.0094 - gradient_norm: 2.2794 - val_det_loss: 0.5338 - val_cls_loss: 0.4889 - val_box_loss: 8.9809e-04 - val_reg_l2_loss: 0.0947 - val_loss: 0.6284\n",
            "Epoch 32/200\n",
            "10/10 [==============================] - 35s 4s/step - det_loss: 0.5818 - cls_loss: 0.5050 - box_loss: 0.0015 - reg_l2_loss: 0.0947 - loss: 0.6765 - learning_rate: 0.0094 - gradient_norm: 2.7447 - val_det_loss: 0.5280 - val_cls_loss: 0.4673 - val_box_loss: 0.0012 - val_reg_l2_loss: 0.0947 - val_loss: 0.6227\n",
            "Epoch 33/200\n",
            "10/10 [==============================] - 35s 4s/step - det_loss: 0.5540 - cls_loss: 0.4783 - box_loss: 0.0015 - reg_l2_loss: 0.0947 - loss: 0.6487 - learning_rate: 0.0094 - gradient_norm: 3.2701 - val_det_loss: 0.5428 - val_cls_loss: 0.4789 - val_box_loss: 0.0013 - val_reg_l2_loss: 0.0947 - val_loss: 0.6375\n",
            "Epoch 34/200\n",
            "10/10 [==============================] - 34s 4s/step - det_loss: 0.5391 - cls_loss: 0.4648 - box_loss: 0.0015 - reg_l2_loss: 0.0947 - loss: 0.6338 - learning_rate: 0.0093 - gradient_norm: 3.6666 - val_det_loss: 0.5478 - val_cls_loss: 0.4734 - val_box_loss: 0.0015 - val_reg_l2_loss: 0.0947 - val_loss: 0.6425\n",
            "Epoch 35/200\n",
            "10/10 [==============================] - 43s 5s/step - det_loss: 0.6331 - cls_loss: 0.5006 - box_loss: 0.0026 - reg_l2_loss: 0.0947 - loss: 0.7278 - learning_rate: 0.0093 - gradient_norm: 3.1620 - val_det_loss: 0.5596 - val_cls_loss: 0.4878 - val_box_loss: 0.0014 - val_reg_l2_loss: 0.0947 - val_loss: 0.6543\n",
            "Epoch 36/200\n",
            "10/10 [==============================] - 30s 3s/step - det_loss: 0.5458 - cls_loss: 0.4636 - box_loss: 0.0016 - reg_l2_loss: 0.0947 - loss: 0.6405 - learning_rate: 0.0092 - gradient_norm: 2.9510 - val_det_loss: 0.5896 - val_cls_loss: 0.4929 - val_box_loss: 0.0019 - val_reg_l2_loss: 0.0947 - val_loss: 0.6843\n",
            "Epoch 37/200\n",
            "10/10 [==============================] - 34s 4s/step - det_loss: 0.5955 - cls_loss: 0.4844 - box_loss: 0.0022 - reg_l2_loss: 0.0947 - loss: 0.6903 - learning_rate: 0.0092 - gradient_norm: 3.7901 - val_det_loss: 0.5711 - val_cls_loss: 0.4753 - val_box_loss: 0.0019 - val_reg_l2_loss: 0.0947 - val_loss: 0.6658\n",
            "Epoch 38/200\n",
            "10/10 [==============================] - 35s 4s/step - det_loss: 0.5499 - cls_loss: 0.4638 - box_loss: 0.0017 - reg_l2_loss: 0.0947 - loss: 0.6446 - learning_rate: 0.0091 - gradient_norm: 3.0129 - val_det_loss: 0.6206 - val_cls_loss: 0.5263 - val_box_loss: 0.0019 - val_reg_l2_loss: 0.0948 - val_loss: 0.7154\n",
            "Epoch 39/200\n",
            "10/10 [==============================] - 34s 4s/step - det_loss: 0.6206 - cls_loss: 0.5257 - box_loss: 0.0019 - reg_l2_loss: 0.0948 - loss: 0.7154 - learning_rate: 0.0091 - gradient_norm: 3.0271 - val_det_loss: 0.6030 - val_cls_loss: 0.4923 - val_box_loss: 0.0022 - val_reg_l2_loss: 0.0948 - val_loss: 0.6977\n",
            "Epoch 40/200\n",
            "10/10 [==============================] - 43s 5s/step - det_loss: 0.5974 - cls_loss: 0.4940 - box_loss: 0.0021 - reg_l2_loss: 0.0948 - loss: 0.6921 - learning_rate: 0.0091 - gradient_norm: 3.5193 - val_det_loss: 0.5334 - val_cls_loss: 0.4812 - val_box_loss: 0.0010 - val_reg_l2_loss: 0.0948 - val_loss: 0.6282\n",
            "Epoch 41/200\n",
            "10/10 [==============================] - 30s 3s/step - det_loss: 0.5887 - cls_loss: 0.4836 - box_loss: 0.0021 - reg_l2_loss: 0.0948 - loss: 0.6835 - learning_rate: 0.0090 - gradient_norm: 3.2582 - val_det_loss: 0.5453 - val_cls_loss: 0.4811 - val_box_loss: 0.0013 - val_reg_l2_loss: 0.0948 - val_loss: 0.6401\n",
            "Epoch 42/200\n",
            "10/10 [==============================] - 35s 4s/step - det_loss: 0.5501 - cls_loss: 0.4697 - box_loss: 0.0016 - reg_l2_loss: 0.0948 - loss: 0.6449 - learning_rate: 0.0090 - gradient_norm: 2.9197 - val_det_loss: 0.5260 - val_cls_loss: 0.4550 - val_box_loss: 0.0014 - val_reg_l2_loss: 0.0948 - val_loss: 0.6208\n",
            "Epoch 43/200\n",
            "10/10 [==============================] - 34s 4s/step - det_loss: 0.5840 - cls_loss: 0.4836 - box_loss: 0.0020 - reg_l2_loss: 0.0948 - loss: 0.6788 - learning_rate: 0.0089 - gradient_norm: 2.9297 - val_det_loss: 0.5642 - val_cls_loss: 0.4911 - val_box_loss: 0.0015 - val_reg_l2_loss: 0.0948 - val_loss: 0.6590\n",
            "Epoch 44/200\n",
            "10/10 [==============================] - 35s 4s/step - det_loss: 0.5378 - cls_loss: 0.4512 - box_loss: 0.0017 - reg_l2_loss: 0.0948 - loss: 0.6326 - learning_rate: 0.0089 - gradient_norm: 2.6877 - val_det_loss: 0.6035 - val_cls_loss: 0.4981 - val_box_loss: 0.0021 - val_reg_l2_loss: 0.0948 - val_loss: 0.6984\n",
            "Epoch 45/200\n",
            "10/10 [==============================] - 44s 5s/step - det_loss: 0.5978 - cls_loss: 0.4759 - box_loss: 0.0024 - reg_l2_loss: 0.0948 - loss: 0.6926 - learning_rate: 0.0088 - gradient_norm: 3.3887 - val_det_loss: 0.5368 - val_cls_loss: 0.4506 - val_box_loss: 0.0017 - val_reg_l2_loss: 0.0948 - val_loss: 0.6317\n",
            "Epoch 46/200\n",
            "10/10 [==============================] - 29s 3s/step - det_loss: 0.5264 - cls_loss: 0.4362 - box_loss: 0.0018 - reg_l2_loss: 0.0948 - loss: 0.6212 - learning_rate: 0.0088 - gradient_norm: 3.1739 - val_det_loss: 0.4987 - val_cls_loss: 0.4426 - val_box_loss: 0.0011 - val_reg_l2_loss: 0.0948 - val_loss: 0.5935\n",
            "Epoch 47/200\n",
            "10/10 [==============================] - 35s 4s/step - det_loss: 0.5342 - cls_loss: 0.4433 - box_loss: 0.0018 - reg_l2_loss: 0.0948 - loss: 0.6290 - learning_rate: 0.0087 - gradient_norm: 2.3794 - val_det_loss: 0.4904 - val_cls_loss: 0.4395 - val_box_loss: 0.0010 - val_reg_l2_loss: 0.0948 - val_loss: 0.5852\n",
            "Epoch 48/200\n",
            "10/10 [==============================] - 34s 4s/step - det_loss: 0.5244 - cls_loss: 0.4467 - box_loss: 0.0016 - reg_l2_loss: 0.0948 - loss: 0.6192 - learning_rate: 0.0087 - gradient_norm: 3.9152 - val_det_loss: 0.5096 - val_cls_loss: 0.4365 - val_box_loss: 0.0015 - val_reg_l2_loss: 0.0948 - val_loss: 0.6045\n",
            "Epoch 49/200\n",
            "10/10 [==============================] - 35s 4s/step - det_loss: 0.5041 - cls_loss: 0.4317 - box_loss: 0.0014 - reg_l2_loss: 0.0949 - loss: 0.5990 - learning_rate: 0.0086 - gradient_norm: 3.3547 - val_det_loss: 0.5054 - val_cls_loss: 0.4527 - val_box_loss: 0.0011 - val_reg_l2_loss: 0.0949 - val_loss: 0.6003\n",
            "Epoch 50/200\n",
            "10/10 [==============================] - 42s 5s/step - det_loss: 0.5060 - cls_loss: 0.4289 - box_loss: 0.0015 - reg_l2_loss: 0.0949 - loss: 0.6009 - learning_rate: 0.0085 - gradient_norm: 3.8554 - val_det_loss: 0.5308 - val_cls_loss: 0.4742 - val_box_loss: 0.0011 - val_reg_l2_loss: 0.0949 - val_loss: 0.6257\n",
            "Epoch 51/200\n",
            "10/10 [==============================] - 31s 3s/step - det_loss: 0.5175 - cls_loss: 0.4471 - box_loss: 0.0014 - reg_l2_loss: 0.0949 - loss: 0.6124 - learning_rate: 0.0085 - gradient_norm: 2.8535 - val_det_loss: 0.5352 - val_cls_loss: 0.4719 - val_box_loss: 0.0013 - val_reg_l2_loss: 0.0949 - val_loss: 0.6301\n",
            "Epoch 52/200\n",
            "10/10 [==============================] - 35s 4s/step - det_loss: 0.5247 - cls_loss: 0.4355 - box_loss: 0.0018 - reg_l2_loss: 0.0949 - loss: 0.6196 - learning_rate: 0.0084 - gradient_norm: 3.1798 - val_det_loss: 0.5320 - val_cls_loss: 0.4780 - val_box_loss: 0.0011 - val_reg_l2_loss: 0.0949 - val_loss: 0.6269\n",
            "Epoch 53/200\n",
            "10/10 [==============================] - 35s 4s/step - det_loss: 0.5013 - cls_loss: 0.4159 - box_loss: 0.0017 - reg_l2_loss: 0.0949 - loss: 0.5962 - learning_rate: 0.0084 - gradient_norm: 2.7482 - val_det_loss: 0.6152 - val_cls_loss: 0.5300 - val_box_loss: 0.0017 - val_reg_l2_loss: 0.0949 - val_loss: 0.7101\n",
            "Epoch 54/200\n",
            "10/10 [==============================] - 35s 4s/step - det_loss: 0.5123 - cls_loss: 0.4336 - box_loss: 0.0016 - reg_l2_loss: 0.0949 - loss: 0.6072 - learning_rate: 0.0083 - gradient_norm: 3.3478 - val_det_loss: 0.8704 - val_cls_loss: 0.7835 - val_box_loss: 0.0017 - val_reg_l2_loss: 0.0949 - val_loss: 0.9653\n",
            "Epoch 55/200\n",
            "10/10 [==============================] - 46s 5s/step - det_loss: 0.5168 - cls_loss: 0.4413 - box_loss: 0.0015 - reg_l2_loss: 0.0949 - loss: 0.6117 - learning_rate: 0.0083 - gradient_norm: 2.7260 - val_det_loss: 0.5295 - val_cls_loss: 0.4593 - val_box_loss: 0.0014 - val_reg_l2_loss: 0.0949 - val_loss: 0.6244\n",
            "Epoch 56/200\n",
            "10/10 [==============================] - 28s 3s/step - det_loss: 0.4726 - cls_loss: 0.3985 - box_loss: 0.0015 - reg_l2_loss: 0.0949 - loss: 0.5676 - learning_rate: 0.0082 - gradient_norm: 2.2708 - val_det_loss: 0.4886 - val_cls_loss: 0.4369 - val_box_loss: 0.0010 - val_reg_l2_loss: 0.0949 - val_loss: 0.5836\n",
            "Epoch 57/200\n",
            "10/10 [==============================] - 34s 4s/step - det_loss: 0.4448 - cls_loss: 0.3815 - box_loss: 0.0013 - reg_l2_loss: 0.0949 - loss: 0.5397 - learning_rate: 0.0081 - gradient_norm: 1.8550 - val_det_loss: 0.4363 - val_cls_loss: 0.3735 - val_box_loss: 0.0013 - val_reg_l2_loss: 0.0949 - val_loss: 0.5313\n",
            "Epoch 58/200\n",
            "10/10 [==============================] - 35s 4s/step - det_loss: 0.4507 - cls_loss: 0.3721 - box_loss: 0.0016 - reg_l2_loss: 0.0949 - loss: 0.5456 - learning_rate: 0.0081 - gradient_norm: 2.2332 - val_det_loss: 0.4204 - val_cls_loss: 0.3593 - val_box_loss: 0.0012 - val_reg_l2_loss: 0.0949 - val_loss: 0.5153\n",
            "Epoch 59/200\n",
            "10/10 [==============================] - 34s 4s/step - det_loss: 0.4464 - cls_loss: 0.3655 - box_loss: 0.0016 - reg_l2_loss: 0.0949 - loss: 0.5414 - learning_rate: 0.0080 - gradient_norm: 2.4777 - val_det_loss: 0.4836 - val_cls_loss: 0.4121 - val_box_loss: 0.0014 - val_reg_l2_loss: 0.0949 - val_loss: 0.5786\n",
            "Epoch 60/200\n",
            "10/10 [==============================] - 43s 5s/step - det_loss: 0.4675 - cls_loss: 0.3990 - box_loss: 0.0014 - reg_l2_loss: 0.0949 - loss: 0.5624 - learning_rate: 0.0080 - gradient_norm: 4.2356 - val_det_loss: 0.5164 - val_cls_loss: 0.4694 - val_box_loss: 9.4002e-04 - val_reg_l2_loss: 0.0949 - val_loss: 0.6113\n",
            "Epoch 61/200\n",
            "10/10 [==============================] - 31s 3s/step - det_loss: 0.5093 - cls_loss: 0.4471 - box_loss: 0.0012 - reg_l2_loss: 0.0950 - loss: 0.6043 - learning_rate: 0.0079 - gradient_norm: 3.8776 - val_det_loss: 0.4362 - val_cls_loss: 0.3989 - val_box_loss: 7.4592e-04 - val_reg_l2_loss: 0.0950 - val_loss: 0.5312\n",
            "Epoch 62/200\n",
            "10/10 [==============================] - 34s 4s/step - det_loss: 0.4584 - cls_loss: 0.3948 - box_loss: 0.0013 - reg_l2_loss: 0.0950 - loss: 0.5533 - learning_rate: 0.0078 - gradient_norm: 2.6881 - val_det_loss: 0.5010 - val_cls_loss: 0.4355 - val_box_loss: 0.0013 - val_reg_l2_loss: 0.0950 - val_loss: 0.5960\n",
            "Epoch 63/200\n",
            "10/10 [==============================] - 35s 4s/step - det_loss: 0.4884 - cls_loss: 0.4022 - box_loss: 0.0017 - reg_l2_loss: 0.0950 - loss: 0.5834 - learning_rate: 0.0078 - gradient_norm: 2.3699 - val_det_loss: 0.4914 - val_cls_loss: 0.4284 - val_box_loss: 0.0013 - val_reg_l2_loss: 0.0950 - val_loss: 0.5864\n",
            "Epoch 64/200\n",
            "10/10 [==============================] - 35s 4s/step - det_loss: 0.4698 - cls_loss: 0.3880 - box_loss: 0.0016 - reg_l2_loss: 0.0950 - loss: 0.5648 - learning_rate: 0.0077 - gradient_norm: 2.8039 - val_det_loss: 0.4405 - val_cls_loss: 0.3998 - val_box_loss: 8.1508e-04 - val_reg_l2_loss: 0.0950 - val_loss: 0.5355\n",
            "Epoch 65/200\n",
            "10/10 [==============================] - 44s 5s/step - det_loss: 0.4551 - cls_loss: 0.3777 - box_loss: 0.0015 - reg_l2_loss: 0.0950 - loss: 0.5501 - learning_rate: 0.0076 - gradient_norm: 2.6093 - val_det_loss: 0.4814 - val_cls_loss: 0.4204 - val_box_loss: 0.0012 - val_reg_l2_loss: 0.0950 - val_loss: 0.5764\n",
            "Epoch 66/200\n",
            "10/10 [==============================] - 30s 3s/step - det_loss: 0.4418 - cls_loss: 0.3744 - box_loss: 0.0013 - reg_l2_loss: 0.0950 - loss: 0.5368 - learning_rate: 0.0076 - gradient_norm: 2.6257 - val_det_loss: 0.4102 - val_cls_loss: 0.3553 - val_box_loss: 0.0011 - val_reg_l2_loss: 0.0950 - val_loss: 0.5052\n",
            "Epoch 67/200\n",
            "10/10 [==============================] - 35s 4s/step - det_loss: 0.4769 - cls_loss: 0.4000 - box_loss: 0.0015 - reg_l2_loss: 0.0950 - loss: 0.5719 - learning_rate: 0.0075 - gradient_norm: 3.6980 - val_det_loss: 0.4742 - val_cls_loss: 0.4244 - val_box_loss: 9.9673e-04 - val_reg_l2_loss: 0.0950 - val_loss: 0.5692\n",
            "Epoch 68/200\n",
            "10/10 [==============================] - 35s 4s/step - det_loss: 0.4286 - cls_loss: 0.3659 - box_loss: 0.0013 - reg_l2_loss: 0.0950 - loss: 0.5236 - learning_rate: 0.0074 - gradient_norm: 3.2342 - val_det_loss: 0.4407 - val_cls_loss: 0.3841 - val_box_loss: 0.0011 - val_reg_l2_loss: 0.0950 - val_loss: 0.5358\n",
            "Epoch 69/200\n",
            "10/10 [==============================] - 33s 4s/step - det_loss: 0.4380 - cls_loss: 0.3823 - box_loss: 0.0011 - reg_l2_loss: 0.0950 - loss: 0.5330 - learning_rate: 0.0074 - gradient_norm: 2.8907 - val_det_loss: 0.4674 - val_cls_loss: 0.4039 - val_box_loss: 0.0013 - val_reg_l2_loss: 0.0950 - val_loss: 0.5624\n",
            "Epoch 70/200\n",
            "10/10 [==============================] - 44s 5s/step - det_loss: 0.4496 - cls_loss: 0.3820 - box_loss: 0.0014 - reg_l2_loss: 0.0950 - loss: 0.5447 - learning_rate: 0.0073 - gradient_norm: 3.0825 - val_det_loss: 0.4953 - val_cls_loss: 0.4547 - val_box_loss: 8.1238e-04 - val_reg_l2_loss: 0.0950 - val_loss: 0.5903\n",
            "Epoch 71/200\n",
            "10/10 [==============================] - 31s 3s/step - det_loss: 0.5612 - cls_loss: 0.4677 - box_loss: 0.0019 - reg_l2_loss: 0.0950 - loss: 0.6562 - learning_rate: 0.0072 - gradient_norm: 4.6287 - val_det_loss: 0.5108 - val_cls_loss: 0.4613 - val_box_loss: 9.8829e-04 - val_reg_l2_loss: 0.0950 - val_loss: 0.6058\n",
            "Epoch 72/200\n",
            "10/10 [==============================] - 33s 4s/step - det_loss: 0.4625 - cls_loss: 0.3965 - box_loss: 0.0013 - reg_l2_loss: 0.0950 - loss: 0.5575 - learning_rate: 0.0071 - gradient_norm: 2.8344 - val_det_loss: 0.6160 - val_cls_loss: 0.5572 - val_box_loss: 0.0012 - val_reg_l2_loss: 0.0950 - val_loss: 0.7110\n",
            "Epoch 73/200\n",
            "10/10 [==============================] - 36s 4s/step - det_loss: 0.4740 - cls_loss: 0.4134 - box_loss: 0.0012 - reg_l2_loss: 0.0950 - loss: 0.5690 - learning_rate: 0.0071 - gradient_norm: 4.1907 - val_det_loss: 0.4822 - val_cls_loss: 0.4402 - val_box_loss: 8.3919e-04 - val_reg_l2_loss: 0.0950 - val_loss: 0.5772\n",
            "Epoch 74/200\n",
            "10/10 [==============================] - 35s 4s/step - det_loss: 0.4686 - cls_loss: 0.3894 - box_loss: 0.0016 - reg_l2_loss: 0.0950 - loss: 0.5637 - learning_rate: 0.0070 - gradient_norm: 3.1100 - val_det_loss: 0.5895 - val_cls_loss: 0.5484 - val_box_loss: 8.2190e-04 - val_reg_l2_loss: 0.0951 - val_loss: 0.6846\n",
            "Epoch 75/200\n",
            "10/10 [==============================] - 43s 5s/step - det_loss: 0.4459 - cls_loss: 0.3966 - box_loss: 9.8467e-04 - reg_l2_loss: 0.0951 - loss: 0.5409 - learning_rate: 0.0069 - gradient_norm: 3.6235 - val_det_loss: 0.4350 - val_cls_loss: 0.3913 - val_box_loss: 8.7496e-04 - val_reg_l2_loss: 0.0951 - val_loss: 0.5301\n",
            "Epoch 76/200\n",
            "10/10 [==============================] - 33s 4s/step - det_loss: 0.4217 - cls_loss: 0.3638 - box_loss: 0.0012 - reg_l2_loss: 0.0951 - loss: 0.5168 - learning_rate: 0.0069 - gradient_norm: 2.6273 - val_det_loss: 0.4944 - val_cls_loss: 0.4547 - val_box_loss: 7.9324e-04 - val_reg_l2_loss: 0.0951 - val_loss: 0.5895\n",
            "Epoch 77/200\n",
            "10/10 [==============================] - 33s 4s/step - det_loss: 0.4468 - cls_loss: 0.3817 - box_loss: 0.0013 - reg_l2_loss: 0.0951 - loss: 0.5418 - learning_rate: 0.0068 - gradient_norm: 2.5514 - val_det_loss: 0.5264 - val_cls_loss: 0.4594 - val_box_loss: 0.0013 - val_reg_l2_loss: 0.0951 - val_loss: 0.6214\n",
            "Epoch 78/200\n",
            "10/10 [==============================] - 36s 4s/step - det_loss: 0.4055 - cls_loss: 0.3526 - box_loss: 0.0011 - reg_l2_loss: 0.0951 - loss: 0.5005 - learning_rate: 0.0067 - gradient_norm: 2.9315 - val_det_loss: 0.4831 - val_cls_loss: 0.4251 - val_box_loss: 0.0012 - val_reg_l2_loss: 0.0951 - val_loss: 0.5782\n",
            "Epoch 79/200\n",
            "10/10 [==============================] - 34s 4s/step - det_loss: 0.4486 - cls_loss: 0.3758 - box_loss: 0.0015 - reg_l2_loss: 0.0951 - loss: 0.5437 - learning_rate: 0.0066 - gradient_norm: 3.3605 - val_det_loss: 0.5024 - val_cls_loss: 0.4466 - val_box_loss: 0.0011 - val_reg_l2_loss: 0.0951 - val_loss: 0.5975\n",
            "Epoch 80/200\n",
            "10/10 [==============================] - 43s 5s/step - det_loss: 0.4586 - cls_loss: 0.3844 - box_loss: 0.0015 - reg_l2_loss: 0.0951 - loss: 0.5537 - learning_rate: 0.0066 - gradient_norm: 3.2327 - val_det_loss: 0.4964 - val_cls_loss: 0.4366 - val_box_loss: 0.0012 - val_reg_l2_loss: 0.0951 - val_loss: 0.5915\n",
            "Epoch 81/200\n",
            "10/10 [==============================] - 31s 3s/step - det_loss: 0.3845 - cls_loss: 0.3389 - box_loss: 9.1172e-04 - reg_l2_loss: 0.0951 - loss: 0.4796 - learning_rate: 0.0065 - gradient_norm: 1.9788 - val_det_loss: 0.5037 - val_cls_loss: 0.4576 - val_box_loss: 9.2206e-04 - val_reg_l2_loss: 0.0951 - val_loss: 0.5988\n",
            "Epoch 82/200\n",
            "10/10 [==============================] - 34s 4s/step - det_loss: 0.4048 - cls_loss: 0.3486 - box_loss: 0.0011 - reg_l2_loss: 0.0951 - loss: 0.4999 - learning_rate: 0.0064 - gradient_norm: 2.5020 - val_det_loss: 0.5070 - val_cls_loss: 0.4551 - val_box_loss: 0.0010 - val_reg_l2_loss: 0.0951 - val_loss: 0.6021\n",
            "Epoch 83/200\n",
            "10/10 [==============================] - 35s 4s/step - det_loss: 0.3899 - cls_loss: 0.3272 - box_loss: 0.0013 - reg_l2_loss: 0.0951 - loss: 0.4850 - learning_rate: 0.0063 - gradient_norm: 2.4532 - val_det_loss: 0.4814 - val_cls_loss: 0.4261 - val_box_loss: 0.0011 - val_reg_l2_loss: 0.0951 - val_loss: 0.5765\n",
            "Epoch 84/200\n",
            "10/10 [==============================] - 35s 4s/step - det_loss: 0.3629 - cls_loss: 0.3168 - box_loss: 9.2367e-04 - reg_l2_loss: 0.0951 - loss: 0.4580 - learning_rate: 0.0063 - gradient_norm: 1.8526 - val_det_loss: 0.4262 - val_cls_loss: 0.3913 - val_box_loss: 6.9908e-04 - val_reg_l2_loss: 0.0951 - val_loss: 0.5213\n",
            "Epoch 85/200\n",
            "10/10 [==============================] - 44s 5s/step - det_loss: 0.3131 - cls_loss: 0.2771 - box_loss: 7.2128e-04 - reg_l2_loss: 0.0951 - loss: 0.4082 - learning_rate: 0.0062 - gradient_norm: 2.0933 - val_det_loss: 0.4509 - val_cls_loss: 0.4093 - val_box_loss: 8.3198e-04 - val_reg_l2_loss: 0.0951 - val_loss: 0.5461\n",
            "Epoch 86/200\n",
            "10/10 [==============================] - 32s 3s/step - det_loss: 0.3912 - cls_loss: 0.3319 - box_loss: 0.0012 - reg_l2_loss: 0.0951 - loss: 0.4863 - learning_rate: 0.0061 - gradient_norm: 2.8514 - val_det_loss: 0.4178 - val_cls_loss: 0.3852 - val_box_loss: 6.5077e-04 - val_reg_l2_loss: 0.0951 - val_loss: 0.5129\n",
            "Epoch 87/200\n",
            "10/10 [==============================] - 34s 4s/step - det_loss: 0.3661 - cls_loss: 0.3099 - box_loss: 0.0011 - reg_l2_loss: 0.0951 - loss: 0.4612 - learning_rate: 0.0060 - gradient_norm: 2.5119 - val_det_loss: 0.3523 - val_cls_loss: 0.3174 - val_box_loss: 6.9748e-04 - val_reg_l2_loss: 0.0951 - val_loss: 0.4474\n",
            "Epoch 88/200\n",
            "10/10 [==============================] - 34s 4s/step - det_loss: 0.3889 - cls_loss: 0.3291 - box_loss: 0.0012 - reg_l2_loss: 0.0951 - loss: 0.4840 - learning_rate: 0.0059 - gradient_norm: 2.3340 - val_det_loss: 0.3518 - val_cls_loss: 0.3183 - val_box_loss: 6.7049e-04 - val_reg_l2_loss: 0.0951 - val_loss: 0.4469\n",
            "Epoch 89/200\n",
            "10/10 [==============================] - 35s 4s/step - det_loss: 0.3565 - cls_loss: 0.3152 - box_loss: 8.2747e-04 - reg_l2_loss: 0.0951 - loss: 0.4517 - learning_rate: 0.0059 - gradient_norm: 2.5009 - val_det_loss: 0.3517 - val_cls_loss: 0.3222 - val_box_loss: 5.9066e-04 - val_reg_l2_loss: 0.0951 - val_loss: 0.4468\n",
            "Epoch 90/200\n",
            "10/10 [==============================] - 44s 5s/step - det_loss: 0.3982 - cls_loss: 0.3406 - box_loss: 0.0012 - reg_l2_loss: 0.0951 - loss: 0.4933 - learning_rate: 0.0058 - gradient_norm: 3.0210 - val_det_loss: 0.3801 - val_cls_loss: 0.3472 - val_box_loss: 6.5751e-04 - val_reg_l2_loss: 0.0951 - val_loss: 0.4752\n",
            "Epoch 91/200\n",
            "10/10 [==============================] - 30s 3s/step - det_loss: 0.3377 - cls_loss: 0.2888 - box_loss: 9.7900e-04 - reg_l2_loss: 0.0951 - loss: 0.4329 - learning_rate: 0.0057 - gradient_norm: 2.5580 - val_det_loss: 0.3547 - val_cls_loss: 0.3265 - val_box_loss: 5.6354e-04 - val_reg_l2_loss: 0.0951 - val_loss: 0.4498\n",
            "Epoch 92/200\n",
            "10/10 [==============================] - 34s 4s/step - det_loss: 0.3593 - cls_loss: 0.3103 - box_loss: 9.7982e-04 - reg_l2_loss: 0.0951 - loss: 0.4545 - learning_rate: 0.0056 - gradient_norm: 2.4052 - val_det_loss: 0.3355 - val_cls_loss: 0.3087 - val_box_loss: 5.3624e-04 - val_reg_l2_loss: 0.0951 - val_loss: 0.4307\n",
            "Epoch 93/200\n",
            "10/10 [==============================] - 34s 4s/step - det_loss: 0.3374 - cls_loss: 0.2961 - box_loss: 8.2619e-04 - reg_l2_loss: 0.0951 - loss: 0.4325 - learning_rate: 0.0056 - gradient_norm: 2.3302 - val_det_loss: 0.3148 - val_cls_loss: 0.2920 - val_box_loss: 4.5739e-04 - val_reg_l2_loss: 0.0951 - val_loss: 0.4100\n",
            "Epoch 94/200\n",
            "10/10 [==============================] - 36s 4s/step - det_loss: 0.3443 - cls_loss: 0.2992 - box_loss: 9.0234e-04 - reg_l2_loss: 0.0951 - loss: 0.4394 - learning_rate: 0.0055 - gradient_norm: 2.3695 - val_det_loss: 0.3222 - val_cls_loss: 0.2867 - val_box_loss: 7.0974e-04 - val_reg_l2_loss: 0.0951 - val_loss: 0.4174\n",
            "Epoch 95/200\n",
            "10/10 [==============================] - 43s 5s/step - det_loss: 0.3627 - cls_loss: 0.3079 - box_loss: 0.0011 - reg_l2_loss: 0.0951 - loss: 0.4578 - learning_rate: 0.0054 - gradient_norm: 2.7534 - val_det_loss: 0.3208 - val_cls_loss: 0.2921 - val_box_loss: 5.7299e-04 - val_reg_l2_loss: 0.0951 - val_loss: 0.4159\n",
            "Epoch 96/200\n",
            "10/10 [==============================] - 30s 3s/step - det_loss: 0.3356 - cls_loss: 0.2894 - box_loss: 9.2303e-04 - reg_l2_loss: 0.0951 - loss: 0.4307 - learning_rate: 0.0053 - gradient_norm: 2.4805 - val_det_loss: 0.3040 - val_cls_loss: 0.2724 - val_box_loss: 6.3146e-04 - val_reg_l2_loss: 0.0951 - val_loss: 0.3991\n",
            "Epoch 97/200\n",
            "10/10 [==============================] - 37s 4s/step - det_loss: 0.3473 - cls_loss: 0.2969 - box_loss: 0.0010 - reg_l2_loss: 0.0951 - loss: 0.4424 - learning_rate: 0.0052 - gradient_norm: 2.2467 - val_det_loss: 0.3604 - val_cls_loss: 0.3285 - val_box_loss: 6.3669e-04 - val_reg_l2_loss: 0.0951 - val_loss: 0.4555\n",
            "Epoch 98/200\n",
            "10/10 [==============================] - 33s 4s/step - det_loss: 0.3289 - cls_loss: 0.2923 - box_loss: 7.3130e-04 - reg_l2_loss: 0.0951 - loss: 0.4240 - learning_rate: 0.0052 - gradient_norm: 2.2677 - val_det_loss: 0.3271 - val_cls_loss: 0.2990 - val_box_loss: 5.6276e-04 - val_reg_l2_loss: 0.0951 - val_loss: 0.4222\n",
            "Epoch 99/200\n",
            "10/10 [==============================] - 35s 4s/step - det_loss: 0.3451 - cls_loss: 0.3025 - box_loss: 8.5229e-04 - reg_l2_loss: 0.0951 - loss: 0.4403 - learning_rate: 0.0051 - gradient_norm: 2.2469 - val_det_loss: 0.3125 - val_cls_loss: 0.2866 - val_box_loss: 5.1843e-04 - val_reg_l2_loss: 0.0951 - val_loss: 0.4077\n",
            "Epoch 100/200\n",
            "10/10 [==============================] - 45s 5s/step - det_loss: 0.3276 - cls_loss: 0.2878 - box_loss: 7.9558e-04 - reg_l2_loss: 0.0951 - loss: 0.4227 - learning_rate: 0.0050 - gradient_norm: 2.2294 - val_det_loss: 0.3334 - val_cls_loss: 0.3048 - val_box_loss: 5.7328e-04 - val_reg_l2_loss: 0.0951 - val_loss: 0.4286\n",
            "Epoch 101/200\n",
            "10/10 [==============================] - 29s 3s/step - det_loss: 0.3344 - cls_loss: 0.2951 - box_loss: 7.8695e-04 - reg_l2_loss: 0.0951 - loss: 0.4295 - learning_rate: 0.0049 - gradient_norm: 2.9441 - val_det_loss: 0.3486 - val_cls_loss: 0.3130 - val_box_loss: 7.1339e-04 - val_reg_l2_loss: 0.0951 - val_loss: 0.4438\n",
            "Epoch 102/200\n",
            "10/10 [==============================] - 35s 4s/step - det_loss: 0.3415 - cls_loss: 0.2984 - box_loss: 8.6178e-04 - reg_l2_loss: 0.0951 - loss: 0.4366 - learning_rate: 0.0048 - gradient_norm: 2.3174 - val_det_loss: 0.3227 - val_cls_loss: 0.2951 - val_box_loss: 5.5155e-04 - val_reg_l2_loss: 0.0951 - val_loss: 0.4178\n",
            "Epoch 103/200\n",
            "10/10 [==============================] - 35s 4s/step - det_loss: 0.3044 - cls_loss: 0.2602 - box_loss: 8.8386e-04 - reg_l2_loss: 0.0951 - loss: 0.3995 - learning_rate: 0.0048 - gradient_norm: 2.2760 - val_det_loss: 0.3041 - val_cls_loss: 0.2739 - val_box_loss: 6.0449e-04 - val_reg_l2_loss: 0.0951 - val_loss: 0.3992\n",
            "Epoch 104/200\n",
            "10/10 [==============================] - 35s 4s/step - det_loss: 0.3219 - cls_loss: 0.2777 - box_loss: 8.8432e-04 - reg_l2_loss: 0.0951 - loss: 0.4170 - learning_rate: 0.0047 - gradient_norm: 2.2568 - val_det_loss: 0.3092 - val_cls_loss: 0.2870 - val_box_loss: 4.4489e-04 - val_reg_l2_loss: 0.0951 - val_loss: 0.4043\n",
            "Epoch 105/200\n",
            "10/10 [==============================] - 43s 5s/step - det_loss: 0.3076 - cls_loss: 0.2675 - box_loss: 8.0088e-04 - reg_l2_loss: 0.0951 - loss: 0.4027 - learning_rate: 0.0046 - gradient_norm: 2.1411 - val_det_loss: 0.3006 - val_cls_loss: 0.2717 - val_box_loss: 5.7856e-04 - val_reg_l2_loss: 0.0951 - val_loss: 0.3957\n",
            "Epoch 106/200\n",
            "10/10 [==============================] - 31s 3s/step - det_loss: 0.3607 - cls_loss: 0.3116 - box_loss: 9.8285e-04 - reg_l2_loss: 0.0951 - loss: 0.4559 - learning_rate: 0.0045 - gradient_norm: 2.6046 - val_det_loss: 0.3179 - val_cls_loss: 0.2934 - val_box_loss: 4.9000e-04 - val_reg_l2_loss: 0.0951 - val_loss: 0.4130\n",
            "Epoch 107/200\n",
            "10/10 [==============================] - 36s 4s/step - det_loss: 0.4055 - cls_loss: 0.3514 - box_loss: 0.0011 - reg_l2_loss: 0.0951 - loss: 0.5006 - learning_rate: 0.0044 - gradient_norm: 3.6967 - val_det_loss: 0.3559 - val_cls_loss: 0.3167 - val_box_loss: 7.8250e-04 - val_reg_l2_loss: 0.0951 - val_loss: 0.4510\n",
            "Epoch 108/200\n",
            "10/10 [==============================] - 33s 4s/step - det_loss: 0.3850 - cls_loss: 0.3250 - box_loss: 0.0012 - reg_l2_loss: 0.0951 - loss: 0.4801 - learning_rate: 0.0044 - gradient_norm: 3.4290 - val_det_loss: 0.3766 - val_cls_loss: 0.3323 - val_box_loss: 8.8445e-04 - val_reg_l2_loss: 0.0951 - val_loss: 0.4717\n",
            "Epoch 109/200\n",
            "10/10 [==============================] - 35s 4s/step - det_loss: 0.3450 - cls_loss: 0.2957 - box_loss: 9.8628e-04 - reg_l2_loss: 0.0951 - loss: 0.4401 - learning_rate: 0.0043 - gradient_norm: 2.6914 - val_det_loss: 0.4546 - val_cls_loss: 0.4019 - val_box_loss: 0.0011 - val_reg_l2_loss: 0.0951 - val_loss: 0.5497\n",
            "Epoch 110/200\n",
            "10/10 [==============================] - 42s 5s/step - det_loss: 0.3328 - cls_loss: 0.2829 - box_loss: 9.9875e-04 - reg_l2_loss: 0.0951 - loss: 0.4279 - learning_rate: 0.0042 - gradient_norm: 2.8607 - val_det_loss: 0.3310 - val_cls_loss: 0.2973 - val_box_loss: 6.7537e-04 - val_reg_l2_loss: 0.0951 - val_loss: 0.4262\n",
            "Epoch 111/200\n",
            "10/10 [==============================] - 32s 3s/step - det_loss: 0.2784 - cls_loss: 0.2386 - box_loss: 7.9645e-04 - reg_l2_loss: 0.0951 - loss: 0.3736 - learning_rate: 0.0041 - gradient_norm: 2.2715 - val_det_loss: 0.3010 - val_cls_loss: 0.2637 - val_box_loss: 7.4733e-04 - val_reg_l2_loss: 0.0951 - val_loss: 0.3961\n",
            "Epoch 112/200\n",
            "10/10 [==============================] - 34s 4s/step - det_loss: 0.2914 - cls_loss: 0.2586 - box_loss: 6.5635e-04 - reg_l2_loss: 0.0951 - loss: 0.3865 - learning_rate: 0.0041 - gradient_norm: 2.0980 - val_det_loss: 0.2891 - val_cls_loss: 0.2594 - val_box_loss: 5.9289e-04 - val_reg_l2_loss: 0.0951 - val_loss: 0.3842\n",
            "Epoch 113/200\n",
            "10/10 [==============================] - 36s 4s/step - det_loss: 0.3703 - cls_loss: 0.3039 - box_loss: 0.0013 - reg_l2_loss: 0.0951 - loss: 0.4654 - learning_rate: 0.0040 - gradient_norm: 2.5965 - val_det_loss: 0.3373 - val_cls_loss: 0.3033 - val_box_loss: 6.7995e-04 - val_reg_l2_loss: 0.0951 - val_loss: 0.4324\n",
            "Epoch 114/200\n",
            "10/10 [==============================] - 35s 4s/step - det_loss: 0.3242 - cls_loss: 0.2812 - box_loss: 8.6000e-04 - reg_l2_loss: 0.0951 - loss: 0.4193 - learning_rate: 0.0039 - gradient_norm: 3.1394 - val_det_loss: 0.3327 - val_cls_loss: 0.3083 - val_box_loss: 4.8769e-04 - val_reg_l2_loss: 0.0951 - val_loss: 0.4278\n",
            "Epoch 115/200\n",
            "10/10 [==============================] - 43s 5s/step - det_loss: 0.3126 - cls_loss: 0.2674 - box_loss: 9.0495e-04 - reg_l2_loss: 0.0951 - loss: 0.4077 - learning_rate: 0.0038 - gradient_norm: 2.1672 - val_det_loss: 0.3226 - val_cls_loss: 0.2953 - val_box_loss: 5.4705e-04 - val_reg_l2_loss: 0.0951 - val_loss: 0.4178\n",
            "Epoch 116/200\n",
            "10/10 [==============================] - 31s 3s/step - det_loss: 0.3335 - cls_loss: 0.2924 - box_loss: 8.2031e-04 - reg_l2_loss: 0.0951 - loss: 0.4286 - learning_rate: 0.0038 - gradient_norm: 2.9066 - val_det_loss: 0.3061 - val_cls_loss: 0.2864 - val_box_loss: 3.9325e-04 - val_reg_l2_loss: 0.0951 - val_loss: 0.4012\n",
            "Epoch 117/200\n",
            "10/10 [==============================] - 34s 4s/step - det_loss: 0.2828 - cls_loss: 0.2415 - box_loss: 8.2602e-04 - reg_l2_loss: 0.0951 - loss: 0.3780 - learning_rate: 0.0037 - gradient_norm: 2.2509 - val_det_loss: 0.3037 - val_cls_loss: 0.2790 - val_box_loss: 4.9409e-04 - val_reg_l2_loss: 0.0951 - val_loss: 0.3988\n",
            "Epoch 118/200\n",
            "10/10 [==============================] - 37s 4s/step - det_loss: 0.3330 - cls_loss: 0.2749 - box_loss: 0.0012 - reg_l2_loss: 0.0951 - loss: 0.4281 - learning_rate: 0.0036 - gradient_norm: 2.5499 - val_det_loss: 0.2951 - val_cls_loss: 0.2678 - val_box_loss: 5.4653e-04 - val_reg_l2_loss: 0.0951 - val_loss: 0.3902\n",
            "Epoch 119/200\n",
            "10/10 [==============================] - 33s 4s/step - det_loss: 0.2994 - cls_loss: 0.2689 - box_loss: 6.0903e-04 - reg_l2_loss: 0.0951 - loss: 0.3945 - learning_rate: 0.0035 - gradient_norm: 2.8839 - val_det_loss: 0.3991 - val_cls_loss: 0.3680 - val_box_loss: 6.2249e-04 - val_reg_l2_loss: 0.0951 - val_loss: 0.4942\n",
            "Epoch 120/200\n",
            "10/10 [==============================] - 44s 5s/step - det_loss: 0.3023 - cls_loss: 0.2585 - box_loss: 8.7616e-04 - reg_l2_loss: 0.0951 - loss: 0.3974 - learning_rate: 0.0034 - gradient_norm: 2.6934 - val_det_loss: 0.3972 - val_cls_loss: 0.3660 - val_box_loss: 6.2472e-04 - val_reg_l2_loss: 0.0951 - val_loss: 0.4924\n",
            "Epoch 121/200\n",
            "10/10 [==============================] - 29s 3s/step - det_loss: 0.2896 - cls_loss: 0.2551 - box_loss: 6.9043e-04 - reg_l2_loss: 0.0951 - loss: 0.3848 - learning_rate: 0.0034 - gradient_norm: 2.4889 - val_det_loss: 0.3680 - val_cls_loss: 0.3312 - val_box_loss: 7.3688e-04 - val_reg_l2_loss: 0.0951 - val_loss: 0.4632\n",
            "Epoch 122/200\n",
            "10/10 [==============================] - 35s 4s/step - det_loss: 0.3226 - cls_loss: 0.2789 - box_loss: 8.7326e-04 - reg_l2_loss: 0.0951 - loss: 0.4177 - learning_rate: 0.0033 - gradient_norm: 2.8448 - val_det_loss: 0.3934 - val_cls_loss: 0.3604 - val_box_loss: 6.5908e-04 - val_reg_l2_loss: 0.0951 - val_loss: 0.4885\n",
            "Epoch 123/200\n",
            "10/10 [==============================] - 35s 4s/step - det_loss: 0.3212 - cls_loss: 0.2736 - box_loss: 9.5154e-04 - reg_l2_loss: 0.0951 - loss: 0.4163 - learning_rate: 0.0032 - gradient_norm: 3.7108 - val_det_loss: 0.5445 - val_cls_loss: 0.5164 - val_box_loss: 5.6252e-04 - val_reg_l2_loss: 0.0951 - val_loss: 0.6397\n",
            "Epoch 124/200\n",
            "10/10 [==============================] - 33s 4s/step - det_loss: 0.3456 - cls_loss: 0.2811 - box_loss: 0.0013 - reg_l2_loss: 0.0951 - loss: 0.4407 - learning_rate: 0.0032 - gradient_norm: 3.7361 - val_det_loss: 0.4720 - val_cls_loss: 0.4427 - val_box_loss: 5.8701e-04 - val_reg_l2_loss: 0.0951 - val_loss: 0.5672\n",
            "Epoch 125/200\n",
            "10/10 [==============================] - 45s 5s/step - det_loss: 0.3349 - cls_loss: 0.2762 - box_loss: 0.0012 - reg_l2_loss: 0.0951 - loss: 0.4300 - learning_rate: 0.0031 - gradient_norm: 3.4815 - val_det_loss: 0.3419 - val_cls_loss: 0.3020 - val_box_loss: 7.9948e-04 - val_reg_l2_loss: 0.0951 - val_loss: 0.4371\n",
            "Epoch 126/200\n",
            "10/10 [==============================] - 30s 3s/step - det_loss: 0.2761 - cls_loss: 0.2404 - box_loss: 7.1436e-04 - reg_l2_loss: 0.0951 - loss: 0.3713 - learning_rate: 0.0030 - gradient_norm: 2.3512 - val_det_loss: 0.3524 - val_cls_loss: 0.3127 - val_box_loss: 7.9343e-04 - val_reg_l2_loss: 0.0951 - val_loss: 0.4476\n",
            "Epoch 127/200\n",
            "10/10 [==============================] - 34s 4s/step - det_loss: 0.2782 - cls_loss: 0.2397 - box_loss: 7.7116e-04 - reg_l2_loss: 0.0951 - loss: 0.3734 - learning_rate: 0.0029 - gradient_norm: 2.2942 - val_det_loss: 0.3453 - val_cls_loss: 0.3077 - val_box_loss: 7.5047e-04 - val_reg_l2_loss: 0.0951 - val_loss: 0.4404\n",
            "Epoch 128/200\n",
            "10/10 [==============================] - 37s 4s/step - det_loss: 0.2746 - cls_loss: 0.2332 - box_loss: 8.2937e-04 - reg_l2_loss: 0.0951 - loss: 0.3698 - learning_rate: 0.0029 - gradient_norm: 2.8665 - val_det_loss: 0.3825 - val_cls_loss: 0.3459 - val_box_loss: 7.3206e-04 - val_reg_l2_loss: 0.0951 - val_loss: 0.4777\n",
            "Epoch 129/200\n",
            "10/10 [==============================] - 36s 4s/step - det_loss: 0.2927 - cls_loss: 0.2504 - box_loss: 8.4513e-04 - reg_l2_loss: 0.0951 - loss: 0.3878 - learning_rate: 0.0028 - gradient_norm: 2.2493 - val_det_loss: 0.3599 - val_cls_loss: 0.3269 - val_box_loss: 6.5898e-04 - val_reg_l2_loss: 0.0951 - val_loss: 0.4550\n",
            "Epoch 130/200\n",
            "10/10 [==============================] - 43s 5s/step - det_loss: 0.2841 - cls_loss: 0.2386 - box_loss: 9.0990e-04 - reg_l2_loss: 0.0951 - loss: 0.3792 - learning_rate: 0.0027 - gradient_norm: 2.8969 - val_det_loss: 0.3067 - val_cls_loss: 0.2651 - val_box_loss: 8.3233e-04 - val_reg_l2_loss: 0.0951 - val_loss: 0.4019\n",
            "Epoch 131/200\n",
            "10/10 [==============================] - 29s 3s/step - det_loss: 0.3371 - cls_loss: 0.2908 - box_loss: 9.2545e-04 - reg_l2_loss: 0.0951 - loss: 0.4322 - learning_rate: 0.0027 - gradient_norm: 3.1934 - val_det_loss: 0.3894 - val_cls_loss: 0.3468 - val_box_loss: 8.5137e-04 - val_reg_l2_loss: 0.0951 - val_loss: 0.4845\n",
            "Epoch 132/200\n",
            "10/10 [==============================] - 37s 4s/step - det_loss: 0.2809 - cls_loss: 0.2348 - box_loss: 9.2243e-04 - reg_l2_loss: 0.0951 - loss: 0.3760 - learning_rate: 0.0026 - gradient_norm: 2.6206 - val_det_loss: 0.4230 - val_cls_loss: 0.3822 - val_box_loss: 8.1546e-04 - val_reg_l2_loss: 0.0951 - val_loss: 0.5181\n",
            "Epoch 133/200\n",
            "10/10 [==============================] - 34s 4s/step - det_loss: 0.2788 - cls_loss: 0.2382 - box_loss: 8.1198e-04 - reg_l2_loss: 0.0951 - loss: 0.3739 - learning_rate: 0.0025 - gradient_norm: 2.6717 - val_det_loss: 0.4407 - val_cls_loss: 0.4033 - val_box_loss: 7.4892e-04 - val_reg_l2_loss: 0.0951 - val_loss: 0.5359\n",
            "Epoch 134/200\n",
            "10/10 [==============================] - 35s 4s/step - det_loss: 0.2684 - cls_loss: 0.2273 - box_loss: 8.2245e-04 - reg_l2_loss: 0.0951 - loss: 0.3635 - learning_rate: 0.0024 - gradient_norm: 2.2808 - val_det_loss: 0.4252 - val_cls_loss: 0.3871 - val_box_loss: 7.6164e-04 - val_reg_l2_loss: 0.0951 - val_loss: 0.5203\n",
            "Epoch 135/200\n",
            "10/10 [==============================] - 43s 5s/step - det_loss: 0.2743 - cls_loss: 0.2353 - box_loss: 7.7871e-04 - reg_l2_loss: 0.0951 - loss: 0.3694 - learning_rate: 0.0024 - gradient_norm: 2.2621 - val_det_loss: 0.4157 - val_cls_loss: 0.3803 - val_box_loss: 7.0711e-04 - val_reg_l2_loss: 0.0951 - val_loss: 0.5108\n",
            "Epoch 136/200\n",
            "10/10 [==============================] - 30s 3s/step - det_loss: 0.2507 - cls_loss: 0.2151 - box_loss: 7.1224e-04 - reg_l2_loss: 0.0951 - loss: 0.3458 - learning_rate: 0.0023 - gradient_norm: 2.2901 - val_det_loss: 0.3667 - val_cls_loss: 0.3350 - val_box_loss: 6.3262e-04 - val_reg_l2_loss: 0.0951 - val_loss: 0.4618\n",
            "Epoch 137/200\n",
            "10/10 [==============================] - 36s 4s/step - det_loss: 0.2458 - cls_loss: 0.2127 - box_loss: 6.6100e-04 - reg_l2_loss: 0.0951 - loss: 0.3409 - learning_rate: 0.0022 - gradient_norm: 1.9984 - val_det_loss: 0.3602 - val_cls_loss: 0.3254 - val_box_loss: 6.9430e-04 - val_reg_l2_loss: 0.0951 - val_loss: 0.4553\n",
            "Epoch 138/200\n",
            "10/10 [==============================] - 34s 4s/step - det_loss: 0.2331 - cls_loss: 0.1971 - box_loss: 7.1991e-04 - reg_l2_loss: 0.0951 - loss: 0.3282 - learning_rate: 0.0022 - gradient_norm: 1.7632 - val_det_loss: 0.3796 - val_cls_loss: 0.3450 - val_box_loss: 6.9272e-04 - val_reg_l2_loss: 0.0951 - val_loss: 0.4747\n",
            "Epoch 139/200\n",
            "10/10 [==============================] - 37s 4s/step - det_loss: 0.3006 - cls_loss: 0.2575 - box_loss: 8.6307e-04 - reg_l2_loss: 0.0951 - loss: 0.3957 - learning_rate: 0.0021 - gradient_norm: 2.9025 - val_det_loss: 0.3672 - val_cls_loss: 0.3261 - val_box_loss: 8.2040e-04 - val_reg_l2_loss: 0.0951 - val_loss: 0.4623\n",
            "Epoch 140/200\n",
            "10/10 [==============================] - 42s 5s/step - det_loss: 0.2533 - cls_loss: 0.2203 - box_loss: 6.6149e-04 - reg_l2_loss: 0.0951 - loss: 0.3485 - learning_rate: 0.0020 - gradient_norm: 2.6030 - val_det_loss: 0.3768 - val_cls_loss: 0.3399 - val_box_loss: 7.3800e-04 - val_reg_l2_loss: 0.0951 - val_loss: 0.4720\n",
            "Epoch 141/200\n",
            "10/10 [==============================] - 29s 3s/step - det_loss: 0.2416 - cls_loss: 0.2076 - box_loss: 6.8125e-04 - reg_l2_loss: 0.0951 - loss: 0.3367 - learning_rate: 0.0020 - gradient_norm: 2.1145 - val_det_loss: 0.3708 - val_cls_loss: 0.3372 - val_box_loss: 6.7199e-04 - val_reg_l2_loss: 0.0951 - val_loss: 0.4659\n",
            "Epoch 142/200\n",
            "10/10 [==============================] - 34s 4s/step - det_loss: 0.2281 - cls_loss: 0.1963 - box_loss: 6.3572e-04 - reg_l2_loss: 0.0951 - loss: 0.3233 - learning_rate: 0.0019 - gradient_norm: 1.8269 - val_det_loss: 0.3442 - val_cls_loss: 0.3165 - val_box_loss: 5.5388e-04 - val_reg_l2_loss: 0.0951 - val_loss: 0.4394\n",
            "Epoch 143/200\n",
            "10/10 [==============================] - 36s 4s/step - det_loss: 0.2362 - cls_loss: 0.2076 - box_loss: 5.7099e-04 - reg_l2_loss: 0.0951 - loss: 0.3313 - learning_rate: 0.0019 - gradient_norm: 2.5019 - val_det_loss: 0.3679 - val_cls_loss: 0.3393 - val_box_loss: 5.7177e-04 - val_reg_l2_loss: 0.0951 - val_loss: 0.4630\n",
            "Epoch 144/200\n",
            "10/10 [==============================] - 35s 4s/step - det_loss: 0.2540 - cls_loss: 0.2228 - box_loss: 6.2370e-04 - reg_l2_loss: 0.0951 - loss: 0.3491 - learning_rate: 0.0018 - gradient_norm: 2.6591 - val_det_loss: 0.3499 - val_cls_loss: 0.3190 - val_box_loss: 6.1810e-04 - val_reg_l2_loss: 0.0951 - val_loss: 0.4450\n",
            "Epoch 145/200\n",
            "10/10 [==============================] - 44s 5s/step - det_loss: 0.2337 - cls_loss: 0.2059 - box_loss: 5.5518e-04 - reg_l2_loss: 0.0951 - loss: 0.3288 - learning_rate: 0.0017 - gradient_norm: 2.0143 - val_det_loss: 0.3245 - val_cls_loss: 0.2942 - val_box_loss: 6.0682e-04 - val_reg_l2_loss: 0.0951 - val_loss: 0.4197\n",
            "Epoch 146/200\n",
            "10/10 [==============================] - 31s 3s/step - det_loss: 0.2960 - cls_loss: 0.2657 - box_loss: 6.0487e-04 - reg_l2_loss: 0.0951 - loss: 0.3911 - learning_rate: 0.0017 - gradient_norm: 3.3282 - val_det_loss: 0.2987 - val_cls_loss: 0.2705 - val_box_loss: 5.6419e-04 - val_reg_l2_loss: 0.0951 - val_loss: 0.3938\n",
            "Epoch 147/200\n",
            "10/10 [==============================] - 36s 4s/step - det_loss: 0.2399 - cls_loss: 0.2078 - box_loss: 6.4126e-04 - reg_l2_loss: 0.0951 - loss: 0.3350 - learning_rate: 0.0016 - gradient_norm: 1.9780 - val_det_loss: 0.3177 - val_cls_loss: 0.2884 - val_box_loss: 5.8523e-04 - val_reg_l2_loss: 0.0951 - val_loss: 0.4128\n",
            "Epoch 148/200\n",
            "10/10 [==============================] - 35s 4s/step - det_loss: 0.2343 - cls_loss: 0.2059 - box_loss: 5.6933e-04 - reg_l2_loss: 0.0951 - loss: 0.3295 - learning_rate: 0.0016 - gradient_norm: 2.2419 - val_det_loss: 0.3208 - val_cls_loss: 0.2934 - val_box_loss: 5.4878e-04 - val_reg_l2_loss: 0.0951 - val_loss: 0.4160\n",
            "Epoch 149/200\n",
            "10/10 [==============================] - 35s 4s/step - det_loss: 0.2329 - cls_loss: 0.2105 - box_loss: 4.4932e-04 - reg_l2_loss: 0.0951 - loss: 0.3281 - learning_rate: 0.0015 - gradient_norm: 2.8815 - val_det_loss: 0.3001 - val_cls_loss: 0.2750 - val_box_loss: 5.0182e-04 - val_reg_l2_loss: 0.0951 - val_loss: 0.3952\n",
            "Epoch 150/200\n",
            "10/10 [==============================] - 44s 5s/step - det_loss: 0.2398 - cls_loss: 0.2095 - box_loss: 6.0605e-04 - reg_l2_loss: 0.0951 - loss: 0.3349 - learning_rate: 0.0015 - gradient_norm: 2.4402 - val_det_loss: 0.2832 - val_cls_loss: 0.2564 - val_box_loss: 5.3738e-04 - val_reg_l2_loss: 0.0951 - val_loss: 0.3784\n",
            "Epoch 151/200\n",
            "10/10 [==============================] - 30s 3s/step - det_loss: 0.2273 - cls_loss: 0.1976 - box_loss: 5.9361e-04 - reg_l2_loss: 0.0951 - loss: 0.3224 - learning_rate: 0.0014 - gradient_norm: 2.0534 - val_det_loss: 0.2940 - val_cls_loss: 0.2657 - val_box_loss: 5.6484e-04 - val_reg_l2_loss: 0.0951 - val_loss: 0.3891\n",
            "Epoch 152/200\n",
            "10/10 [==============================] - 36s 4s/step - det_loss: 0.2241 - cls_loss: 0.1993 - box_loss: 4.9672e-04 - reg_l2_loss: 0.0951 - loss: 0.3192 - learning_rate: 0.0013 - gradient_norm: 2.1191 - val_det_loss: 0.3280 - val_cls_loss: 0.2980 - val_box_loss: 5.9989e-04 - val_reg_l2_loss: 0.0951 - val_loss: 0.4231\n",
            "Epoch 153/200\n",
            "10/10 [==============================] - 35s 4s/step - det_loss: 0.2458 - cls_loss: 0.2126 - box_loss: 6.6343e-04 - reg_l2_loss: 0.0951 - loss: 0.3409 - learning_rate: 0.0013 - gradient_norm: 2.2993 - val_det_loss: 0.3041 - val_cls_loss: 0.2756 - val_box_loss: 5.6918e-04 - val_reg_l2_loss: 0.0951 - val_loss: 0.3992\n",
            "Epoch 154/200\n",
            "10/10 [==============================] - 35s 4s/step - det_loss: 0.2488 - cls_loss: 0.2167 - box_loss: 6.4282e-04 - reg_l2_loss: 0.0951 - loss: 0.3440 - learning_rate: 0.0012 - gradient_norm: 2.3287 - val_det_loss: 0.2894 - val_cls_loss: 0.2611 - val_box_loss: 5.6662e-04 - val_reg_l2_loss: 0.0951 - val_loss: 0.3846\n",
            "Epoch 155/200\n",
            "10/10 [==============================] - 42s 5s/step - det_loss: 0.2652 - cls_loss: 0.2261 - box_loss: 7.8096e-04 - reg_l2_loss: 0.0951 - loss: 0.3603 - learning_rate: 0.0012 - gradient_norm: 2.6768 - val_det_loss: 0.2886 - val_cls_loss: 0.2607 - val_box_loss: 5.5776e-04 - val_reg_l2_loss: 0.0951 - val_loss: 0.3837\n",
            "Epoch 156/200\n",
            "10/10 [==============================] - 32s 3s/step - det_loss: 0.2178 - cls_loss: 0.1926 - box_loss: 5.0459e-04 - reg_l2_loss: 0.0951 - loss: 0.3129 - learning_rate: 0.0011 - gradient_norm: 1.9587 - val_det_loss: 0.3052 - val_cls_loss: 0.2794 - val_box_loss: 5.1724e-04 - val_reg_l2_loss: 0.0951 - val_loss: 0.4004\n",
            "Epoch 157/200\n",
            "10/10 [==============================] - 35s 4s/step - det_loss: 0.2241 - cls_loss: 0.1985 - box_loss: 5.1176e-04 - reg_l2_loss: 0.0951 - loss: 0.3192 - learning_rate: 0.0011 - gradient_norm: 2.3389 - val_det_loss: 0.3124 - val_cls_loss: 0.2866 - val_box_loss: 5.1602e-04 - val_reg_l2_loss: 0.0951 - val_loss: 0.4075\n",
            "Epoch 158/200\n",
            "10/10 [==============================] - 35s 4s/step - det_loss: 0.2116 - cls_loss: 0.1847 - box_loss: 5.3842e-04 - reg_l2_loss: 0.0951 - loss: 0.3067 - learning_rate: 0.0010 - gradient_norm: 2.1658 - val_det_loss: 0.3098 - val_cls_loss: 0.2847 - val_box_loss: 5.0326e-04 - val_reg_l2_loss: 0.0951 - val_loss: 0.4050\n",
            "Epoch 159/200\n",
            "10/10 [==============================] - 34s 4s/step - det_loss: 0.2325 - cls_loss: 0.2036 - box_loss: 5.7722e-04 - reg_l2_loss: 0.0951 - loss: 0.3276 - learning_rate: 9.8811e-04 - gradient_norm: 2.1413 - val_det_loss: 0.3141 - val_cls_loss: 0.2875 - val_box_loss: 5.3036e-04 - val_reg_l2_loss: 0.0951 - val_loss: 0.4092\n",
            "Epoch 160/200\n",
            "10/10 [==============================] - 47s 5s/step - det_loss: 0.2358 - cls_loss: 0.2011 - box_loss: 6.9450e-04 - reg_l2_loss: 0.0951 - loss: 0.3309 - learning_rate: 9.4151e-04 - gradient_norm: 2.0595 - val_det_loss: 0.3217 - val_cls_loss: 0.2934 - val_box_loss: 5.6659e-04 - val_reg_l2_loss: 0.0951 - val_loss: 0.4168\n",
            "Epoch 161/200\n",
            "10/10 [==============================] - 27s 3s/step - det_loss: 0.2042 - cls_loss: 0.1831 - box_loss: 4.2315e-04 - reg_l2_loss: 0.0951 - loss: 0.2994 - learning_rate: 8.9591e-04 - gradient_norm: 1.6767 - val_det_loss: 0.3235 - val_cls_loss: 0.2973 - val_box_loss: 5.2428e-04 - val_reg_l2_loss: 0.0951 - val_loss: 0.4186\n",
            "Epoch 162/200\n",
            "10/10 [==============================] - 37s 4s/step - det_loss: 0.2270 - cls_loss: 0.1931 - box_loss: 6.7886e-04 - reg_l2_loss: 0.0951 - loss: 0.3222 - learning_rate: 8.5134e-04 - gradient_norm: 1.9403 - val_det_loss: 0.3155 - val_cls_loss: 0.2907 - val_box_loss: 4.9662e-04 - val_reg_l2_loss: 0.0951 - val_loss: 0.4107\n",
            "Epoch 163/200\n",
            "10/10 [==============================] - 34s 4s/step - det_loss: 0.2303 - cls_loss: 0.1944 - box_loss: 7.1734e-04 - reg_l2_loss: 0.0951 - loss: 0.3254 - learning_rate: 8.0780e-04 - gradient_norm: 1.9301 - val_det_loss: 0.3149 - val_cls_loss: 0.2910 - val_box_loss: 4.7783e-04 - val_reg_l2_loss: 0.0951 - val_loss: 0.4100\n",
            "Epoch 164/200\n",
            "10/10 [==============================] - 36s 4s/step - det_loss: 0.2131 - cls_loss: 0.1863 - box_loss: 5.3720e-04 - reg_l2_loss: 0.0951 - loss: 0.3083 - learning_rate: 7.6531e-04 - gradient_norm: 2.3512 - val_det_loss: 0.3194 - val_cls_loss: 0.2945 - val_box_loss: 4.9776e-04 - val_reg_l2_loss: 0.0951 - val_loss: 0.4145\n",
            "Epoch 165/200\n",
            "10/10 [==============================] - 44s 5s/step - det_loss: 0.2168 - cls_loss: 0.1880 - box_loss: 5.7445e-04 - reg_l2_loss: 0.0951 - loss: 0.3119 - learning_rate: 7.2387e-04 - gradient_norm: 1.8421 - val_det_loss: 0.3214 - val_cls_loss: 0.2961 - val_box_loss: 5.0450e-04 - val_reg_l2_loss: 0.0951 - val_loss: 0.4165\n",
            "Epoch 166/200\n",
            "10/10 [==============================] - 31s 3s/step - det_loss: 0.2387 - cls_loss: 0.2057 - box_loss: 6.6116e-04 - reg_l2_loss: 0.0951 - loss: 0.3339 - learning_rate: 6.8350e-04 - gradient_norm: 2.4472 - val_det_loss: 0.3125 - val_cls_loss: 0.2889 - val_box_loss: 4.7203e-04 - val_reg_l2_loss: 0.0951 - val_loss: 0.4076\n",
            "Epoch 167/200\n",
            "10/10 [==============================] - 35s 4s/step - det_loss: 0.2290 - cls_loss: 0.1944 - box_loss: 6.9220e-04 - reg_l2_loss: 0.0951 - loss: 0.3242 - learning_rate: 6.4420e-04 - gradient_norm: 2.7255 - val_det_loss: 0.3210 - val_cls_loss: 0.2960 - val_box_loss: 4.9900e-04 - val_reg_l2_loss: 0.0951 - val_loss: 0.4161\n",
            "Epoch 168/200\n",
            "10/10 [==============================] - 36s 4s/step - det_loss: 0.2297 - cls_loss: 0.1994 - box_loss: 6.0691e-04 - reg_l2_loss: 0.0951 - loss: 0.3249 - learning_rate: 6.0599e-04 - gradient_norm: 1.8697 - val_det_loss: 0.3200 - val_cls_loss: 0.2948 - val_box_loss: 5.0378e-04 - val_reg_l2_loss: 0.0951 - val_loss: 0.4151\n",
            "Epoch 169/200\n",
            "10/10 [==============================] - 35s 4s/step - det_loss: 0.2478 - cls_loss: 0.2080 - box_loss: 7.9667e-04 - reg_l2_loss: 0.0951 - loss: 0.3430 - learning_rate: 5.6888e-04 - gradient_norm: 2.0820 - val_det_loss: 0.3106 - val_cls_loss: 0.2859 - val_box_loss: 4.9495e-04 - val_reg_l2_loss: 0.0951 - val_loss: 0.4057\n",
            "Epoch 170/200\n",
            "10/10 [==============================] - 44s 5s/step - det_loss: 0.2312 - cls_loss: 0.1960 - box_loss: 7.0406e-04 - reg_l2_loss: 0.0951 - loss: 0.3264 - learning_rate: 5.3287e-04 - gradient_norm: 1.9889 - val_det_loss: 0.3001 - val_cls_loss: 0.2750 - val_box_loss: 5.0244e-04 - val_reg_l2_loss: 0.0951 - val_loss: 0.3953\n",
            "Epoch 171/200\n",
            "10/10 [==============================] - 33s 4s/step - det_loss: 0.2296 - cls_loss: 0.2004 - box_loss: 5.8416e-04 - reg_l2_loss: 0.0951 - loss: 0.3247 - learning_rate: 4.9797e-04 - gradient_norm: 2.2455 - val_det_loss: 0.3042 - val_cls_loss: 0.2782 - val_box_loss: 5.1918e-04 - val_reg_l2_loss: 0.0951 - val_loss: 0.3993\n",
            "Epoch 172/200\n",
            "10/10 [==============================] - 34s 4s/step - det_loss: 0.2405 - cls_loss: 0.2005 - box_loss: 7.9960e-04 - reg_l2_loss: 0.0951 - loss: 0.3356 - learning_rate: 4.6419e-04 - gradient_norm: 2.3347 - val_det_loss: 0.3048 - val_cls_loss: 0.2788 - val_box_loss: 5.2092e-04 - val_reg_l2_loss: 0.0951 - val_loss: 0.4000\n",
            "Epoch 173/200\n",
            "10/10 [==============================] - 35s 4s/step - det_loss: 0.2516 - cls_loss: 0.2173 - box_loss: 6.8584e-04 - reg_l2_loss: 0.0951 - loss: 0.3467 - learning_rate: 4.3155e-04 - gradient_norm: 2.2652 - val_det_loss: 0.3072 - val_cls_loss: 0.2811 - val_box_loss: 5.2253e-04 - val_reg_l2_loss: 0.0951 - val_loss: 0.4023\n",
            "Epoch 174/200\n",
            "10/10 [==============================] - 36s 4s/step - det_loss: 0.2337 - cls_loss: 0.2068 - box_loss: 5.3838e-04 - reg_l2_loss: 0.0951 - loss: 0.3288 - learning_rate: 4.0004e-04 - gradient_norm: 2.6349 - val_det_loss: 0.3194 - val_cls_loss: 0.2922 - val_box_loss: 5.4307e-04 - val_reg_l2_loss: 0.0951 - val_loss: 0.4145\n",
            "Epoch 175/200\n",
            "10/10 [==============================] - 44s 5s/step - det_loss: 0.2193 - cls_loss: 0.1925 - box_loss: 5.3547e-04 - reg_l2_loss: 0.0951 - loss: 0.3144 - learning_rate: 3.6968e-04 - gradient_norm: 2.3054 - val_det_loss: 0.3470 - val_cls_loss: 0.3199 - val_box_loss: 5.4175e-04 - val_reg_l2_loss: 0.0951 - val_loss: 0.4421\n",
            "Epoch 176/200\n",
            "10/10 [==============================] - 29s 3s/step - det_loss: 0.2172 - cls_loss: 0.1942 - box_loss: 4.6021e-04 - reg_l2_loss: 0.0951 - loss: 0.3123 - learning_rate: 3.4047e-04 - gradient_norm: 2.0461 - val_det_loss: 0.3328 - val_cls_loss: 0.3063 - val_box_loss: 5.2974e-04 - val_reg_l2_loss: 0.0951 - val_loss: 0.4279\n",
            "Epoch 177/200\n",
            "10/10 [==============================] - 36s 4s/step - det_loss: 0.2092 - cls_loss: 0.1802 - box_loss: 5.7991e-04 - reg_l2_loss: 0.0951 - loss: 0.3043 - learning_rate: 3.1243e-04 - gradient_norm: 1.9500 - val_det_loss: 0.3234 - val_cls_loss: 0.2969 - val_box_loss: 5.3173e-04 - val_reg_l2_loss: 0.0951 - val_loss: 0.4186\n",
            "Epoch 178/200\n",
            "10/10 [==============================] - 35s 4s/step - det_loss: 0.2062 - cls_loss: 0.1798 - box_loss: 5.2657e-04 - reg_l2_loss: 0.0951 - loss: 0.3013 - learning_rate: 2.8555e-04 - gradient_norm: 1.7988 - val_det_loss: 0.3152 - val_cls_loss: 0.2888 - val_box_loss: 5.2733e-04 - val_reg_l2_loss: 0.0951 - val_loss: 0.4103\n",
            "Epoch 179/200\n",
            "10/10 [==============================] - 35s 4s/step - det_loss: 0.2443 - cls_loss: 0.2069 - box_loss: 7.4854e-04 - reg_l2_loss: 0.0951 - loss: 0.3394 - learning_rate: 2.5985e-04 - gradient_norm: 2.2900 - val_det_loss: 0.3142 - val_cls_loss: 0.2882 - val_box_loss: 5.1993e-04 - val_reg_l2_loss: 0.0951 - val_loss: 0.4093\n",
            "Epoch 180/200\n",
            "10/10 [==============================] - 43s 5s/step - det_loss: 0.2574 - cls_loss: 0.2224 - box_loss: 7.0067e-04 - reg_l2_loss: 0.0951 - loss: 0.3525 - learning_rate: 2.3533e-04 - gradient_norm: 2.5405 - val_det_loss: 0.3201 - val_cls_loss: 0.2944 - val_box_loss: 5.1518e-04 - val_reg_l2_loss: 0.0951 - val_loss: 0.4153\n",
            "Epoch 181/200\n",
            "10/10 [==============================] - 33s 4s/step - det_loss: 0.2223 - cls_loss: 0.1913 - box_loss: 6.2084e-04 - reg_l2_loss: 0.0951 - loss: 0.3174 - learning_rate: 2.1199e-04 - gradient_norm: 1.8860 - val_det_loss: 0.3234 - val_cls_loss: 0.2975 - val_box_loss: 5.1777e-04 - val_reg_l2_loss: 0.0951 - val_loss: 0.4185\n",
            "Epoch 182/200\n",
            "10/10 [==============================] - 34s 4s/step - det_loss: 0.2345 - cls_loss: 0.2029 - box_loss: 6.3344e-04 - reg_l2_loss: 0.0951 - loss: 0.3297 - learning_rate: 1.8985e-04 - gradient_norm: 2.6393 - val_det_loss: 0.3260 - val_cls_loss: 0.3002 - val_box_loss: 5.1646e-04 - val_reg_l2_loss: 0.0951 - val_loss: 0.4211\n",
            "Epoch 183/200\n",
            "10/10 [==============================] - 33s 4s/step - det_loss: 0.2235 - cls_loss: 0.1923 - box_loss: 6.2254e-04 - reg_l2_loss: 0.0951 - loss: 0.3186 - learning_rate: 1.6891e-04 - gradient_norm: 2.0044 - val_det_loss: 0.3325 - val_cls_loss: 0.3062 - val_box_loss: 5.2535e-04 - val_reg_l2_loss: 0.0951 - val_loss: 0.4276\n",
            "Epoch 184/200\n",
            "10/10 [==============================] - 37s 4s/step - det_loss: 0.2167 - cls_loss: 0.1885 - box_loss: 5.6461e-04 - reg_l2_loss: 0.0951 - loss: 0.3118 - learning_rate: 1.4918e-04 - gradient_norm: 2.0667 - val_det_loss: 0.3287 - val_cls_loss: 0.3028 - val_box_loss: 5.1877e-04 - val_reg_l2_loss: 0.0951 - val_loss: 0.4238\n",
            "Epoch 185/200\n",
            "10/10 [==============================] - 42s 5s/step - det_loss: 0.2197 - cls_loss: 0.1958 - box_loss: 4.7788e-04 - reg_l2_loss: 0.0951 - loss: 0.3148 - learning_rate: 1.3065e-04 - gradient_norm: 1.7488 - val_det_loss: 0.3269 - val_cls_loss: 0.3011 - val_box_loss: 5.1719e-04 - val_reg_l2_loss: 0.0951 - val_loss: 0.4221\n",
            "Epoch 186/200\n",
            "10/10 [==============================] - 31s 3s/step - det_loss: 0.2149 - cls_loss: 0.1906 - box_loss: 4.8651e-04 - reg_l2_loss: 0.0951 - loss: 0.3101 - learning_rate: 1.1333e-04 - gradient_norm: 2.8282 - val_det_loss: 0.3255 - val_cls_loss: 0.2998 - val_box_loss: 5.1284e-04 - val_reg_l2_loss: 0.0951 - val_loss: 0.4206\n",
            "Epoch 187/200\n",
            "10/10 [==============================] - 34s 4s/step - det_loss: 0.2052 - cls_loss: 0.1752 - box_loss: 5.9989e-04 - reg_l2_loss: 0.0951 - loss: 0.3003 - learning_rate: 9.7235e-05 - gradient_norm: 1.7245 - val_det_loss: 0.3224 - val_cls_loss: 0.2970 - val_box_loss: 5.0701e-04 - val_reg_l2_loss: 0.0951 - val_loss: 0.4175\n",
            "Epoch 188/200\n",
            "10/10 [==============================] - 35s 4s/step - det_loss: 0.1979 - cls_loss: 0.1769 - box_loss: 4.1939e-04 - reg_l2_loss: 0.0951 - loss: 0.2930 - learning_rate: 8.2360e-05 - gradient_norm: 1.9111 - val_det_loss: 0.3193 - val_cls_loss: 0.2942 - val_box_loss: 5.0144e-04 - val_reg_l2_loss: 0.0951 - val_loss: 0.4144\n",
            "Epoch 189/200\n",
            "10/10 [==============================] - 35s 4s/step - det_loss: 0.2209 - cls_loss: 0.1886 - box_loss: 6.4690e-04 - reg_l2_loss: 0.0951 - loss: 0.3160 - learning_rate: 6.8711e-05 - gradient_norm: 1.9654 - val_det_loss: 0.3190 - val_cls_loss: 0.2942 - val_box_loss: 4.9625e-04 - val_reg_l2_loss: 0.0951 - val_loss: 0.4141\n",
            "Epoch 190/200\n",
            "10/10 [==============================] - 43s 5s/step - det_loss: 0.2019 - cls_loss: 0.1773 - box_loss: 4.9112e-04 - reg_l2_loss: 0.0951 - loss: 0.2970 - learning_rate: 5.6290e-05 - gradient_norm: 2.1572 - val_det_loss: 0.3213 - val_cls_loss: 0.2964 - val_box_loss: 4.9864e-04 - val_reg_l2_loss: 0.0951 - val_loss: 0.4164\n",
            "Epoch 191/200\n",
            "10/10 [==============================] - 31s 3s/step - det_loss: 0.2172 - cls_loss: 0.1847 - box_loss: 6.5119e-04 - reg_l2_loss: 0.0951 - loss: 0.3124 - learning_rate: 4.5102e-05 - gradient_norm: 1.8152 - val_det_loss: 0.3204 - val_cls_loss: 0.2956 - val_box_loss: 4.9618e-04 - val_reg_l2_loss: 0.0951 - val_loss: 0.4155\n",
            "Epoch 192/200\n",
            "10/10 [==============================] - 38s 4s/step - det_loss: 0.1881 - cls_loss: 0.1632 - box_loss: 4.9791e-04 - reg_l2_loss: 0.0951 - loss: 0.2832 - learning_rate: 3.5148e-05 - gradient_norm: 1.5142 - val_det_loss: 0.3216 - val_cls_loss: 0.2968 - val_box_loss: 4.9636e-04 - val_reg_l2_loss: 0.0951 - val_loss: 0.4167\n",
            "Epoch 193/200\n",
            "10/10 [==============================] - 34s 4s/step - det_loss: 0.2249 - cls_loss: 0.1922 - box_loss: 6.5407e-04 - reg_l2_loss: 0.0951 - loss: 0.3201 - learning_rate: 2.6432e-05 - gradient_norm: 2.1274 - val_det_loss: 0.3204 - val_cls_loss: 0.2957 - val_box_loss: 4.9319e-04 - val_reg_l2_loss: 0.0951 - val_loss: 0.4155\n",
            "Epoch 194/200\n",
            "10/10 [==============================] - 35s 4s/step - det_loss: 0.2219 - cls_loss: 0.1975 - box_loss: 4.8685e-04 - reg_l2_loss: 0.0951 - loss: 0.3170 - learning_rate: 1.8955e-05 - gradient_norm: 1.9721 - val_det_loss: 0.3223 - val_cls_loss: 0.2976 - val_box_loss: 4.9424e-04 - val_reg_l2_loss: 0.0951 - val_loss: 0.4175\n",
            "Epoch 195/200\n",
            "10/10 [==============================] - 44s 5s/step - det_loss: 0.2034 - cls_loss: 0.1785 - box_loss: 4.9799e-04 - reg_l2_loss: 0.0951 - loss: 0.2985 - learning_rate: 1.2720e-05 - gradient_norm: 1.5329 - val_det_loss: 0.3229 - val_cls_loss: 0.2981 - val_box_loss: 4.9563e-04 - val_reg_l2_loss: 0.0951 - val_loss: 0.4181\n",
            "Epoch 196/200\n",
            "10/10 [==============================] - 31s 3s/step - det_loss: 0.2019 - cls_loss: 0.1761 - box_loss: 5.1514e-04 - reg_l2_loss: 0.0951 - loss: 0.2970 - learning_rate: 7.7273e-06 - gradient_norm: 1.8213 - val_det_loss: 0.3204 - val_cls_loss: 0.2957 - val_box_loss: 4.9227e-04 - val_reg_l2_loss: 0.0951 - val_loss: 0.4155\n",
            "Epoch 197/200\n",
            "10/10 [==============================] - 35s 4s/step - det_loss: 0.2146 - cls_loss: 0.1907 - box_loss: 4.7659e-04 - reg_l2_loss: 0.0951 - loss: 0.3097 - learning_rate: 3.9791e-06 - gradient_norm: 2.0482 - val_det_loss: 0.3204 - val_cls_loss: 0.2958 - val_box_loss: 4.9123e-04 - val_reg_l2_loss: 0.0951 - val_loss: 0.4155\n",
            "Epoch 198/200\n",
            "10/10 [==============================] - 35s 4s/step - det_loss: 0.2276 - cls_loss: 0.2021 - box_loss: 5.0873e-04 - reg_l2_loss: 0.0951 - loss: 0.3227 - learning_rate: 1.4760e-06 - gradient_norm: 2.4723 - val_det_loss: 0.3225 - val_cls_loss: 0.2977 - val_box_loss: 4.9581e-04 - val_reg_l2_loss: 0.0951 - val_loss: 0.4176\n",
            "Epoch 199/200\n",
            "10/10 [==============================] - 35s 4s/step - det_loss: 0.1981 - cls_loss: 0.1744 - box_loss: 4.7295e-04 - reg_l2_loss: 0.0951 - loss: 0.2932 - learning_rate: 2.1864e-07 - gradient_norm: 1.7402 - val_det_loss: 0.3245 - val_cls_loss: 0.2995 - val_box_loss: 5.0063e-04 - val_reg_l2_loss: 0.0951 - val_loss: 0.4197\n",
            "Epoch 200/200\n",
            "10/10 [==============================] - 43s 5s/step - det_loss: 0.2030 - cls_loss: 0.1771 - box_loss: 5.1800e-04 - reg_l2_loss: 0.0951 - loss: 0.2982 - learning_rate: 2.0732e-07 - gradient_norm: 2.0603 - val_det_loss: 0.3239 - val_cls_loss: 0.2989 - val_box_loss: 5.0093e-04 - val_reg_l2_loss: 0.0951 - val_loss: 0.4190\n"
          ]
        }
      ]
    },
    {
      "cell_type": "markdown",
      "metadata": {
        "id": "KB4hKeerMmh4"
      },
      "source": [
        "### Step 4. Evaluate the model with the validation data.\n",
        "\n",
        "After training the object detection model using the images in the training dataset, use the 10 images in the validation dataset to evaluate how the model performs against new data it has never seen before.\n",
        "\n",
        "As the default batch size is 64, it will take 1 step to go through the 10 images in the validation dataset.\n",
        "\n",
        "The evaluation metrics are same as [COCO](https://cocodataset.org/#detection-eval)."
      ]
    },
    {
      "cell_type": "code",
      "execution_count": null,
      "metadata": {
        "colab": {
          "base_uri": "https://localhost:8080/"
        },
        "id": "OUqEpcYwAg8L",
        "outputId": "551c7083-4d2e-4b23-af4e-9ca98666abcb"
      },
      "outputs": [
        {
          "output_type": "stream",
          "name": "stdout",
          "text": [
            "\r1/1 [==============================] - 9s 9s/step\n",
            "\n"
          ]
        },
        {
          "output_type": "execute_result",
          "data": {
            "text/plain": [
              "{'AP': 0.22627708,\n",
              " 'AP50': 0.33119658,\n",
              " 'AP75': 0.21457222,\n",
              " 'AP_/BlackBishop': 0.12233223,\n",
              " 'AP_/BlackKing': 0.26666668,\n",
              " 'AP_/BlackKnight': 0.16,\n",
              " 'AP_/BlackPawn': 0.0,\n",
              " 'AP_/BlackQueen': 0.15,\n",
              " 'AP_/BlackRook': 0.033333335,\n",
              " 'AP_/Board': 0.92260313,\n",
              " 'AP_/WhiteBishop': 0.0,\n",
              " 'AP_/WhiteKing': 0.8,\n",
              " 'AP_/WhiteKnight': 0.1,\n",
              " 'AP_/WhitePawn': 0.16666667,\n",
              " 'AP_/WhiteQueen': 0.12,\n",
              " 'AP_/WhiteRook': 0.1,\n",
              " 'APl': 0.22627708,\n",
              " 'APm': -1.0,\n",
              " 'APs': -1.0,\n",
              " 'ARl': 0.5183432,\n",
              " 'ARm': -1.0,\n",
              " 'ARmax1': 0.51775146,\n",
              " 'ARmax10': 0.5183432,\n",
              " 'ARmax100': 0.5183432,\n",
              " 'ARs': -1.0}"
            ]
          },
          "metadata": {},
          "execution_count": 24
        }
      ],
      "source": [
        "model.evaluate(val_data)"
      ]
    },
    {
      "cell_type": "code",
      "source": [
        "# Evaluate board\n",
        "board_model.evaluate(board_val_data)"
      ],
      "metadata": {
        "colab": {
          "base_uri": "https://localhost:8080/",
          "height": 762
        },
        "id": "rtVfYjyuUroZ",
        "outputId": "3f82cda6-9631-4087-9974-467ffbaf431a"
      },
      "execution_count": 13,
      "outputs": [
        {
          "output_type": "error",
          "ename": "ValueError",
          "evalue": "ignored",
          "traceback": [
            "\u001b[0;31m---------------------------------------------------------------------------\u001b[0m",
            "\u001b[0;31mValueError\u001b[0m                                Traceback (most recent call last)",
            "\u001b[0;32m<ipython-input-13-78e9bd0a1e79>\u001b[0m in \u001b[0;36m<module>\u001b[0;34m()\u001b[0m\n\u001b[1;32m      1\u001b[0m \u001b[0;31m# Evaluate board\u001b[0m\u001b[0;34m\u001b[0m\u001b[0;34m\u001b[0m\u001b[0;34m\u001b[0m\u001b[0m\n\u001b[0;32m----> 2\u001b[0;31m \u001b[0mboard_model\u001b[0m\u001b[0;34m.\u001b[0m\u001b[0mevaluate\u001b[0m\u001b[0;34m(\u001b[0m\u001b[0mboard_val_data\u001b[0m\u001b[0;34m)\u001b[0m\u001b[0;34m\u001b[0m\u001b[0;34m\u001b[0m\u001b[0m\n\u001b[0m",
            "\u001b[0;32m/usr/local/lib/python3.7/dist-packages/tensorflow_examples/lite/model_maker/core/task/object_detector.py\u001b[0m in \u001b[0;36mevaluate\u001b[0;34m(self, data, batch_size)\u001b[0m\n\u001b[1;32m    142\u001b[0m \u001b[0;34m\u001b[0m\u001b[0m\n\u001b[1;32m    143\u001b[0m     eval_metrics = self.model_spec.evaluate(self.model, ds, steps,\n\u001b[0;32m--> 144\u001b[0;31m                                             data.annotations_json_file)\n\u001b[0m\u001b[1;32m    145\u001b[0m     \u001b[0;31m# Set back drop_remainder=True since it must be True during training.\u001b[0m\u001b[0;34m\u001b[0m\u001b[0;34m\u001b[0m\u001b[0;34m\u001b[0m\u001b[0m\n\u001b[1;32m    146\u001b[0m     \u001b[0;31m# Otherwise it will fail.\u001b[0m\u001b[0;34m\u001b[0m\u001b[0;34m\u001b[0m\u001b[0;34m\u001b[0m\u001b[0m\n",
            "\u001b[0;32m/usr/local/lib/python3.7/dist-packages/tensorflow_examples/lite/model_maker/core/task/model_spec/object_detector_spec.py\u001b[0m in \u001b[0;36mevaluate\u001b[0;34m(self, model, dataset, steps, json_file)\u001b[0m\n\u001b[1;32m    340\u001b[0m     \u001b[0mprogbar\u001b[0m \u001b[0;34m=\u001b[0m \u001b[0mtf\u001b[0m\u001b[0;34m.\u001b[0m\u001b[0mkeras\u001b[0m\u001b[0;34m.\u001b[0m\u001b[0mutils\u001b[0m\u001b[0;34m.\u001b[0m\u001b[0mProgbar\u001b[0m\u001b[0;34m(\u001b[0m\u001b[0msteps\u001b[0m\u001b[0;34m)\u001b[0m\u001b[0;34m\u001b[0m\u001b[0;34m\u001b[0m\u001b[0m\n\u001b[1;32m    341\u001b[0m     \u001b[0;32mfor\u001b[0m \u001b[0mi\u001b[0m\u001b[0;34m,\u001b[0m \u001b[0;34m(\u001b[0m\u001b[0mimages\u001b[0m\u001b[0;34m,\u001b[0m \u001b[0mlabels\u001b[0m\u001b[0;34m)\u001b[0m \u001b[0;32min\u001b[0m \u001b[0menumerate\u001b[0m\u001b[0;34m(\u001b[0m\u001b[0mdataset\u001b[0m\u001b[0;34m)\u001b[0m\u001b[0;34m:\u001b[0m\u001b[0;34m\u001b[0m\u001b[0;34m\u001b[0m\u001b[0m\n\u001b[0;32m--> 342\u001b[0;31m       \u001b[0mself\u001b[0m\u001b[0;34m.\u001b[0m\u001b[0mds_strategy\u001b[0m\u001b[0;34m.\u001b[0m\u001b[0mrun\u001b[0m\u001b[0;34m(\u001b[0m\u001b[0m_get_detections\u001b[0m\u001b[0;34m,\u001b[0m \u001b[0;34m(\u001b[0m\u001b[0mimages\u001b[0m\u001b[0;34m,\u001b[0m \u001b[0mlabels\u001b[0m\u001b[0;34m)\u001b[0m\u001b[0;34m)\u001b[0m\u001b[0;34m\u001b[0m\u001b[0;34m\u001b[0m\u001b[0m\n\u001b[0m\u001b[1;32m    343\u001b[0m       \u001b[0mprogbar\u001b[0m\u001b[0;34m.\u001b[0m\u001b[0mupdate\u001b[0m\u001b[0;34m(\u001b[0m\u001b[0mi\u001b[0m \u001b[0;34m+\u001b[0m \u001b[0;36m1\u001b[0m\u001b[0;34m)\u001b[0m\u001b[0;34m\u001b[0m\u001b[0;34m\u001b[0m\u001b[0m\n\u001b[1;32m    344\u001b[0m     \u001b[0mprint\u001b[0m\u001b[0;34m(\u001b[0m\u001b[0;34m)\u001b[0m\u001b[0;34m\u001b[0m\u001b[0;34m\u001b[0m\u001b[0m\n",
            "\u001b[0;32m/usr/local/lib/python3.7/dist-packages/tensorflow/python/distribute/one_device_strategy.py\u001b[0m in \u001b[0;36mrun\u001b[0;34m(self, fn, args, kwargs, options)\u001b[0m\n\u001b[1;32m    186\u001b[0m       \u001b[0mReturn\u001b[0m \u001b[0mvalue\u001b[0m \u001b[0;32mfrom\u001b[0m \u001b[0mrunning\u001b[0m\u001b[0;31m \u001b[0m\u001b[0;31m`\u001b[0m\u001b[0mfn\u001b[0m\u001b[0;31m`\u001b[0m\u001b[0;34m.\u001b[0m\u001b[0;34m\u001b[0m\u001b[0;34m\u001b[0m\u001b[0m\n\u001b[1;32m    187\u001b[0m     \"\"\"\n\u001b[0;32m--> 188\u001b[0;31m     \u001b[0;32mreturn\u001b[0m \u001b[0msuper\u001b[0m\u001b[0;34m(\u001b[0m\u001b[0mOneDeviceStrategy\u001b[0m\u001b[0;34m,\u001b[0m \u001b[0mself\u001b[0m\u001b[0;34m)\u001b[0m\u001b[0;34m.\u001b[0m\u001b[0mrun\u001b[0m\u001b[0;34m(\u001b[0m\u001b[0mfn\u001b[0m\u001b[0;34m,\u001b[0m \u001b[0margs\u001b[0m\u001b[0;34m,\u001b[0m \u001b[0mkwargs\u001b[0m\u001b[0;34m,\u001b[0m \u001b[0moptions\u001b[0m\u001b[0;34m)\u001b[0m\u001b[0;34m\u001b[0m\u001b[0;34m\u001b[0m\u001b[0m\n\u001b[0m\u001b[1;32m    189\u001b[0m \u001b[0;34m\u001b[0m\u001b[0m\n\u001b[1;32m    190\u001b[0m   \u001b[0;32mdef\u001b[0m \u001b[0mreduce\u001b[0m\u001b[0;34m(\u001b[0m\u001b[0mself\u001b[0m\u001b[0;34m,\u001b[0m \u001b[0mreduce_op\u001b[0m\u001b[0;34m,\u001b[0m \u001b[0mvalue\u001b[0m\u001b[0;34m,\u001b[0m \u001b[0maxis\u001b[0m\u001b[0;34m)\u001b[0m\u001b[0;34m:\u001b[0m  \u001b[0;31m# pylint: disable=useless-super-delegation\u001b[0m\u001b[0;34m\u001b[0m\u001b[0;34m\u001b[0m\u001b[0m\n",
            "\u001b[0;32m/usr/local/lib/python3.7/dist-packages/tensorflow/python/distribute/distribute_lib.py\u001b[0m in \u001b[0;36mrun\u001b[0;34m(***failed resolving arguments***)\u001b[0m\n\u001b[1;32m   1314\u001b[0m       fn = autograph.tf_convert(\n\u001b[1;32m   1315\u001b[0m           fn, autograph_ctx.control_status_ctx(), convert_by_default=False)\n\u001b[0;32m-> 1316\u001b[0;31m       \u001b[0;32mreturn\u001b[0m \u001b[0mself\u001b[0m\u001b[0;34m.\u001b[0m\u001b[0m_extended\u001b[0m\u001b[0;34m.\u001b[0m\u001b[0mcall_for_each_replica\u001b[0m\u001b[0;34m(\u001b[0m\u001b[0mfn\u001b[0m\u001b[0;34m,\u001b[0m \u001b[0margs\u001b[0m\u001b[0;34m=\u001b[0m\u001b[0margs\u001b[0m\u001b[0;34m,\u001b[0m \u001b[0mkwargs\u001b[0m\u001b[0;34m=\u001b[0m\u001b[0mkwargs\u001b[0m\u001b[0;34m)\u001b[0m\u001b[0;34m\u001b[0m\u001b[0;34m\u001b[0m\u001b[0m\n\u001b[0m\u001b[1;32m   1317\u001b[0m \u001b[0;34m\u001b[0m\u001b[0m\n\u001b[1;32m   1318\u001b[0m   \u001b[0;32mdef\u001b[0m \u001b[0mreduce\u001b[0m\u001b[0;34m(\u001b[0m\u001b[0mself\u001b[0m\u001b[0;34m,\u001b[0m \u001b[0mreduce_op\u001b[0m\u001b[0;34m,\u001b[0m \u001b[0mvalue\u001b[0m\u001b[0;34m,\u001b[0m \u001b[0maxis\u001b[0m\u001b[0;34m)\u001b[0m\u001b[0;34m:\u001b[0m\u001b[0;34m\u001b[0m\u001b[0;34m\u001b[0m\u001b[0m\n",
            "\u001b[0;32m/usr/local/lib/python3.7/dist-packages/tensorflow/python/distribute/distribute_lib.py\u001b[0m in \u001b[0;36mcall_for_each_replica\u001b[0;34m(self, fn, args, kwargs)\u001b[0m\n\u001b[1;32m   2890\u001b[0m       \u001b[0mkwargs\u001b[0m \u001b[0;34m=\u001b[0m \u001b[0;34m{\u001b[0m\u001b[0;34m}\u001b[0m\u001b[0;34m\u001b[0m\u001b[0;34m\u001b[0m\u001b[0m\n\u001b[1;32m   2891\u001b[0m     \u001b[0;32mwith\u001b[0m \u001b[0mself\u001b[0m\u001b[0;34m.\u001b[0m\u001b[0m_container_strategy\u001b[0m\u001b[0;34m(\u001b[0m\u001b[0;34m)\u001b[0m\u001b[0;34m.\u001b[0m\u001b[0mscope\u001b[0m\u001b[0;34m(\u001b[0m\u001b[0;34m)\u001b[0m\u001b[0;34m:\u001b[0m\u001b[0;34m\u001b[0m\u001b[0;34m\u001b[0m\u001b[0m\n\u001b[0;32m-> 2892\u001b[0;31m       \u001b[0;32mreturn\u001b[0m \u001b[0mself\u001b[0m\u001b[0;34m.\u001b[0m\u001b[0m_call_for_each_replica\u001b[0m\u001b[0;34m(\u001b[0m\u001b[0mfn\u001b[0m\u001b[0;34m,\u001b[0m \u001b[0margs\u001b[0m\u001b[0;34m,\u001b[0m \u001b[0mkwargs\u001b[0m\u001b[0;34m)\u001b[0m\u001b[0;34m\u001b[0m\u001b[0;34m\u001b[0m\u001b[0m\n\u001b[0m\u001b[1;32m   2893\u001b[0m \u001b[0;34m\u001b[0m\u001b[0m\n\u001b[1;32m   2894\u001b[0m   \u001b[0;32mdef\u001b[0m \u001b[0m_call_for_each_replica\u001b[0m\u001b[0;34m(\u001b[0m\u001b[0mself\u001b[0m\u001b[0;34m,\u001b[0m \u001b[0mfn\u001b[0m\u001b[0;34m,\u001b[0m \u001b[0margs\u001b[0m\u001b[0;34m,\u001b[0m \u001b[0mkwargs\u001b[0m\u001b[0;34m)\u001b[0m\u001b[0;34m:\u001b[0m\u001b[0;34m\u001b[0m\u001b[0;34m\u001b[0m\u001b[0m\n",
            "\u001b[0;32m/usr/local/lib/python3.7/dist-packages/tensorflow/python/distribute/one_device_strategy.py\u001b[0m in \u001b[0;36m_call_for_each_replica\u001b[0;34m(self, fn, args, kwargs)\u001b[0m\n\u001b[1;32m    394\u001b[0m     \u001b[0mstrategy\u001b[0m \u001b[0;34m=\u001b[0m \u001b[0mself\u001b[0m\u001b[0;34m.\u001b[0m\u001b[0m_container_strategy\u001b[0m\u001b[0;34m(\u001b[0m\u001b[0;34m)\u001b[0m\u001b[0;34m\u001b[0m\u001b[0;34m\u001b[0m\u001b[0m\n\u001b[1;32m    395\u001b[0m     \u001b[0;32mwith\u001b[0m \u001b[0mops\u001b[0m\u001b[0;34m.\u001b[0m\u001b[0mdevice\u001b[0m\u001b[0;34m(\u001b[0m\u001b[0mself\u001b[0m\u001b[0;34m.\u001b[0m\u001b[0m_device\u001b[0m\u001b[0;34m)\u001b[0m\u001b[0;34m,\u001b[0m \u001b[0m_OneDeviceReplicaContext\u001b[0m\u001b[0;34m(\u001b[0m\u001b[0mstrategy\u001b[0m\u001b[0;34m)\u001b[0m\u001b[0;34m:\u001b[0m\u001b[0;34m\u001b[0m\u001b[0;34m\u001b[0m\u001b[0m\n\u001b[0;32m--> 396\u001b[0;31m       \u001b[0;32mreturn\u001b[0m \u001b[0mfn\u001b[0m\u001b[0;34m(\u001b[0m\u001b[0;34m*\u001b[0m\u001b[0margs\u001b[0m\u001b[0;34m,\u001b[0m \u001b[0;34m**\u001b[0m\u001b[0mkwargs\u001b[0m\u001b[0;34m)\u001b[0m\u001b[0;34m\u001b[0m\u001b[0;34m\u001b[0m\u001b[0m\n\u001b[0m\u001b[1;32m    397\u001b[0m \u001b[0;34m\u001b[0m\u001b[0m\n\u001b[1;32m    398\u001b[0m   \u001b[0;32mdef\u001b[0m \u001b[0m_reduce_to\u001b[0m\u001b[0;34m(\u001b[0m\u001b[0mself\u001b[0m\u001b[0;34m,\u001b[0m \u001b[0mreduce_op\u001b[0m\u001b[0;34m,\u001b[0m \u001b[0mvalue\u001b[0m\u001b[0;34m,\u001b[0m \u001b[0mdestinations\u001b[0m\u001b[0;34m,\u001b[0m \u001b[0moptions\u001b[0m\u001b[0;34m)\u001b[0m\u001b[0;34m:\u001b[0m\u001b[0;34m\u001b[0m\u001b[0;34m\u001b[0m\u001b[0m\n",
            "\u001b[0;32m/usr/local/lib/python3.7/dist-packages/tensorflow/python/util/traceback_utils.py\u001b[0m in \u001b[0;36merror_handler\u001b[0;34m(*args, **kwargs)\u001b[0m\n\u001b[1;32m    151\u001b[0m     \u001b[0;32mexcept\u001b[0m \u001b[0mException\u001b[0m \u001b[0;32mas\u001b[0m \u001b[0me\u001b[0m\u001b[0;34m:\u001b[0m\u001b[0;34m\u001b[0m\u001b[0;34m\u001b[0m\u001b[0m\n\u001b[1;32m    152\u001b[0m       \u001b[0mfiltered_tb\u001b[0m \u001b[0;34m=\u001b[0m \u001b[0m_process_traceback_frames\u001b[0m\u001b[0;34m(\u001b[0m\u001b[0me\u001b[0m\u001b[0;34m.\u001b[0m\u001b[0m__traceback__\u001b[0m\u001b[0;34m)\u001b[0m\u001b[0;34m\u001b[0m\u001b[0;34m\u001b[0m\u001b[0m\n\u001b[0;32m--> 153\u001b[0;31m       \u001b[0;32mraise\u001b[0m \u001b[0me\u001b[0m\u001b[0;34m.\u001b[0m\u001b[0mwith_traceback\u001b[0m\u001b[0;34m(\u001b[0m\u001b[0mfiltered_tb\u001b[0m\u001b[0;34m)\u001b[0m \u001b[0;32mfrom\u001b[0m \u001b[0;32mNone\u001b[0m\u001b[0;34m\u001b[0m\u001b[0;34m\u001b[0m\u001b[0m\n\u001b[0m\u001b[1;32m    154\u001b[0m     \u001b[0;32mfinally\u001b[0m\u001b[0;34m:\u001b[0m\u001b[0;34m\u001b[0m\u001b[0;34m\u001b[0m\u001b[0m\n\u001b[1;32m    155\u001b[0m       \u001b[0;32mdel\u001b[0m \u001b[0mfiltered_tb\u001b[0m\u001b[0;34m\u001b[0m\u001b[0;34m\u001b[0m\u001b[0m\n",
            "\u001b[0;32m/usr/local/lib/python3.7/dist-packages/tensorflow/python/framework/func_graph.py\u001b[0m in \u001b[0;36mautograph_handler\u001b[0;34m(*args, **kwargs)\u001b[0m\n\u001b[1;32m   1127\u001b[0m           \u001b[0;32mexcept\u001b[0m \u001b[0mException\u001b[0m \u001b[0;32mas\u001b[0m \u001b[0me\u001b[0m\u001b[0;34m:\u001b[0m  \u001b[0;31m# pylint:disable=broad-except\u001b[0m\u001b[0;34m\u001b[0m\u001b[0;34m\u001b[0m\u001b[0m\n\u001b[1;32m   1128\u001b[0m             \u001b[0;32mif\u001b[0m \u001b[0mhasattr\u001b[0m\u001b[0;34m(\u001b[0m\u001b[0me\u001b[0m\u001b[0;34m,\u001b[0m \u001b[0;34m\"ag_error_metadata\"\u001b[0m\u001b[0;34m)\u001b[0m\u001b[0;34m:\u001b[0m\u001b[0;34m\u001b[0m\u001b[0;34m\u001b[0m\u001b[0m\n\u001b[0;32m-> 1129\u001b[0;31m               \u001b[0;32mraise\u001b[0m \u001b[0me\u001b[0m\u001b[0;34m.\u001b[0m\u001b[0mag_error_metadata\u001b[0m\u001b[0;34m.\u001b[0m\u001b[0mto_exception\u001b[0m\u001b[0;34m(\u001b[0m\u001b[0me\u001b[0m\u001b[0;34m)\u001b[0m\u001b[0;34m\u001b[0m\u001b[0;34m\u001b[0m\u001b[0m\n\u001b[0m\u001b[1;32m   1130\u001b[0m             \u001b[0;32melse\u001b[0m\u001b[0;34m:\u001b[0m\u001b[0;34m\u001b[0m\u001b[0;34m\u001b[0m\u001b[0m\n\u001b[1;32m   1131\u001b[0m               \u001b[0;32mraise\u001b[0m\u001b[0;34m\u001b[0m\u001b[0;34m\u001b[0m\u001b[0m\n",
            "\u001b[0;31mValueError\u001b[0m: in user code:\n\n    File \"/usr/local/lib/python3.7/dist-packages/tensorflow_examples/lite/model_maker/core/task/model_spec/object_detector_spec.py\", line 330, in _get_detections  *\n        detections = postprocess.generate_detections(self.config, cls_outputs,\n    File \"/usr/local/lib/python3.7/dist-packages/tensorflow_examples/lite/model_maker/third_party/efficientdet/keras/postprocess.py\", line 579, in generate_detections  *\n        nms_boxes_bs, nms_scores_bs, nms_classes_bs, _ = postprocess(\n    File \"/usr/local/lib/python3.7/dist-packages/tensorflow_examples/lite/model_maker/third_party/efficientdet/keras/postprocess.py\", line 488, in postprocess_per_class  *\n        boxes, scores, classes = pre_nms(params, cls_outputs, box_outputs)\n    File \"/usr/local/lib/python3.7/dist-packages/tensorflow_examples/lite/model_maker/third_party/efficientdet/keras/postprocess.py\", line 151, in pre_nms  *\n        boxes = anchors.decode_box_outputs(box_outputs, anchor_boxes)\n    File \"/usr/local/lib/python3.7/dist-packages/tensorflow_examples/lite/model_maker/third_party/efficientdet/keras/anchors.py\", line 50, in decode_box_outputs  *\n        w = tf.math.exp(tw) * wa\n\n    ValueError: Dimensions must be equal, but are 49104 and 8184 for '{{node mul_1}} = Mul[T=DT_FLOAT](Exp, sub_1)' with input shapes: [13,49104], [13,8184].\n"
          ]
        }
      ]
    },
    {
      "cell_type": "code",
      "source": [
        "# Evaluate pieces\n",
        "pieces_model.evaluate(pieces_val_data)"
      ],
      "metadata": {
        "colab": {
          "base_uri": "https://localhost:8080/"
        },
        "id": "jpu1BtEPUuH0",
        "outputId": "2a6c48bc-9736-4cb0-98eb-322692b44087"
      },
      "execution_count": 14,
      "outputs": [
        {
          "output_type": "stream",
          "name": "stdout",
          "text": [
            "\r1/1 [==============================] - 11s 11s/step\n",
            "\n"
          ]
        },
        {
          "output_type": "execute_result",
          "data": {
            "text/plain": [
              "{'AP': 0.55050194,\n",
              " 'AP50': 0.6877063,\n",
              " 'AP75': 0.5627063,\n",
              " 'AP_/BlackBishop': 0.5393564,\n",
              " 'AP_/BlackKing': 0.9,\n",
              " 'AP_/BlackKnight': 0.0,\n",
              " 'AP_/BlackPawn': 0.0,\n",
              " 'AP_/BlackQueen': 0.93333334,\n",
              " 'AP_/BlackRook': 0.43333334,\n",
              " 'AP_/WhiteBishop': 0.4,\n",
              " 'AP_/WhiteKing': 0.25,\n",
              " 'AP_/WhiteKnight': 0.5,\n",
              " 'AP_/WhitePawn': 0.85,\n",
              " 'AP_/WhiteQueen': 1.0,\n",
              " 'AP_/WhiteRook': 0.8,\n",
              " 'APl': 0.55050194,\n",
              " 'APm': -1.0,\n",
              " 'APs': -1.0,\n",
              " 'ARl': 0.67083335,\n",
              " 'ARm': -1.0,\n",
              " 'ARmax1': 0.6041667,\n",
              " 'ARmax10': 0.67083335,\n",
              " 'ARmax100': 0.67083335,\n",
              " 'ARs': -1.0}"
            ]
          },
          "metadata": {},
          "execution_count": 14
        }
      ]
    },
    {
      "cell_type": "markdown",
      "metadata": {
        "id": "NARVYk9rGLIl"
      },
      "source": [
        "### Step 5: Export as a TensorFlow Lite model.\n",
        "\n",
        "Export the trained object detection model to the TensorFlow Lite format by specifying which folder you want to export the quantized model to. The default post-training quantization technique is [full integer quantization](https://www.tensorflow.org/lite/performance/post_training_integer_quant). This allows the TensorFlow Lite model to be smaller, run faster on Raspberry Pi CPU and also compatible with the Google Coral EdgeTPU."
      ]
    },
    {
      "cell_type": "code",
      "execution_count": 16,
      "metadata": {
        "id": "_u3eFxoBAiqE"
      },
      "outputs": [],
      "source": [
        "# board_model.export(export_dir='.', tflite_filename='board.tflite')\n",
        "pieces_model.export(export_dir='.', tflite_filename='pieces.tflite')"
      ]
    },
    {
      "cell_type": "code",
      "source": [
        "pieces_model.export(export_dir='.', tflite_filename='pieces.tflite')"
      ],
      "metadata": {
        "id": "9Nvenmyslxcx"
      },
      "execution_count": null,
      "outputs": []
    },
    {
      "cell_type": "markdown",
      "metadata": {
        "id": "JZcBmEigOCO3"
      },
      "source": [
        "### Step 6:  Evaluate the TensorFlow Lite model.\n",
        "\n",
        "Several factors can affect the model accuracy when exporting to TFLite:\n",
        "* [Quantization](https://www.tensorflow.org/lite/performance/model_optimization) helps shrinking the model size by 4 times at the expense of some accuracy drop.\n",
        "* The original TensorFlow model uses per-class [non-max supression (NMS)](https://www.coursera.org/lecture/convolutional-neural-networks/non-max-suppression-dvrjH) for post-processing, while the TFLite model uses global NMS that's much faster but less accurate.\n",
        "Keras outputs maximum 100 detections while tflite outputs maximum 25 detections.\n",
        "\n",
        "Therefore you'll have to evaluate the exported TFLite model and compare its accuracy with the original TensorFlow model."
      ]
    },
    {
      "cell_type": "code",
      "execution_count": null,
      "metadata": {
        "colab": {
          "base_uri": "https://localhost:8080/"
        },
        "id": "Jbl8z9_wBPlr",
        "outputId": "bba34e48-37d1-4db8-9e8e-f0cd015b9416"
      },
      "outputs": [
        {
          "output_type": "stream",
          "name": "stdout",
          "text": [
            "13/13 [==============================] - 33s 2s/step\n",
            "\n"
          ]
        },
        {
          "output_type": "execute_result",
          "data": {
            "text/plain": [
              "{'AP': 0.13985275,\n",
              " 'AP50': 0.1923077,\n",
              " 'AP75': 0.115384616,\n",
              " 'AP_/BlackBishop': 0.0,\n",
              " 'AP_/BlackKing': 0.0,\n",
              " 'AP_/BlackKnight': 0.4,\n",
              " 'AP_/BlackPawn': 0.0,\n",
              " 'AP_/BlackQueen': 0.0,\n",
              " 'AP_/BlackRook': 0.0,\n",
              " 'AP_/Board': 0.9180858,\n",
              " 'AP_/WhiteBishop': 0.0,\n",
              " 'AP_/WhiteKing': 0.0,\n",
              " 'AP_/WhiteKnight': 0.0,\n",
              " 'AP_/WhitePawn': 0.5,\n",
              " 'AP_/WhiteQueen': 0.0,\n",
              " 'AP_/WhiteRook': 0.0,\n",
              " 'APl': 0.13985275,\n",
              " 'APm': -1.0,\n",
              " 'APs': -1.0,\n",
              " 'ARl': 0.17159763,\n",
              " 'ARm': -1.0,\n",
              " 'ARmax1': 0.17159763,\n",
              " 'ARmax10': 0.17159763,\n",
              " 'ARmax100': 0.17159763,\n",
              " 'ARs': -1.0}"
            ]
          },
          "metadata": {},
          "execution_count": 28
        }
      ],
      "source": [
        "model.evaluate_tflite('piece.tflite', val_data)"
      ]
    },
    {
      "cell_type": "code",
      "source": [
        "# Evaluate board tflite\n",
        "model.evaluate_tflite('board.tflite', board_val_data)"
      ],
      "metadata": {
        "id": "e7CodjeDVBv5"
      },
      "execution_count": null,
      "outputs": []
    },
    {
      "cell_type": "code",
      "source": [
        "# Evaluate pieces tflite\n",
        "pieces_model.evaluate_tflite('pieces.tflite', pieces_val_data)"
      ],
      "metadata": {
        "id": "WIfeTMUhVHXs",
        "colab": {
          "base_uri": "https://localhost:8080/"
        },
        "outputId": "cc94ac16-e229-427b-8542-323267ff8904"
      },
      "execution_count": 19,
      "outputs": [
        {
          "output_type": "stream",
          "name": "stdout",
          "text": [
            "13/13 [==============================] - 229s 17s/step\n",
            "\n"
          ]
        },
        {
          "output_type": "execute_result",
          "data": {
            "text/plain": [
              "{'AP': 0.335,\n",
              " 'AP50': 0.39166668,\n",
              " 'AP75': 0.39166668,\n",
              " 'AP_/BlackBishop': 0.0,\n",
              " 'AP_/BlackKing': 0.9,\n",
              " 'AP_/BlackKnight': 0.0,\n",
              " 'AP_/BlackPawn': 0.0,\n",
              " 'AP_/BlackQueen': 0.0,\n",
              " 'AP_/BlackRook': 0.4,\n",
              " 'AP_/WhiteBishop': 0.0,\n",
              " 'AP_/WhiteKing': 0.12,\n",
              " 'AP_/WhiteKnight': 0.0,\n",
              " 'AP_/WhitePawn': 0.8,\n",
              " 'AP_/WhiteQueen': 1.0,\n",
              " 'AP_/WhiteRook': 0.8,\n",
              " 'APl': 0.335,\n",
              " 'APm': -1.0,\n",
              " 'APs': -1.0,\n",
              " 'ARl': 0.40833333,\n",
              " 'ARm': -1.0,\n",
              " 'ARmax1': 0.35833332,\n",
              " 'ARmax10': 0.40833333,\n",
              " 'ARmax100': 0.40833333,\n",
              " 'ARs': -1.0}"
            ]
          },
          "metadata": {},
          "execution_count": 19
        }
      ]
    },
    {
      "cell_type": "code",
      "execution_count": 17,
      "metadata": {
        "id": "v7zgUkdOUUnD",
        "colab": {
          "base_uri": "https://localhost:8080/",
          "height": 17
        },
        "outputId": "15f49fcc-c4e2-48ed-e0cb-defb42e6025b"
      },
      "outputs": [
        {
          "output_type": "display_data",
          "data": {
            "application/javascript": [
              "\n",
              "    async function download(id, filename, size) {\n",
              "      if (!google.colab.kernel.accessAllowed) {\n",
              "        return;\n",
              "      }\n",
              "      const div = document.createElement('div');\n",
              "      const label = document.createElement('label');\n",
              "      label.textContent = `Downloading \"${filename}\": `;\n",
              "      div.appendChild(label);\n",
              "      const progress = document.createElement('progress');\n",
              "      progress.max = size;\n",
              "      div.appendChild(progress);\n",
              "      document.body.appendChild(div);\n",
              "\n",
              "      const buffers = [];\n",
              "      let downloaded = 0;\n",
              "\n",
              "      const channel = await google.colab.kernel.comms.open(id);\n",
              "      // Send a message to notify the kernel that we're ready.\n",
              "      channel.send({})\n",
              "\n",
              "      for await (const message of channel.messages) {\n",
              "        // Send a message to notify the kernel that we're ready.\n",
              "        channel.send({})\n",
              "        if (message.buffers) {\n",
              "          for (const buffer of message.buffers) {\n",
              "            buffers.push(buffer);\n",
              "            downloaded += buffer.byteLength;\n",
              "            progress.value = downloaded;\n",
              "          }\n",
              "        }\n",
              "      }\n",
              "      const blob = new Blob(buffers, {type: 'application/binary'});\n",
              "      const a = document.createElement('a');\n",
              "      a.href = window.URL.createObjectURL(blob);\n",
              "      a.download = filename;\n",
              "      div.appendChild(a);\n",
              "      a.click();\n",
              "      div.remove();\n",
              "    }\n",
              "  "
            ],
            "text/plain": [
              "<IPython.core.display.Javascript object>"
            ]
          },
          "metadata": {}
        },
        {
          "output_type": "display_data",
          "data": {
            "application/javascript": [
              "download(\"download_31cca7ad-11de-4609-96ed-1504f40e93cf\", \"pieces.tflite\", 11750468)"
            ],
            "text/plain": [
              "<IPython.core.display.Javascript object>"
            ]
          },
          "metadata": {}
        }
      ],
      "source": [
        "# Download the TFLite model to your local computer.\n",
        "from google.colab import files\n",
        "# files.download('board.tflite')\n",
        "files.download('pieces.tflite')"
      ]
    },
    {
      "cell_type": "code",
      "source": [
        "!pip uninstall opencv-python-headless \n",
        "!pip install opencv-python-headless==4.1.2.30"
      ],
      "metadata": {
        "id": "KZh7jMBdx0m_",
        "outputId": "f34650d2-1bbf-436f-dd00-5027b334724a",
        "colab": {
          "base_uri": "https://localhost:8080/"
        }
      },
      "execution_count": null,
      "outputs": [
        {
          "output_type": "stream",
          "name": "stdout",
          "text": [
            "Found existing installation: opencv-python-headless 4.5.5.62\n",
            "Uninstalling opencv-python-headless-4.5.5.62:\n",
            "  Would remove:\n",
            "    /usr/local/lib/python3.7/dist-packages/cv2/*\n",
            "    /usr/local/lib/python3.7/dist-packages/opencv_python_headless-4.5.5.62.dist-info/*\n",
            "    /usr/local/lib/python3.7/dist-packages/opencv_python_headless.libs/libavcodec-64ac49e1.so.58.91.100\n",
            "    /usr/local/lib/python3.7/dist-packages/opencv_python_headless.libs/libavformat-4b79e479.so.58.45.100\n",
            "    /usr/local/lib/python3.7/dist-packages/opencv_python_headless.libs/libavutil-805734e8.so.56.51.100\n",
            "    /usr/local/lib/python3.7/dist-packages/opencv_python_headless.libs/libbz2-a273e504.so.1.0.6\n",
            "    /usr/local/lib/python3.7/dist-packages/opencv_python_headless.libs/libcrypto-018b8c17.so.1.1\n",
            "    /usr/local/lib/python3.7/dist-packages/opencv_python_headless.libs/libgfortran-91cc3cb1.so.3.0.0\n",
            "    /usr/local/lib/python3.7/dist-packages/opencv_python_headless.libs/libopenblas-r0-f650aae0.3.3.so\n",
            "    /usr/local/lib/python3.7/dist-packages/opencv_python_headless.libs/libpng15-ce838cd1.so.15.13.0\n",
            "    /usr/local/lib/python3.7/dist-packages/opencv_python_headless.libs/libquadmath-96973f99.so.0.0.0\n",
            "    /usr/local/lib/python3.7/dist-packages/opencv_python_headless.libs/libssl-6082116c.so.1.1\n",
            "    /usr/local/lib/python3.7/dist-packages/opencv_python_headless.libs/libswresample-83ce3247.so.3.7.100\n",
            "    /usr/local/lib/python3.7/dist-packages/opencv_python_headless.libs/libswscale-7e960168.so.5.7.100\n",
            "    /usr/local/lib/python3.7/dist-packages/opencv_python_headless.libs/libvpx-392cd848.so.6.4.0\n",
            "  Would not remove (might be manually added):\n",
            "    /usr/local/lib/python3.7/dist-packages/cv2/.libs/libQtCore-bbdab771.so.4.8.7\n",
            "    /usr/local/lib/python3.7/dist-packages/cv2/.libs/libQtGui-903938cd.so.4.8.7\n",
            "    /usr/local/lib/python3.7/dist-packages/cv2/.libs/libQtTest-1183da5d.so.4.8.7\n",
            "    /usr/local/lib/python3.7/dist-packages/cv2/.libs/libavcodec-3cdd3bd4.so.58.62.100\n",
            "    /usr/local/lib/python3.7/dist-packages/cv2/.libs/libavformat-69a63b50.so.58.35.100\n",
            "    /usr/local/lib/python3.7/dist-packages/cv2/.libs/libavutil-8e8979a8.so.56.36.100\n",
            "    /usr/local/lib/python3.7/dist-packages/cv2/.libs/libbz2-7225278b.so.1.0.3\n",
            "    /usr/local/lib/python3.7/dist-packages/cv2/.libs/libcrypto-a25ff511.so.1.1\n",
            "    /usr/local/lib/python3.7/dist-packages/cv2/.libs/libssl-fdf0b66c.so.1.1\n",
            "    /usr/local/lib/python3.7/dist-packages/cv2/.libs/libswresample-c6b3bbb9.so.3.6.100\n",
            "    /usr/local/lib/python3.7/dist-packages/cv2/.libs/libswscale-2d19f7d1.so.5.6.100\n",
            "    /usr/local/lib/python3.7/dist-packages/cv2/.libs/libvpx-c887ea55.so.6.1.0\n",
            "    /usr/local/lib/python3.7/dist-packages/cv2/.libs/libz-a147dcb0.so.1.2.3\n",
            "    /usr/local/lib/python3.7/dist-packages/cv2/cv2.cpython-37m-x86_64-linux-gnu.so\n",
            "Proceed (y/n)? y\n",
            "  Successfully uninstalled opencv-python-headless-4.5.5.62\n",
            "Collecting opencv-python-headless==4.1.2.30\n",
            "  Downloading opencv_python_headless-4.1.2.30-cp37-cp37m-manylinux1_x86_64.whl (21.8 MB)\n",
            "\u001b[K     |████████████████████████████████| 21.8 MB 4.7 MB/s \n",
            "\u001b[?25hRequirement already satisfied: numpy>=1.14.5 in /usr/local/lib/python3.7/dist-packages (from opencv-python-headless==4.1.2.30) (1.19.5)\n",
            "Installing collected packages: opencv-python-headless\n",
            "Successfully installed opencv-python-headless-4.1.2.30\n"
          ]
        }
      ]
    },
    {
      "cell_type": "markdown",
      "metadata": {
        "id": "wnqktl45PZRy"
      },
      "source": [
        "## Test the Android figurine detection model\n",
        "\n",
        "After training the model, let's test it with an image that the model hasn't seen before to get a sense of how good the model is."
      ]
    },
    {
      "cell_type": "code",
      "execution_count": null,
      "metadata": {
        "id": "9ZsLQtJ1AlW_"
      },
      "outputs": [],
      "source": [
        "#@title Load the trained TFLite model and define some visualization functions\n",
        "\n",
        "#@markdown This code comes from the TFLite Object Detection [Raspberry Pi sample](https://github.com/tensorflow/examples/tree/master/lite/examples/object_detection/raspberry_pi).\n",
        "\n",
        "import platform\n",
        "from typing import List, NamedTuple\n",
        "import json\n",
        "\n",
        "import cv2\n",
        "\n",
        "Interpreter = tf.lite.Interpreter\n",
        "load_delegate = tf.lite.experimental.load_delegate\n",
        "\n",
        "# pylint: enable=g-import-not-at-top\n",
        "\n",
        "\n",
        "class ObjectDetectorOptions(NamedTuple):\n",
        "  \"\"\"A config to initialize an object detector.\"\"\"\n",
        "\n",
        "  enable_edgetpu: bool = False\n",
        "  \"\"\"Enable the model to run on EdgeTPU.\"\"\"\n",
        "\n",
        "  label_allow_list: List[str] = None\n",
        "  \"\"\"The optional allow list of labels.\"\"\"\n",
        "\n",
        "  label_deny_list: List[str] = None\n",
        "  \"\"\"The optional deny list of labels.\"\"\"\n",
        "\n",
        "  max_results: int = -1\n",
        "  \"\"\"The maximum number of top-scored detection results to return.\"\"\"\n",
        "\n",
        "  num_threads: int = 1\n",
        "  \"\"\"The number of CPU threads to be used.\"\"\"\n",
        "\n",
        "  score_threshold: float = 0.0\n",
        "  \"\"\"The score threshold of detection results to return.\"\"\"\n",
        "\n",
        "\n",
        "class Rect(NamedTuple):\n",
        "  \"\"\"A rectangle in 2D space.\"\"\"\n",
        "  left: float\n",
        "  top: float\n",
        "  right: float\n",
        "  bottom: float\n",
        "\n",
        "\n",
        "class Category(NamedTuple):\n",
        "  \"\"\"A result of a classification task.\"\"\"\n",
        "  label: str\n",
        "  score: float\n",
        "  index: int\n",
        "\n",
        "\n",
        "class Detection(NamedTuple):\n",
        "  \"\"\"A detected object as the result of an ObjectDetector.\"\"\"\n",
        "  bounding_box: Rect\n",
        "  categories: List[Category]\n",
        "\n",
        "\n",
        "def edgetpu_lib_name():\n",
        "  \"\"\"Returns the library name of EdgeTPU in the current platform.\"\"\"\n",
        "  return {\n",
        "      'Darwin': 'libedgetpu.1.dylib',\n",
        "      'Linux': 'libedgetpu.so.1',\n",
        "      'Windows': 'edgetpu.dll',\n",
        "  }.get(platform.system(), None)\n",
        "\n",
        "\n",
        "class ObjectDetector:\n",
        "  \"\"\"A wrapper class for a TFLite object detection model.\"\"\"\n",
        "\n",
        "  _OUTPUT_LOCATION_NAME = 'location'\n",
        "  _OUTPUT_CATEGORY_NAME = 'category'\n",
        "  _OUTPUT_SCORE_NAME = 'score'\n",
        "  _OUTPUT_NUMBER_NAME = 'number of detections'\n",
        "\n",
        "  def __init__(\n",
        "      self,\n",
        "      model_path: str,\n",
        "      options: ObjectDetectorOptions = ObjectDetectorOptions()\n",
        "  ) -> None:\n",
        "    \"\"\"Initialize a TFLite object detection model.\n",
        "    Args:\n",
        "        model_path: Path to the TFLite model.\n",
        "        options: The config to initialize an object detector. (Optional)\n",
        "    Raises:\n",
        "        ValueError: If the TFLite model is invalid.\n",
        "        OSError: If the current OS isn't supported by EdgeTPU.\n",
        "    \"\"\"\n",
        "\n",
        "    # Load metadata from model.\n",
        "    displayer = metadata.MetadataDisplayer.with_model_file(model_path)\n",
        "\n",
        "    # Save model metadata for preprocessing later.\n",
        "    model_metadata = json.loads(displayer.get_metadata_json())\n",
        "    process_units = model_metadata['subgraph_metadata'][0]['input_tensor_metadata'][0]['process_units']\n",
        "    mean = 0.0\n",
        "    std = 1.0\n",
        "    for option in process_units:\n",
        "      if option['options_type'] == 'NormalizationOptions':\n",
        "        mean = option['options']['mean'][0]\n",
        "        std = option['options']['std'][0]\n",
        "    self._mean = mean\n",
        "    self._std = std\n",
        "\n",
        "    # Load label list from metadata.\n",
        "    file_name = displayer.get_packed_associated_file_list()[0]\n",
        "    label_map_file = displayer.get_associated_file_buffer(file_name).decode()\n",
        "    label_list = list(filter(lambda x: len(x) > 0, label_map_file.splitlines()))\n",
        "    self._label_list = label_list\n",
        "\n",
        "    # Initialize TFLite model.\n",
        "    if options.enable_edgetpu:\n",
        "      if edgetpu_lib_name() is None:\n",
        "        raise OSError(\"The current OS isn't supported by Coral EdgeTPU.\")\n",
        "      interpreter = Interpreter(\n",
        "          model_path=model_path,\n",
        "          experimental_delegates=[load_delegate(edgetpu_lib_name())],\n",
        "          num_threads=options.num_threads)\n",
        "    else:\n",
        "      interpreter = Interpreter(\n",
        "          model_path=model_path, num_threads=options.num_threads)\n",
        "\n",
        "    interpreter.allocate_tensors()\n",
        "    input_detail = interpreter.get_input_details()[0]\n",
        "\n",
        "    # From TensorFlow 2.6, the order of the outputs become undefined.\n",
        "    # Therefore we need to sort the tensor indices of TFLite outputs and to know\n",
        "    # exactly the meaning of each output tensor. For example, if\n",
        "    # output indices are [601, 599, 598, 600], tensor names and indices aligned\n",
        "    # are:\n",
        "    #   - location: 598\n",
        "    #   - category: 599\n",
        "    #   - score: 600\n",
        "    #   - detection_count: 601\n",
        "    # because of the op's ports of TFLITE_DETECTION_POST_PROCESS\n",
        "    # (https://github.com/tensorflow/tensorflow/blob/a4fe268ea084e7d323133ed7b986e0ae259a2bc7/tensorflow/lite/kernels/detection_postprocess.cc#L47-L50).\n",
        "    sorted_output_indices = sorted(\n",
        "        [output['index'] for output in interpreter.get_output_details()])\n",
        "    self._output_indices = {\n",
        "        self._OUTPUT_LOCATION_NAME: sorted_output_indices[0],\n",
        "        self._OUTPUT_CATEGORY_NAME: sorted_output_indices[1],\n",
        "        self._OUTPUT_SCORE_NAME: sorted_output_indices[2],\n",
        "        self._OUTPUT_NUMBER_NAME: sorted_output_indices[3],\n",
        "    }\n",
        "\n",
        "    self._input_size = input_detail['shape'][2], input_detail['shape'][1]\n",
        "    self._is_quantized_input = input_detail['dtype'] == np.uint8\n",
        "    self._interpreter = interpreter\n",
        "    self._options = options\n",
        "\n",
        "  def detect(self, input_image: np.ndarray) -> List[Detection]:\n",
        "    \"\"\"Run detection on an input image.\n",
        "    Args:\n",
        "        input_image: A [height, width, 3] RGB image. Note that height and width\n",
        "          can be anything since the image will be immediately resized according\n",
        "          to the needs of the model within this function.\n",
        "    Returns:\n",
        "        A Person instance.\n",
        "    \"\"\"\n",
        "    image_height, image_width, _ = input_image.shape\n",
        "\n",
        "    input_tensor = self._preprocess(input_image)\n",
        "\n",
        "    self._set_input_tensor(input_tensor)\n",
        "    self._interpreter.invoke()\n",
        "\n",
        "    # Get all output details\n",
        "    boxes = self._get_output_tensor(self._OUTPUT_LOCATION_NAME)\n",
        "    classes = self._get_output_tensor(self._OUTPUT_CATEGORY_NAME)\n",
        "    scores = self._get_output_tensor(self._OUTPUT_SCORE_NAME)\n",
        "    count = int(self._get_output_tensor(self._OUTPUT_NUMBER_NAME))\n",
        "\n",
        "    return self._postprocess(boxes, classes, scores, count, image_width,\n",
        "                             image_height)\n",
        "\n",
        "  def _preprocess(self, input_image: np.ndarray) -> np.ndarray:\n",
        "    \"\"\"Preprocess the input image as required by the TFLite model.\"\"\"\n",
        "\n",
        "    # Resize the input\n",
        "    input_tensor = cv2.resize(input_image, self._input_size)\n",
        "\n",
        "    # Normalize the input if it's a float model (aka. not quantized)\n",
        "    if not self._is_quantized_input:\n",
        "      input_tensor = (np.float32(input_tensor) - self._mean) / self._std\n",
        "\n",
        "    # Add batch dimension\n",
        "    input_tensor = np.expand_dims(input_tensor, axis=0)\n",
        "\n",
        "    return input_tensor\n",
        "\n",
        "  def _set_input_tensor(self, image):\n",
        "    \"\"\"Sets the input tensor.\"\"\"\n",
        "    tensor_index = self._interpreter.get_input_details()[0]['index']\n",
        "    input_tensor = self._interpreter.tensor(tensor_index)()[0]\n",
        "    input_tensor[:, :] = image\n",
        "\n",
        "  def _get_output_tensor(self, name):\n",
        "    \"\"\"Returns the output tensor at the given index.\"\"\"\n",
        "    output_index = self._output_indices[name]\n",
        "    tensor = np.squeeze(self._interpreter.get_tensor(output_index))\n",
        "    return tensor\n",
        "\n",
        "  def _postprocess(self, boxes: np.ndarray, classes: np.ndarray,\n",
        "                   scores: np.ndarray, count: int, image_width: int,\n",
        "                   image_height: int) -> List[Detection]:\n",
        "    \"\"\"Post-process the output of TFLite model into a list of Detection objects.\n",
        "    Args:\n",
        "        boxes: Bounding boxes of detected objects from the TFLite model.\n",
        "        classes: Class index of the detected objects from the TFLite model.\n",
        "        scores: Confidence scores of the detected objects from the TFLite model.\n",
        "        count: Number of detected objects from the TFLite model.\n",
        "        image_width: Width of the input image.\n",
        "        image_height: Height of the input image.\n",
        "    Returns:\n",
        "        A list of Detection objects detected by the TFLite model.\n",
        "    \"\"\"\n",
        "    results = []\n",
        "\n",
        "    # Parse the model output into a list of Detection entities.\n",
        "    for i in range(count):\n",
        "      if scores[i] >= self._options.score_threshold:\n",
        "        y_min, x_min, y_max, x_max = boxes[i]\n",
        "        bounding_box = Rect(\n",
        "            top=int(y_min * image_height),\n",
        "            left=int(x_min * image_width),\n",
        "            bottom=int(y_max * image_height),\n",
        "            right=int(x_max * image_width))\n",
        "        class_id = int(classes[i])\n",
        "        category = Category(\n",
        "            score=scores[i],\n",
        "            label=self._label_list[class_id],  # 0 is reserved for background\n",
        "            index=class_id)\n",
        "        result = Detection(bounding_box=bounding_box, categories=[category])\n",
        "        results.append(result)\n",
        "\n",
        "    # Sort detection results by score ascending\n",
        "    sorted_results = sorted(\n",
        "        results,\n",
        "        key=lambda detection: detection.categories[0].score,\n",
        "        reverse=True)\n",
        "\n",
        "    # Filter out detections in deny list\n",
        "    filtered_results = sorted_results\n",
        "    if self._options.label_deny_list is not None:\n",
        "      filtered_results = list(\n",
        "          filter(\n",
        "              lambda detection: detection.categories[0].label not in self.\n",
        "              _options.label_deny_list, filtered_results))\n",
        "\n",
        "    # Keep only detections in allow list\n",
        "    if self._options.label_allow_list is not None:\n",
        "      filtered_results = list(\n",
        "          filter(\n",
        "              lambda detection: detection.categories[0].label in self._options.\n",
        "              label_allow_list, filtered_results))\n",
        "\n",
        "    # Only return maximum of max_results detection.\n",
        "    if self._options.max_results > 0:\n",
        "      result_count = min(len(filtered_results), self._options.max_results)\n",
        "      filtered_results = filtered_results[:result_count]\n",
        "\n",
        "    return filtered_results\n",
        "\n",
        "\n",
        "_MARGIN = 10  # pixels\n",
        "_ROW_SIZE = 10  # pixels\n",
        "_FONT_SIZE = 1\n",
        "_FONT_THICKNESS = 1\n",
        "_TEXT_COLOR = (0, 0, 255)  # red\n",
        "\n",
        "\n",
        "def visualize(\n",
        "    image: np.ndarray,\n",
        "    detections: List[Detection],\n",
        ") -> np.ndarray:\n",
        "  \"\"\"Draws bounding boxes on the input image and return it.\n",
        "  Args:\n",
        "    image: The input RGB image.\n",
        "    detections: The list of all \"Detection\" entities to be visualize.\n",
        "  Returns:\n",
        "    Image with bounding boxes.\n",
        "  \"\"\"\n",
        "  for detection in detections:\n",
        "    # Draw bounding_box\n",
        "    start_point = detection.bounding_box.left, detection.bounding_box.top\n",
        "    end_point = detection.bounding_box.right, detection.bounding_box.bottom\n",
        "    cv2.rectangle(image, start_point, end_point, _TEXT_COLOR, 3)\n",
        "\n",
        "    # Draw label and score\n",
        "    category = detection.categories[0]\n",
        "    class_name = category.label\n",
        "    probability = round(category.score, 2)\n",
        "    result_text = class_name + ' (' + str(probability) + ')'\n",
        "    text_location = (_MARGIN + detection.bounding_box.left,\n",
        "                     _MARGIN + _ROW_SIZE + detection.bounding_box.top)\n",
        "    cv2.putText(image, result_text, text_location, cv2.FONT_HERSHEY_PLAIN,\n",
        "                _FONT_SIZE, _TEXT_COLOR, _FONT_THICKNESS)\n",
        "\n",
        "  return image"
      ]
    },
    {
      "cell_type": "code",
      "execution_count": null,
      "metadata": {
        "colab": {
          "base_uri": "https://localhost:8080/",
          "height": 356
        },
        "id": "1t1z2fKlAoB0",
        "outputId": "23575877-4d33-4b5d-906b-adf5fb36b019"
      },
      "outputs": [
        {
          "output_type": "error",
          "ename": "FileNotFoundError",
          "evalue": "ignored",
          "traceback": [
            "\u001b[0;31m---------------------------------------------------------------------------\u001b[0m",
            "\u001b[0;31mFileNotFoundError\u001b[0m                         Traceback (most recent call last)",
            "\u001b[0;32m<ipython-input-1-78cf48420086>\u001b[0m in \u001b[0;36m<module>\u001b[0;34m()\u001b[0m\n\u001b[1;32m     12\u001b[0m \u001b[0;34m\u001b[0m\u001b[0m\n\u001b[1;32m     13\u001b[0m \u001b[0;31m# !wget -q -O \"/content/tmp/image.jpg\" \"/content/images/validate/IMG_20220108_202502072.jpg\"\u001b[0m\u001b[0;34m\u001b[0m\u001b[0;34m\u001b[0m\u001b[0;34m\u001b[0m\u001b[0m\n\u001b[0;32m---> 14\u001b[0;31m \u001b[0mimage\u001b[0m \u001b[0;34m=\u001b[0m \u001b[0mImage\u001b[0m\u001b[0;34m.\u001b[0m\u001b[0mopen\u001b[0m\u001b[0;34m(\u001b[0m\u001b[0mTEMP_FILE\u001b[0m\u001b[0;34m)\u001b[0m\u001b[0;34m.\u001b[0m\u001b[0mconvert\u001b[0m\u001b[0;34m(\u001b[0m\u001b[0;34m'RGB'\u001b[0m\u001b[0;34m)\u001b[0m\u001b[0;34m\u001b[0m\u001b[0;34m\u001b[0m\u001b[0m\n\u001b[0m\u001b[1;32m     15\u001b[0m \u001b[0mimage\u001b[0m\u001b[0;34m.\u001b[0m\u001b[0mthumbnail\u001b[0m\u001b[0;34m(\u001b[0m\u001b[0;34m(\u001b[0m\u001b[0;36m512\u001b[0m\u001b[0;34m,\u001b[0m \u001b[0;36m512\u001b[0m\u001b[0;34m)\u001b[0m\u001b[0;34m,\u001b[0m \u001b[0mImage\u001b[0m\u001b[0;34m.\u001b[0m\u001b[0mANTIALIAS\u001b[0m\u001b[0;34m)\u001b[0m\u001b[0;34m\u001b[0m\u001b[0;34m\u001b[0m\u001b[0m\n\u001b[1;32m     16\u001b[0m \u001b[0mimage_np\u001b[0m \u001b[0;34m=\u001b[0m \u001b[0mnp\u001b[0m\u001b[0;34m.\u001b[0m\u001b[0masarray\u001b[0m\u001b[0;34m(\u001b[0m\u001b[0mimage\u001b[0m\u001b[0;34m)\u001b[0m\u001b[0;34m\u001b[0m\u001b[0;34m\u001b[0m\u001b[0m\n",
            "\u001b[0;32m/usr/local/lib/python3.7/dist-packages/PIL/Image.py\u001b[0m in \u001b[0;36mopen\u001b[0;34m(fp, mode)\u001b[0m\n\u001b[1;32m   2841\u001b[0m \u001b[0;34m\u001b[0m\u001b[0m\n\u001b[1;32m   2842\u001b[0m     \u001b[0;32mif\u001b[0m \u001b[0mfilename\u001b[0m\u001b[0;34m:\u001b[0m\u001b[0;34m\u001b[0m\u001b[0;34m\u001b[0m\u001b[0m\n\u001b[0;32m-> 2843\u001b[0;31m         \u001b[0mfp\u001b[0m \u001b[0;34m=\u001b[0m \u001b[0mbuiltins\u001b[0m\u001b[0;34m.\u001b[0m\u001b[0mopen\u001b[0m\u001b[0;34m(\u001b[0m\u001b[0mfilename\u001b[0m\u001b[0;34m,\u001b[0m \u001b[0;34m\"rb\"\u001b[0m\u001b[0;34m)\u001b[0m\u001b[0;34m\u001b[0m\u001b[0;34m\u001b[0m\u001b[0m\n\u001b[0m\u001b[1;32m   2844\u001b[0m         \u001b[0mexclusive_fp\u001b[0m \u001b[0;34m=\u001b[0m \u001b[0;32mTrue\u001b[0m\u001b[0;34m\u001b[0m\u001b[0;34m\u001b[0m\u001b[0m\n\u001b[1;32m   2845\u001b[0m \u001b[0;34m\u001b[0m\u001b[0m\n",
            "\u001b[0;31mFileNotFoundError\u001b[0m: [Errno 2] No such file or directory: '/content/tmp/IMG_20220118_215600551.jpg'"
          ]
        }
      ],
      "source": [
        "#@title Run object detection and show the detection results\n",
        "\n",
        "from PIL import Image\n",
        "\n",
        "INPUT_IMAGE_URL = \"/content/drive/My Drive/Technology fair/Images/test/IMG_20220118_205730005.jpg\" #@param {type:\"string\"}\n",
        "DETECTION_THRESHOLD = 0.2 #@param {type:\"number\"}\n",
        "TFLITE_MODEL_PATH1 = \"pieces.tflite\" #@param {type:\"string\"}\n",
        "TFLITE_MODEL_PATH2 = \"board.tflite\" #@param {type:\"string\"}\n",
        "\n",
        "TEMP_FILE = '/content/tmp/IMG_20220118_215600551.jpg'\n",
        "# TEMP_FILE = '/content/tmp/IMG_20220118_205730005.jpg'\n",
        "\n",
        "# !wget -q -O \"/content/tmp/image.jpg\" \"/content/images/validate/IMG_20220108_202502072.jpg\"\n",
        "image = Image.open(TEMP_FILE).convert('RGB')\n",
        "image.thumbnail((512, 512), Image.ANTIALIAS)\n",
        "image_np = np.asarray(image)\n",
        "\n",
        "# Load the TFLite model\n",
        "options = ObjectDetectorOptions(\n",
        "      num_threads=4,\n",
        "      score_threshold=DETECTION_THRESHOLD,\n",
        ")\n",
        "detector1 = ObjectDetector(model_path=TFLITE_MODEL_PATH1, options=options)\n",
        "detector2 = ObjectDetector(model_path=TFLITE_MODEL_PATH2, options=options)\n",
        "\n",
        "# Run object detection estimation using the model.\n",
        "detections1 = detector1.detect(image_np)\n",
        "detections2 = detector2.detect(image_np)\n",
        "\n",
        "# Draw keypoints and edges on input image\n",
        "image_np = visualize(image_np, detections1+detections2)\n",
        "\n",
        "# Show the detection result\n",
        "Image.fromarray(image_np)"
      ]
    },
    {
      "cell_type": "markdown",
      "metadata": {
        "id": "RWP3fEPaGNvd"
      },
      "source": [
        "## Compile the model for EdgeTPU\n",
        "\n",
        "Finally, we'll compile the model using `edgetpu_compiler` so that the model can run on [Google Coral EdgeTPU](https://coral.ai/).\n",
        "\n",
        "We start with installing the EdgeTPU compiler on Colab."
      ]
    },
    {
      "cell_type": "code",
      "execution_count": null,
      "metadata": {
        "colab": {
          "base_uri": "https://localhost:8080/"
        },
        "id": "kK6AN1xVAsCb",
        "outputId": "0a199dc3-a4df-4b4b-ef2b-b9d88b14cb53"
      },
      "outputs": [
        {
          "name": "stdout",
          "output_type": "stream",
          "text": [
            "  % Total    % Received % Xferd  Average Speed   Time    Time     Time  Current\n",
            "                                 Dload  Upload   Total   Spent    Left  Speed\n",
            "\r  0     0    0     0    0     0      0      0 --:--:-- --:--:-- --:--:--     0\r100  2537  100  2537    0     0  59000      0 --:--:-- --:--:-- --:--:-- 59000\n",
            "OK\n",
            "deb https://packages.cloud.google.com/apt coral-edgetpu-stable main\n",
            "Get:1 http://security.ubuntu.com/ubuntu bionic-security InRelease [88.7 kB]\n",
            "Get:2 https://cloud.r-project.org/bin/linux/ubuntu bionic-cran40/ InRelease [3,626 B]\n",
            "Get:3 http://ppa.launchpad.net/c2d4u.team/c2d4u4.0+/ubuntu bionic InRelease [15.9 kB]\n",
            "Get:4 https://packages.cloud.google.com/apt coral-edgetpu-stable InRelease [6,722 B]\n",
            "Hit:5 http://archive.ubuntu.com/ubuntu bionic InRelease\n",
            "Ign:6 https://developer.download.nvidia.com/compute/cuda/repos/ubuntu1804/x86_64  InRelease\n",
            "Get:7 http://archive.ubuntu.com/ubuntu bionic-updates InRelease [88.7 kB]\n",
            "Get:8 http://security.ubuntu.com/ubuntu bionic-security/main amd64 Packages [2,398 kB]\n",
            "Ign:9 https://developer.download.nvidia.com/compute/machine-learning/repos/ubuntu1804/x86_64  InRelease\n",
            "Get:10 https://developer.download.nvidia.com/compute/cuda/repos/ubuntu1804/x86_64  Release [696 B]\n",
            "Hit:11 https://developer.download.nvidia.com/compute/machine-learning/repos/ubuntu1804/x86_64  Release\n",
            "Get:12 https://developer.download.nvidia.com/compute/cuda/repos/ubuntu1804/x86_64  Release.gpg [836 B]\n",
            "Hit:13 http://ppa.launchpad.net/cran/libgit2/ubuntu bionic InRelease\n",
            "Get:14 https://packages.cloud.google.com/apt coral-edgetpu-stable/main amd64 Packages [2,327 B]\n",
            "Get:15 http://security.ubuntu.com/ubuntu bionic-security/universe amd64 Packages [1,434 kB]\n",
            "Get:16 http://archive.ubuntu.com/ubuntu bionic-backports InRelease [74.6 kB]\n",
            "Hit:17 http://ppa.launchpad.net/deadsnakes/ppa/ubuntu bionic InRelease\n",
            "Get:18 http://ppa.launchpad.net/graphics-drivers/ppa/ubuntu bionic InRelease [21.3 kB]\n",
            "Get:20 https://developer.download.nvidia.com/compute/cuda/repos/ubuntu1804/x86_64  Packages [786 kB]\n",
            "Get:21 http://ppa.launchpad.net/c2d4u.team/c2d4u4.0+/ubuntu bionic/main Sources [1,810 kB]\n",
            "Get:22 http://archive.ubuntu.com/ubuntu bionic-updates/main amd64 Packages [2,835 kB]\n",
            "Get:23 http://archive.ubuntu.com/ubuntu bionic-updates/universe amd64 Packages [2,213 kB]\n",
            "Get:24 http://ppa.launchpad.net/c2d4u.team/c2d4u4.0+/ubuntu bionic/main amd64 Packages [927 kB]\n",
            "Get:25 http://ppa.launchpad.net/graphics-drivers/ppa/ubuntu bionic/main amd64 Packages [44.7 kB]\n",
            "Fetched 12.8 MB in 3s (4,420 kB/s)\n",
            "Reading package lists... Done\n",
            "Reading package lists... Done\n",
            "Building dependency tree       \n",
            "Reading state information... Done\n",
            "The following package was automatically installed and is no longer required:\n",
            "  libnvidia-common-460\n",
            "Use 'sudo apt autoremove' to remove it.\n",
            "The following NEW packages will be installed:\n",
            "  edgetpu-compiler\n",
            "0 upgraded, 1 newly installed, 0 to remove and 61 not upgraded.\n",
            "Need to get 7,913 kB of archives.\n",
            "After this operation, 31.2 MB of additional disk space will be used.\n",
            "Get:1 https://packages.cloud.google.com/apt coral-edgetpu-stable/main amd64 edgetpu-compiler amd64 16.0 [7,913 kB]\n",
            "Fetched 7,913 kB in 0s (20.6 MB/s)\n",
            "debconf: unable to initialize frontend: Dialog\n",
            "debconf: (No usable dialog-like program is installed, so the dialog based frontend cannot be used. at /usr/share/perl5/Debconf/FrontEnd/Dialog.pm line 76, <> line 1.)\n",
            "debconf: falling back to frontend: Readline\n",
            "debconf: unable to initialize frontend: Readline\n",
            "debconf: (This frontend requires a controlling tty.)\n",
            "debconf: falling back to frontend: Teletype\n",
            "dpkg-preconfigure: unable to re-open stdin: \n",
            "Selecting previously unselected package edgetpu-compiler.\n",
            "(Reading database ... 155062 files and directories currently installed.)\n",
            "Preparing to unpack .../edgetpu-compiler_16.0_amd64.deb ...\n",
            "Unpacking edgetpu-compiler (16.0) ...\n",
            "Setting up edgetpu-compiler (16.0) ...\n",
            "Processing triggers for libc-bin (2.27-3ubuntu1.3) ...\n",
            "/sbin/ldconfig.real: /usr/local/lib/python3.7/dist-packages/ideep4py/lib/libmkldnn.so.0 is not a symbolic link\n",
            "\n"
          ]
        }
      ],
      "source": [
        "!curl https://packages.cloud.google.com/apt/doc/apt-key.gpg | sudo apt-key add -\n",
        "!echo \"deb https://packages.cloud.google.com/apt coral-edgetpu-stable main\" | sudo tee /etc/apt/sources.list.d/coral-edgetpu.list\n",
        "!sudo apt-get update\n",
        "!sudo apt-get install edgetpu-compiler"
      ]
    },
    {
      "cell_type": "markdown",
      "metadata": {
        "id": "bIGSdzXkEzrj"
      },
      "source": [
        "**Note:** When training the model using a custom dataset, beware that if your dataset includes more than 20 classes, you'll probably have slower inference speeds compared to if you have fewer classes. This is due to an aspect of the EfficientDet architecture in which a certain layer cannot compile for the Edge TPU when it carries more than 20 classes."
      ]
    },
    {
      "cell_type": "markdown",
      "metadata": {
        "id": "rzF6u0FZTAjF"
      },
      "source": [
        "Before compiling the `.tflite` file for the Edge TPU, it's important to consider whether your model will fit into the Edge TPU memory. \n",
        "\n",
        "The Edge TPU has approximately 8 MB of SRAM for [caching model paramaters](https://coral.ai/docs/edgetpu/compiler/#parameter-data-caching), so any model close to or over 8 MB will not fit onto the Edge TPU memory. That means the inference times are longer, because some model parameters must be fetched from the host system memory.\n",
        "\n",
        "One way to elimiate the extra latency is to use [model pipelining](https://coral.ai/docs/edgetpu/pipeline/), which splits the model into segments that can run on separate Edge TPUs in series. This can significantly reduce the latency for big models.\n",
        "\n",
        "The following table provides recommendations for the number of Edge TPUs to use with each EfficientDet-Lite model.\n",
        "\n",
        "| Model architecture | Minimum TPUs | Recommended TPUs\n",
        "|--------------------|-------|-------|\n",
        "| EfficientDet-Lite0 | 1     | 1     |\n",
        "| EfficientDet-Lite1 | 1     | 1     |\n",
        "| EfficientDet-Lite2 | 1     | 2     |\n",
        "| EfficientDet-Lite3 | 2     | 2     |\n",
        "| EfficientDet-Lite4 | 2     | 3     |\n",
        "\n",
        "If you need extra Edge TPUs for your model, then update `NUMBER_OF_TPUS` here:"
      ]
    },
    {
      "cell_type": "code",
      "execution_count": null,
      "metadata": {
        "colab": {
          "base_uri": "https://localhost:8080/"
        },
        "id": "JyptUjakAwzz",
        "outputId": "7a3dad3b-eeb4-45e1-fb68-f0436ac5a933"
      },
      "outputs": [
        {
          "name": "stdout",
          "output_type": "stream",
          "text": [
            "Edge TPU Compiler version 16.0.384591198\n",
            "Started a compilation timeout timer of 180 seconds.\n",
            "\n",
            "Model compiled successfully in 3127 ms.\n",
            "\n",
            "Input model: android.tflite\n",
            "Input size: 4.22MiB\n",
            "Output model: android_edgetpu.tflite\n",
            "Output size: 5.57MiB\n",
            "On-chip memory used for caching model parameters: 4.21MiB\n",
            "On-chip memory remaining for caching model parameters: 3.29MiB\n",
            "Off-chip memory used for streaming uncached model parameters: 0.00B\n",
            "Number of Edge TPU subgraphs: 1\n",
            "Total number of operations: 267\n",
            "Operation log: android_edgetpu.log\n",
            "\n",
            "Model successfully compiled but not all operations are supported by the Edge TPU. A percentage of the model will instead run on the CPU, which is slower. If possible, consider updating your model to use only operations supported by the Edge TPU. For details, visit g.co/coral/model-reqs.\n",
            "Number of operations that will run on Edge TPU: 264\n",
            "Number of operations that will run on CPU: 3\n",
            "See the operation log file for individual operation details.\n",
            "Compilation child process completed within timeout period.\n",
            "Compilation succeeded! \n"
          ]
        }
      ],
      "source": [
        "NUMBER_OF_TPUS = 1\n",
        "\n",
        "!edgetpu_compiler android.tflite --num_segments=$NUMBER_OF_TPUS"
      ]
    },
    {
      "cell_type": "markdown",
      "metadata": {
        "id": "pJYXucYWTGqZ"
      },
      "source": [
        "Finally, we'll copy the metadata, including the label file, from the original TensorFlow Lite model to the EdgeTPU model."
      ]
    },
    {
      "cell_type": "code",
      "execution_count": null,
      "metadata": {
        "id": "8LY1WrgMJBFd"
      },
      "outputs": [],
      "source": [
        "populator_dst = metadata.MetadataPopulator.with_model_file('android_edgetpu.tflite')\n",
        "\n",
        "with open('android.tflite', 'rb') as f:\n",
        "  populator_dst.load_metadata_and_associated_files(f.read())\n",
        "\n",
        "populator_dst.populate()\n",
        "updated_model_buf = populator_dst.get_model_buffer()"
      ]
    },
    {
      "cell_type": "code",
      "execution_count": null,
      "metadata": {
        "colab": {
          "base_uri": "https://localhost:8080/",
          "height": 17
        },
        "id": "VdRihInCJ3ie",
        "outputId": "f2c37370-6ec3-41e6-903d-22e49e2f7dea"
      },
      "outputs": [
        {
          "data": {
            "application/javascript": "\n    async function download(id, filename, size) {\n      if (!google.colab.kernel.accessAllowed) {\n        return;\n      }\n      const div = document.createElement('div');\n      const label = document.createElement('label');\n      label.textContent = `Downloading \"${filename}\": `;\n      div.appendChild(label);\n      const progress = document.createElement('progress');\n      progress.max = size;\n      div.appendChild(progress);\n      document.body.appendChild(div);\n\n      const buffers = [];\n      let downloaded = 0;\n\n      const channel = await google.colab.kernel.comms.open(id);\n      // Send a message to notify the kernel that we're ready.\n      channel.send({})\n\n      for await (const message of channel.messages) {\n        // Send a message to notify the kernel that we're ready.\n        channel.send({})\n        if (message.buffers) {\n          for (const buffer of message.buffers) {\n            buffers.push(buffer);\n            downloaded += buffer.byteLength;\n            progress.value = downloaded;\n          }\n        }\n      }\n      const blob = new Blob(buffers, {type: 'application/binary'});\n      const a = document.createElement('a');\n      a.href = window.URL.createObjectURL(blob);\n      a.download = filename;\n      div.appendChild(a);\n      a.click();\n      div.remove();\n    }\n  ",
            "text/plain": [
              "<IPython.core.display.Javascript object>"
            ]
          },
          "metadata": {},
          "output_type": "display_data"
        },
        {
          "data": {
            "application/javascript": "download(\"download_f466f03c-e5c8-4a91-a845-258a44b01400\", \"android_edgetpu.tflite\", 5844678)",
            "text/plain": [
              "<IPython.core.display.Javascript object>"
            ]
          },
          "metadata": {},
          "output_type": "display_data"
        }
      ],
      "source": [
        "# Download the TFLite model compiled for EdgeTPU to your local computer.\n",
        "from google.colab import files\n",
        "files.download('android_edgetpu.tflite')"
      ]
    }
  ],
  "metadata": {
    "accelerator": "GPU",
    "colab": {
      "collapsed_sections": [],
      "name": "Final chess_detection.ipynb",
      "provenance": []
    },
    "kernelspec": {
      "display_name": "Python 3",
      "name": "python3"
    },
    "language_info": {
      "name": "python"
    }
  },
  "nbformat": 4,
  "nbformat_minor": 0
}